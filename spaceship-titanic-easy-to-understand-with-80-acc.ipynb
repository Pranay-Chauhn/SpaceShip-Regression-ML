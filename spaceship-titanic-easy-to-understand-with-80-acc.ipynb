{
 "cells": [
  {
   "cell_type": "markdown",
   "id": "2a3cd3e8",
   "metadata": {
    "papermill": {
     "duration": 0.021794,
     "end_time": "2024-10-05T15:29:43.335325",
     "exception": false,
     "start_time": "2024-10-05T15:29:43.313531",
     "status": "completed"
    },
    "tags": []
   },
   "source": [
    "# \"Imagine data as a raw gem, full of potential yet requiring refinement. In this notebook, we embark on a journey to transform this unpolished gem into a polished jewel of insights. By meticulously cleaning the data, exploring its hidden patterns, and carefully tuning our models, we aim to unveil the true value within. Join me as we refine and craft data into powerful knowledge, ready to drive impactful decisions and discoveries.\""
   ]
  },
  {
   "cell_type": "markdown",
   "id": "8eed80bc",
   "metadata": {
    "papermill": {
     "duration": 0.020471,
     "end_time": "2024-10-05T15:29:43.376813",
     "exception": false,
     "start_time": "2024-10-05T15:29:43.356342",
     "status": "completed"
    },
    "tags": []
   },
   "source": [
    "# \"Welcome to this guided exploration of data science! In this notebook, I'll walk you through each step of the process as we transform raw data into actionable insights. Here’s what we’ll cover:\n",
    "\n",
    "1. **Data Cleaning:** Learn how to handle missing values and preprocess the data to prepare it for analysis.\n",
    "2. **Feature Engineering:** Explore techniques to create and optimize features that enhance model performance.\n",
    "3. **Model Selection:** Understand how to evaluate various machine learning models to find the best fit for our data.\n",
    "4. **Hyperparameter Optimization:** See how to fine-tune model parameters using GridSearchCV or RandomizedSearchCV for optimal results.\n",
    "5. **Final Model Training:** Train the selected model with the best parameters and understand the training process.\n",
    "\n",
    "Throughout this journey, my goal is to not only show you the technical steps but also to share insights and best practices that will help you become proficient in data science. Let’s dive in and uncover the potential within our data together!\""
   ]
  },
  {
   "cell_type": "code",
   "execution_count": 1,
   "id": "52902782",
   "metadata": {
    "execution": {
     "iopub.execute_input": "2024-10-05T15:29:43.420732Z",
     "iopub.status.busy": "2024-10-05T15:29:43.420326Z",
     "iopub.status.idle": "2024-10-05T15:29:46.323910Z",
     "shell.execute_reply": "2024-10-05T15:29:46.322756Z"
    },
    "papermill": {
     "duration": 2.928449,
     "end_time": "2024-10-05T15:29:46.326578",
     "exception": false,
     "start_time": "2024-10-05T15:29:43.398129",
     "status": "completed"
    },
    "tags": []
   },
   "outputs": [],
   "source": [
    "import pandas as pd \n",
    "import numpy as np\n",
    "import matplotlib.pyplot as plt\n",
    "%matplotlib inline\n",
    "import seaborn as sns\n",
    "from sklearn.linear_model import LogisticRegression\n",
    "from sklearn.ensemble import RandomForestClassifier\n",
    "from sklearn.tree import DecisionTreeClassifier\n",
    "from sklearn.naive_bayes import GaussianNB\n",
    "from sklearn.svm import SVC"
   ]
  },
  {
   "cell_type": "markdown",
   "id": "99504ec8",
   "metadata": {
    "papermill": {
     "duration": 0.020416,
     "end_time": "2024-10-05T15:29:46.368763",
     "exception": false,
     "start_time": "2024-10-05T15:29:46.348347",
     "status": "completed"
    },
    "tags": []
   },
   "source": [
    "# Data Reading"
   ]
  },
  {
   "cell_type": "code",
   "execution_count": 2,
   "id": "ed289cf4",
   "metadata": {
    "execution": {
     "iopub.execute_input": "2024-10-05T15:29:46.412195Z",
     "iopub.status.busy": "2024-10-05T15:29:46.411646Z",
     "iopub.status.idle": "2024-10-05T15:29:46.536585Z",
     "shell.execute_reply": "2024-10-05T15:29:46.535451Z"
    },
    "papermill": {
     "duration": 0.14917,
     "end_time": "2024-10-05T15:29:46.538857",
     "exception": false,
     "start_time": "2024-10-05T15:29:46.389687",
     "status": "completed"
    },
    "tags": []
   },
   "outputs": [
    {
     "data": {
      "text/html": [
       "<div>\n",
       "<style scoped>\n",
       "    .dataframe tbody tr th:only-of-type {\n",
       "        vertical-align: middle;\n",
       "    }\n",
       "\n",
       "    .dataframe tbody tr th {\n",
       "        vertical-align: top;\n",
       "    }\n",
       "\n",
       "    .dataframe thead th {\n",
       "        text-align: right;\n",
       "    }\n",
       "</style>\n",
       "<table border=\"1\" class=\"dataframe\">\n",
       "  <thead>\n",
       "    <tr style=\"text-align: right;\">\n",
       "      <th></th>\n",
       "      <th>PassengerId</th>\n",
       "      <th>HomePlanet</th>\n",
       "      <th>CryoSleep</th>\n",
       "      <th>Cabin</th>\n",
       "      <th>Destination</th>\n",
       "      <th>Age</th>\n",
       "      <th>VIP</th>\n",
       "      <th>RoomService</th>\n",
       "      <th>FoodCourt</th>\n",
       "      <th>ShoppingMall</th>\n",
       "      <th>Spa</th>\n",
       "      <th>VRDeck</th>\n",
       "      <th>Name</th>\n",
       "      <th>Transported</th>\n",
       "    </tr>\n",
       "  </thead>\n",
       "  <tbody>\n",
       "    <tr>\n",
       "      <th>0</th>\n",
       "      <td>0001_01</td>\n",
       "      <td>Europa</td>\n",
       "      <td>False</td>\n",
       "      <td>B/0/P</td>\n",
       "      <td>TRAPPIST-1e</td>\n",
       "      <td>39.0</td>\n",
       "      <td>False</td>\n",
       "      <td>0.0</td>\n",
       "      <td>0.0</td>\n",
       "      <td>0.0</td>\n",
       "      <td>0.0</td>\n",
       "      <td>0.0</td>\n",
       "      <td>Maham Ofracculy</td>\n",
       "      <td>False</td>\n",
       "    </tr>\n",
       "    <tr>\n",
       "      <th>1</th>\n",
       "      <td>0002_01</td>\n",
       "      <td>Earth</td>\n",
       "      <td>False</td>\n",
       "      <td>F/0/S</td>\n",
       "      <td>TRAPPIST-1e</td>\n",
       "      <td>24.0</td>\n",
       "      <td>False</td>\n",
       "      <td>109.0</td>\n",
       "      <td>9.0</td>\n",
       "      <td>25.0</td>\n",
       "      <td>549.0</td>\n",
       "      <td>44.0</td>\n",
       "      <td>Juanna Vines</td>\n",
       "      <td>True</td>\n",
       "    </tr>\n",
       "    <tr>\n",
       "      <th>2</th>\n",
       "      <td>0003_01</td>\n",
       "      <td>Europa</td>\n",
       "      <td>False</td>\n",
       "      <td>A/0/S</td>\n",
       "      <td>TRAPPIST-1e</td>\n",
       "      <td>58.0</td>\n",
       "      <td>True</td>\n",
       "      <td>43.0</td>\n",
       "      <td>3576.0</td>\n",
       "      <td>0.0</td>\n",
       "      <td>6715.0</td>\n",
       "      <td>49.0</td>\n",
       "      <td>Altark Susent</td>\n",
       "      <td>False</td>\n",
       "    </tr>\n",
       "    <tr>\n",
       "      <th>3</th>\n",
       "      <td>0003_02</td>\n",
       "      <td>Europa</td>\n",
       "      <td>False</td>\n",
       "      <td>A/0/S</td>\n",
       "      <td>TRAPPIST-1e</td>\n",
       "      <td>33.0</td>\n",
       "      <td>False</td>\n",
       "      <td>0.0</td>\n",
       "      <td>1283.0</td>\n",
       "      <td>371.0</td>\n",
       "      <td>3329.0</td>\n",
       "      <td>193.0</td>\n",
       "      <td>Solam Susent</td>\n",
       "      <td>False</td>\n",
       "    </tr>\n",
       "    <tr>\n",
       "      <th>4</th>\n",
       "      <td>0004_01</td>\n",
       "      <td>Earth</td>\n",
       "      <td>False</td>\n",
       "      <td>F/1/S</td>\n",
       "      <td>TRAPPIST-1e</td>\n",
       "      <td>16.0</td>\n",
       "      <td>False</td>\n",
       "      <td>303.0</td>\n",
       "      <td>70.0</td>\n",
       "      <td>151.0</td>\n",
       "      <td>565.0</td>\n",
       "      <td>2.0</td>\n",
       "      <td>Willy Santantines</td>\n",
       "      <td>True</td>\n",
       "    </tr>\n",
       "    <tr>\n",
       "      <th>...</th>\n",
       "      <td>...</td>\n",
       "      <td>...</td>\n",
       "      <td>...</td>\n",
       "      <td>...</td>\n",
       "      <td>...</td>\n",
       "      <td>...</td>\n",
       "      <td>...</td>\n",
       "      <td>...</td>\n",
       "      <td>...</td>\n",
       "      <td>...</td>\n",
       "      <td>...</td>\n",
       "      <td>...</td>\n",
       "      <td>...</td>\n",
       "      <td>...</td>\n",
       "    </tr>\n",
       "    <tr>\n",
       "      <th>8688</th>\n",
       "      <td>9276_01</td>\n",
       "      <td>Europa</td>\n",
       "      <td>False</td>\n",
       "      <td>A/98/P</td>\n",
       "      <td>55 Cancri e</td>\n",
       "      <td>41.0</td>\n",
       "      <td>True</td>\n",
       "      <td>0.0</td>\n",
       "      <td>6819.0</td>\n",
       "      <td>0.0</td>\n",
       "      <td>1643.0</td>\n",
       "      <td>74.0</td>\n",
       "      <td>Gravior Noxnuther</td>\n",
       "      <td>False</td>\n",
       "    </tr>\n",
       "    <tr>\n",
       "      <th>8689</th>\n",
       "      <td>9278_01</td>\n",
       "      <td>Earth</td>\n",
       "      <td>True</td>\n",
       "      <td>G/1499/S</td>\n",
       "      <td>PSO J318.5-22</td>\n",
       "      <td>18.0</td>\n",
       "      <td>False</td>\n",
       "      <td>0.0</td>\n",
       "      <td>0.0</td>\n",
       "      <td>0.0</td>\n",
       "      <td>0.0</td>\n",
       "      <td>0.0</td>\n",
       "      <td>Kurta Mondalley</td>\n",
       "      <td>False</td>\n",
       "    </tr>\n",
       "    <tr>\n",
       "      <th>8690</th>\n",
       "      <td>9279_01</td>\n",
       "      <td>Earth</td>\n",
       "      <td>False</td>\n",
       "      <td>G/1500/S</td>\n",
       "      <td>TRAPPIST-1e</td>\n",
       "      <td>26.0</td>\n",
       "      <td>False</td>\n",
       "      <td>0.0</td>\n",
       "      <td>0.0</td>\n",
       "      <td>1872.0</td>\n",
       "      <td>1.0</td>\n",
       "      <td>0.0</td>\n",
       "      <td>Fayey Connon</td>\n",
       "      <td>True</td>\n",
       "    </tr>\n",
       "    <tr>\n",
       "      <th>8691</th>\n",
       "      <td>9280_01</td>\n",
       "      <td>Europa</td>\n",
       "      <td>False</td>\n",
       "      <td>E/608/S</td>\n",
       "      <td>55 Cancri e</td>\n",
       "      <td>32.0</td>\n",
       "      <td>False</td>\n",
       "      <td>0.0</td>\n",
       "      <td>1049.0</td>\n",
       "      <td>0.0</td>\n",
       "      <td>353.0</td>\n",
       "      <td>3235.0</td>\n",
       "      <td>Celeon Hontichre</td>\n",
       "      <td>False</td>\n",
       "    </tr>\n",
       "    <tr>\n",
       "      <th>8692</th>\n",
       "      <td>9280_02</td>\n",
       "      <td>Europa</td>\n",
       "      <td>False</td>\n",
       "      <td>E/608/S</td>\n",
       "      <td>TRAPPIST-1e</td>\n",
       "      <td>44.0</td>\n",
       "      <td>False</td>\n",
       "      <td>126.0</td>\n",
       "      <td>4688.0</td>\n",
       "      <td>0.0</td>\n",
       "      <td>0.0</td>\n",
       "      <td>12.0</td>\n",
       "      <td>Propsh Hontichre</td>\n",
       "      <td>True</td>\n",
       "    </tr>\n",
       "  </tbody>\n",
       "</table>\n",
       "<p>8693 rows × 14 columns</p>\n",
       "</div>"
      ],
      "text/plain": [
       "     PassengerId HomePlanet CryoSleep     Cabin    Destination   Age    VIP  \\\n",
       "0        0001_01     Europa     False     B/0/P    TRAPPIST-1e  39.0  False   \n",
       "1        0002_01      Earth     False     F/0/S    TRAPPIST-1e  24.0  False   \n",
       "2        0003_01     Europa     False     A/0/S    TRAPPIST-1e  58.0   True   \n",
       "3        0003_02     Europa     False     A/0/S    TRAPPIST-1e  33.0  False   \n",
       "4        0004_01      Earth     False     F/1/S    TRAPPIST-1e  16.0  False   \n",
       "...          ...        ...       ...       ...            ...   ...    ...   \n",
       "8688     9276_01     Europa     False    A/98/P    55 Cancri e  41.0   True   \n",
       "8689     9278_01      Earth      True  G/1499/S  PSO J318.5-22  18.0  False   \n",
       "8690     9279_01      Earth     False  G/1500/S    TRAPPIST-1e  26.0  False   \n",
       "8691     9280_01     Europa     False   E/608/S    55 Cancri e  32.0  False   \n",
       "8692     9280_02     Europa     False   E/608/S    TRAPPIST-1e  44.0  False   \n",
       "\n",
       "      RoomService  FoodCourt  ShoppingMall     Spa  VRDeck               Name  \\\n",
       "0             0.0        0.0           0.0     0.0     0.0    Maham Ofracculy   \n",
       "1           109.0        9.0          25.0   549.0    44.0       Juanna Vines   \n",
       "2            43.0     3576.0           0.0  6715.0    49.0      Altark Susent   \n",
       "3             0.0     1283.0         371.0  3329.0   193.0       Solam Susent   \n",
       "4           303.0       70.0         151.0   565.0     2.0  Willy Santantines   \n",
       "...           ...        ...           ...     ...     ...                ...   \n",
       "8688          0.0     6819.0           0.0  1643.0    74.0  Gravior Noxnuther   \n",
       "8689          0.0        0.0           0.0     0.0     0.0    Kurta Mondalley   \n",
       "8690          0.0        0.0        1872.0     1.0     0.0       Fayey Connon   \n",
       "8691          0.0     1049.0           0.0   353.0  3235.0   Celeon Hontichre   \n",
       "8692        126.0     4688.0           0.0     0.0    12.0   Propsh Hontichre   \n",
       "\n",
       "      Transported  \n",
       "0           False  \n",
       "1            True  \n",
       "2           False  \n",
       "3           False  \n",
       "4            True  \n",
       "...           ...  \n",
       "8688        False  \n",
       "8689        False  \n",
       "8690         True  \n",
       "8691        False  \n",
       "8692         True  \n",
       "\n",
       "[8693 rows x 14 columns]"
      ]
     },
     "execution_count": 2,
     "metadata": {},
     "output_type": "execute_result"
    }
   ],
   "source": [
    "data = pd.read_csv(\"/kaggle/input/spaceship-titanic/train.csv\")\n",
    "test = pd.read_csv(\"/kaggle/input/spaceship-titanic/test.csv\")\n",
    "data"
   ]
  },
  {
   "cell_type": "code",
   "execution_count": 3,
   "id": "13c94341",
   "metadata": {
    "execution": {
     "iopub.execute_input": "2024-10-05T15:29:46.583151Z",
     "iopub.status.busy": "2024-10-05T15:29:46.582219Z",
     "iopub.status.idle": "2024-10-05T15:29:46.588027Z",
     "shell.execute_reply": "2024-10-05T15:29:46.586934Z"
    },
    "papermill": {
     "duration": 0.030567,
     "end_time": "2024-10-05T15:29:46.590514",
     "exception": false,
     "start_time": "2024-10-05T15:29:46.559947",
     "status": "completed"
    },
    "tags": []
   },
   "outputs": [],
   "source": [
    "original_data = data.copy() #Saving the Original data"
   ]
  },
  {
   "cell_type": "code",
   "execution_count": 4,
   "id": "101ff09c",
   "metadata": {
    "execution": {
     "iopub.execute_input": "2024-10-05T15:29:46.635108Z",
     "iopub.status.busy": "2024-10-05T15:29:46.634330Z",
     "iopub.status.idle": "2024-10-05T15:29:46.640107Z",
     "shell.execute_reply": "2024-10-05T15:29:46.639125Z"
    },
    "papermill": {
     "duration": 0.030741,
     "end_time": "2024-10-05T15:29:46.642472",
     "exception": false,
     "start_time": "2024-10-05T15:29:46.611731",
     "status": "completed"
    },
    "tags": []
   },
   "outputs": [],
   "source": [
    "df = data.copy()"
   ]
  },
  {
   "cell_type": "code",
   "execution_count": 5,
   "id": "05a64952",
   "metadata": {
    "execution": {
     "iopub.execute_input": "2024-10-05T15:29:46.687012Z",
     "iopub.status.busy": "2024-10-05T15:29:46.686062Z",
     "iopub.status.idle": "2024-10-05T15:29:46.711313Z",
     "shell.execute_reply": "2024-10-05T15:29:46.710021Z"
    },
    "papermill": {
     "duration": 0.049814,
     "end_time": "2024-10-05T15:29:46.713522",
     "exception": false,
     "start_time": "2024-10-05T15:29:46.663708",
     "status": "completed"
    },
    "tags": []
   },
   "outputs": [
    {
     "name": "stdout",
     "output_type": "stream",
     "text": [
      "<class 'pandas.core.frame.DataFrame'>\n",
      "RangeIndex: 8693 entries, 0 to 8692\n",
      "Data columns (total 14 columns):\n",
      " #   Column        Non-Null Count  Dtype  \n",
      "---  ------        --------------  -----  \n",
      " 0   PassengerId   8693 non-null   object \n",
      " 1   HomePlanet    8492 non-null   object \n",
      " 2   CryoSleep     8476 non-null   object \n",
      " 3   Cabin         8494 non-null   object \n",
      " 4   Destination   8511 non-null   object \n",
      " 5   Age           8514 non-null   float64\n",
      " 6   VIP           8490 non-null   object \n",
      " 7   RoomService   8512 non-null   float64\n",
      " 8   FoodCourt     8510 non-null   float64\n",
      " 9   ShoppingMall  8485 non-null   float64\n",
      " 10  Spa           8510 non-null   float64\n",
      " 11  VRDeck        8505 non-null   float64\n",
      " 12  Name          8493 non-null   object \n",
      " 13  Transported   8693 non-null   bool   \n",
      "dtypes: bool(1), float64(6), object(7)\n",
      "memory usage: 891.5+ KB\n"
     ]
    }
   ],
   "source": [
    "data.info()"
   ]
  },
  {
   "cell_type": "code",
   "execution_count": 6,
   "id": "d51e1e44",
   "metadata": {
    "execution": {
     "iopub.execute_input": "2024-10-05T15:29:46.757745Z",
     "iopub.status.busy": "2024-10-05T15:29:46.757330Z",
     "iopub.status.idle": "2024-10-05T15:29:46.785772Z",
     "shell.execute_reply": "2024-10-05T15:29:46.784756Z"
    },
    "papermill": {
     "duration": 0.053165,
     "end_time": "2024-10-05T15:29:46.787969",
     "exception": false,
     "start_time": "2024-10-05T15:29:46.734804",
     "status": "completed"
    },
    "tags": []
   },
   "outputs": [
    {
     "data": {
      "text/html": [
       "<div>\n",
       "<style scoped>\n",
       "    .dataframe tbody tr th:only-of-type {\n",
       "        vertical-align: middle;\n",
       "    }\n",
       "\n",
       "    .dataframe tbody tr th {\n",
       "        vertical-align: top;\n",
       "    }\n",
       "\n",
       "    .dataframe thead th {\n",
       "        text-align: right;\n",
       "    }\n",
       "</style>\n",
       "<table border=\"1\" class=\"dataframe\">\n",
       "  <thead>\n",
       "    <tr style=\"text-align: right;\">\n",
       "      <th></th>\n",
       "      <th>Age</th>\n",
       "      <th>RoomService</th>\n",
       "      <th>FoodCourt</th>\n",
       "      <th>ShoppingMall</th>\n",
       "      <th>Spa</th>\n",
       "      <th>VRDeck</th>\n",
       "    </tr>\n",
       "  </thead>\n",
       "  <tbody>\n",
       "    <tr>\n",
       "      <th>count</th>\n",
       "      <td>8514.000000</td>\n",
       "      <td>8512.000000</td>\n",
       "      <td>8510.000000</td>\n",
       "      <td>8485.000000</td>\n",
       "      <td>8510.000000</td>\n",
       "      <td>8505.000000</td>\n",
       "    </tr>\n",
       "    <tr>\n",
       "      <th>mean</th>\n",
       "      <td>28.827930</td>\n",
       "      <td>224.687617</td>\n",
       "      <td>458.077203</td>\n",
       "      <td>173.729169</td>\n",
       "      <td>311.138778</td>\n",
       "      <td>304.854791</td>\n",
       "    </tr>\n",
       "    <tr>\n",
       "      <th>std</th>\n",
       "      <td>14.489021</td>\n",
       "      <td>666.717663</td>\n",
       "      <td>1611.489240</td>\n",
       "      <td>604.696458</td>\n",
       "      <td>1136.705535</td>\n",
       "      <td>1145.717189</td>\n",
       "    </tr>\n",
       "    <tr>\n",
       "      <th>min</th>\n",
       "      <td>0.000000</td>\n",
       "      <td>0.000000</td>\n",
       "      <td>0.000000</td>\n",
       "      <td>0.000000</td>\n",
       "      <td>0.000000</td>\n",
       "      <td>0.000000</td>\n",
       "    </tr>\n",
       "    <tr>\n",
       "      <th>25%</th>\n",
       "      <td>19.000000</td>\n",
       "      <td>0.000000</td>\n",
       "      <td>0.000000</td>\n",
       "      <td>0.000000</td>\n",
       "      <td>0.000000</td>\n",
       "      <td>0.000000</td>\n",
       "    </tr>\n",
       "    <tr>\n",
       "      <th>50%</th>\n",
       "      <td>27.000000</td>\n",
       "      <td>0.000000</td>\n",
       "      <td>0.000000</td>\n",
       "      <td>0.000000</td>\n",
       "      <td>0.000000</td>\n",
       "      <td>0.000000</td>\n",
       "    </tr>\n",
       "    <tr>\n",
       "      <th>75%</th>\n",
       "      <td>38.000000</td>\n",
       "      <td>47.000000</td>\n",
       "      <td>76.000000</td>\n",
       "      <td>27.000000</td>\n",
       "      <td>59.000000</td>\n",
       "      <td>46.000000</td>\n",
       "    </tr>\n",
       "    <tr>\n",
       "      <th>max</th>\n",
       "      <td>79.000000</td>\n",
       "      <td>14327.000000</td>\n",
       "      <td>29813.000000</td>\n",
       "      <td>23492.000000</td>\n",
       "      <td>22408.000000</td>\n",
       "      <td>24133.000000</td>\n",
       "    </tr>\n",
       "  </tbody>\n",
       "</table>\n",
       "</div>"
      ],
      "text/plain": [
       "               Age   RoomService     FoodCourt  ShoppingMall           Spa  \\\n",
       "count  8514.000000   8512.000000   8510.000000   8485.000000   8510.000000   \n",
       "mean     28.827930    224.687617    458.077203    173.729169    311.138778   \n",
       "std      14.489021    666.717663   1611.489240    604.696458   1136.705535   \n",
       "min       0.000000      0.000000      0.000000      0.000000      0.000000   \n",
       "25%      19.000000      0.000000      0.000000      0.000000      0.000000   \n",
       "50%      27.000000      0.000000      0.000000      0.000000      0.000000   \n",
       "75%      38.000000     47.000000     76.000000     27.000000     59.000000   \n",
       "max      79.000000  14327.000000  29813.000000  23492.000000  22408.000000   \n",
       "\n",
       "             VRDeck  \n",
       "count   8505.000000  \n",
       "mean     304.854791  \n",
       "std     1145.717189  \n",
       "min        0.000000  \n",
       "25%        0.000000  \n",
       "50%        0.000000  \n",
       "75%       46.000000  \n",
       "max    24133.000000  "
      ]
     },
     "execution_count": 6,
     "metadata": {},
     "output_type": "execute_result"
    }
   ],
   "source": [
    "data.describe()"
   ]
  },
  {
   "cell_type": "code",
   "execution_count": 7,
   "id": "580c0eee",
   "metadata": {
    "execution": {
     "iopub.execute_input": "2024-10-05T15:29:46.833082Z",
     "iopub.status.busy": "2024-10-05T15:29:46.832205Z",
     "iopub.status.idle": "2024-10-05T15:29:46.844287Z",
     "shell.execute_reply": "2024-10-05T15:29:46.843160Z"
    },
    "papermill": {
     "duration": 0.037119,
     "end_time": "2024-10-05T15:29:46.846648",
     "exception": false,
     "start_time": "2024-10-05T15:29:46.809529",
     "status": "completed"
    },
    "tags": []
   },
   "outputs": [
    {
     "data": {
      "text/plain": [
       "PassengerId       0\n",
       "HomePlanet      201\n",
       "CryoSleep       217\n",
       "Cabin           199\n",
       "Destination     182\n",
       "Age             179\n",
       "VIP             203\n",
       "RoomService     181\n",
       "FoodCourt       183\n",
       "ShoppingMall    208\n",
       "Spa             183\n",
       "VRDeck          188\n",
       "Name            200\n",
       "Transported       0\n",
       "dtype: int64"
      ]
     },
     "execution_count": 7,
     "metadata": {},
     "output_type": "execute_result"
    }
   ],
   "source": [
    "data.isnull().sum()"
   ]
  },
  {
   "cell_type": "markdown",
   "id": "8cb78e06",
   "metadata": {
    "papermill": {
     "duration": 0.021755,
     "end_time": "2024-10-05T15:29:46.890536",
     "exception": false,
     "start_time": "2024-10-05T15:29:46.868781",
     "status": "completed"
    },
    "tags": []
   },
   "source": [
    "# Data Visualization"
   ]
  },
  {
   "cell_type": "code",
   "execution_count": 8,
   "id": "fb0f99aa",
   "metadata": {
    "execution": {
     "iopub.execute_input": "2024-10-05T15:29:46.936223Z",
     "iopub.status.busy": "2024-10-05T15:29:46.935816Z",
     "iopub.status.idle": "2024-10-05T15:29:47.385197Z",
     "shell.execute_reply": "2024-10-05T15:29:47.384167Z"
    },
    "papermill": {
     "duration": 0.474669,
     "end_time": "2024-10-05T15:29:47.387484",
     "exception": false,
     "start_time": "2024-10-05T15:29:46.912815",
     "status": "completed"
    },
    "tags": []
   },
   "outputs": [
    {
     "name": "stderr",
     "output_type": "stream",
     "text": [
      "/opt/conda/lib/python3.10/site-packages/seaborn/_oldcore.py:1119: FutureWarning: use_inf_as_na option is deprecated and will be removed in a future version. Convert inf values to NaN before operating instead.\n",
      "  with pd.option_context('mode.use_inf_as_na', True):\n"
     ]
    },
    {
     "data": {
      "image/png": "[encoded data removed]",
      "text/plain": [
       "<Figure size 1000x600 with 1 Axes>"
      ]
     },
     "metadata": {},
     "output_type": "display_data"
    }
   ],
   "source": [
    "plt.figure(figsize=(10, 6))\n",
    "sns.histplot(df['Age'], bins=30, kde=True, color='blue')\n",
    "plt.title('Age Distribution of Passengers')\n",
    "plt.xlabel('Age')\n",
    "plt.ylabel('Frequency')\n",
    "plt.grid(True)\n",
    "plt.show()"
   ]
  },
  {
   "cell_type": "code",
   "execution_count": 9,
   "id": "4ab82e46",
   "metadata": {
    "execution": {
     "iopub.execute_input": "2024-10-05T15:29:47.435821Z",
     "iopub.status.busy": "2024-10-05T15:29:47.435381Z",
     "iopub.status.idle": "2024-10-05T15:29:47.719902Z",
     "shell.execute_reply": "2024-10-05T15:29:47.718695Z"
    },
    "papermill": {
     "duration": 0.311236,
     "end_time": "2024-10-05T15:29:47.722231",
     "exception": false,
     "start_time": "2024-10-05T15:29:47.410995",
     "status": "completed"
    },
    "tags": []
   },
   "outputs": [
    {
     "data": {
      "image/png": "[encoded data removed]",
      "text/plain": [
       "<Figure size 1000x600 with 1 Axes>"
      ]
     },
     "metadata": {},
     "output_type": "display_data"
    }
   ],
   "source": [
    "plt.figure(figsize=(10, 6))\n",
    "sns.countplot(data=df, x='HomePlanet',hue = 'Transported', palette='viridis',)\n",
    "plt.title('Count of Passengers by Home Planet')\n",
    "plt.xlabel('Home Planet')\n",
    "plt.ylabel('Number of Passengers')\n",
    "plt.grid(True)\n",
    "plt.show()\n"
   ]
  },
  {
   "cell_type": "code",
   "execution_count": 10,
   "id": "41eff089",
   "metadata": {
    "execution": {
     "iopub.execute_input": "2024-10-05T15:29:47.770776Z",
     "iopub.status.busy": "2024-10-05T15:29:47.769845Z",
     "iopub.status.idle": "2024-10-05T15:29:48.030766Z",
     "shell.execute_reply": "2024-10-05T15:29:48.029662Z"
    },
    "papermill": {
     "duration": 0.287404,
     "end_time": "2024-10-05T15:29:48.033308",
     "exception": false,
     "start_time": "2024-10-05T15:29:47.745904",
     "status": "completed"
    },
    "tags": []
   },
   "outputs": [
    {
     "data": {
      "image/png": "[encoded data removed]",
      "text/plain": [
       "<Figure size 1000x600 with 1 Axes>"
      ]
     },
     "metadata": {},
     "output_type": "display_data"
    }
   ],
   "source": [
    "plt.figure(figsize=(10, 6))\n",
    "sns.boxplot(data=df, x='Transported' , y='Age' , palette='Set2')\n",
    "plt.title('Age Distribution by Transported Status')\n",
    "plt.xlabel('Transported')\n",
    "plt.ylabel('Age')\n",
    "plt.grid(True)\n",
    "plt.show()"
   ]
  },
  {
   "cell_type": "code",
   "execution_count": 11,
   "id": "f9324075",
   "metadata": {
    "execution": {
     "iopub.execute_input": "2024-10-05T15:29:48.082944Z",
     "iopub.status.busy": "2024-10-05T15:29:48.082567Z",
     "iopub.status.idle": "2024-10-05T15:29:48.384862Z",
     "shell.execute_reply": "2024-10-05T15:29:48.383773Z"
    },
    "papermill": {
     "duration": 0.330191,
     "end_time": "2024-10-05T15:29:48.387107",
     "exception": false,
     "start_time": "2024-10-05T15:29:48.056916",
     "status": "completed"
    },
    "tags": []
   },
   "outputs": [
    {
     "data": {
      "image/png": "[encoded data removed]",
      "text/plain": [
       "<Figure size 800x500 with 2 Axes>"
      ]
     },
     "metadata": {},
     "output_type": "display_data"
    }
   ],
   "source": [
    "# Create a pivot table for heatmap\n",
    "pivot_table = df.pivot_table(index = 'HomePlanet' , columns = 'Transported' , values = 'PassengerId' ,aggfunc = \"count\")\n",
    "\n",
    "plt.figure(figsize=(8, 5))\n",
    "sns.heatmap(pivot_table, annot=True, cmap='YlGnBu', fmt='g')\n",
    "plt.title('Heatmap of Home Planet vs Transported Status')\n",
    "plt.xlabel('Transported')\n",
    "plt.ylabel('Home Planet')\n",
    "plt.show()\n"
   ]
  },
  {
   "cell_type": "code",
   "execution_count": 12,
   "id": "0e91e16c",
   "metadata": {
    "execution": {
     "iopub.execute_input": "2024-10-05T15:29:48.437113Z",
     "iopub.status.busy": "2024-10-05T15:29:48.436739Z",
     "iopub.status.idle": "2024-10-05T15:29:48.451518Z",
     "shell.execute_reply": "2024-10-05T15:29:48.450412Z"
    },
    "papermill": {
     "duration": 0.042121,
     "end_time": "2024-10-05T15:29:48.453613",
     "exception": false,
     "start_time": "2024-10-05T15:29:48.411492",
     "status": "completed"
    },
    "tags": []
   },
   "outputs": [],
   "source": [
    "#Extract Deck and Side of Cabin \n",
    "df['Deck'] = df.Cabin.str[0]\n",
    "df['Side'] = df.Cabin.str[-1]"
   ]
  },
  {
   "cell_type": "code",
   "execution_count": 13,
   "id": "f87ab0ea",
   "metadata": {
    "execution": {
     "iopub.execute_input": "2024-10-05T15:29:48.503363Z",
     "iopub.status.busy": "2024-10-05T15:29:48.502688Z",
     "iopub.status.idle": "2024-10-05T15:29:48.513177Z",
     "shell.execute_reply": "2024-10-05T15:29:48.512154Z"
    },
    "papermill": {
     "duration": 0.037788,
     "end_time": "2024-10-05T15:29:48.515343",
     "exception": false,
     "start_time": "2024-10-05T15:29:48.477555",
     "status": "completed"
    },
    "tags": []
   },
   "outputs": [],
   "source": [
    "test['Deck'] = test.Cabin.str[0]\n",
    "test['Side'] = test.Cabin.str[-1]"
   ]
  },
  {
   "cell_type": "code",
   "execution_count": 14,
   "id": "6b6e3795",
   "metadata": {
    "execution": {
     "iopub.execute_input": "2024-10-05T15:29:48.618199Z",
     "iopub.status.busy": "2024-10-05T15:29:48.617108Z",
     "iopub.status.idle": "2024-10-05T15:29:48.642333Z",
     "shell.execute_reply": "2024-10-05T15:29:48.641324Z"
    },
    "papermill": {
     "duration": 0.053088,
     "end_time": "2024-10-05T15:29:48.644748",
     "exception": false,
     "start_time": "2024-10-05T15:29:48.591660",
     "status": "completed"
    },
    "tags": []
   },
   "outputs": [
    {
     "data": {
      "text/html": [
       "<div>\n",
       "<style scoped>\n",
       "    .dataframe tbody tr th:only-of-type {\n",
       "        vertical-align: middle;\n",
       "    }\n",
       "\n",
       "    .dataframe tbody tr th {\n",
       "        vertical-align: top;\n",
       "    }\n",
       "\n",
       "    .dataframe thead th {\n",
       "        text-align: right;\n",
       "    }\n",
       "</style>\n",
       "<table border=\"1\" class=\"dataframe\">\n",
       "  <thead>\n",
       "    <tr style=\"text-align: right;\">\n",
       "      <th></th>\n",
       "      <th>PassengerId</th>\n",
       "      <th>HomePlanet</th>\n",
       "      <th>CryoSleep</th>\n",
       "      <th>Cabin</th>\n",
       "      <th>Destination</th>\n",
       "      <th>Age</th>\n",
       "      <th>VIP</th>\n",
       "      <th>RoomService</th>\n",
       "      <th>FoodCourt</th>\n",
       "      <th>ShoppingMall</th>\n",
       "      <th>Spa</th>\n",
       "      <th>VRDeck</th>\n",
       "      <th>Name</th>\n",
       "      <th>Transported</th>\n",
       "      <th>Deck</th>\n",
       "      <th>Side</th>\n",
       "    </tr>\n",
       "  </thead>\n",
       "  <tbody>\n",
       "    <tr>\n",
       "      <th>0</th>\n",
       "      <td>0001_01</td>\n",
       "      <td>Europa</td>\n",
       "      <td>False</td>\n",
       "      <td>B/0/P</td>\n",
       "      <td>TRAPPIST-1e</td>\n",
       "      <td>39.0</td>\n",
       "      <td>False</td>\n",
       "      <td>0.0</td>\n",
       "      <td>0.0</td>\n",
       "      <td>0.0</td>\n",
       "      <td>0.0</td>\n",
       "      <td>0.0</td>\n",
       "      <td>Maham Ofracculy</td>\n",
       "      <td>False</td>\n",
       "      <td>B</td>\n",
       "      <td>P</td>\n",
       "    </tr>\n",
       "    <tr>\n",
       "      <th>1</th>\n",
       "      <td>0002_01</td>\n",
       "      <td>Earth</td>\n",
       "      <td>False</td>\n",
       "      <td>F/0/S</td>\n",
       "      <td>TRAPPIST-1e</td>\n",
       "      <td>24.0</td>\n",
       "      <td>False</td>\n",
       "      <td>109.0</td>\n",
       "      <td>9.0</td>\n",
       "      <td>25.0</td>\n",
       "      <td>549.0</td>\n",
       "      <td>44.0</td>\n",
       "      <td>Juanna Vines</td>\n",
       "      <td>True</td>\n",
       "      <td>F</td>\n",
       "      <td>S</td>\n",
       "    </tr>\n",
       "    <tr>\n",
       "      <th>2</th>\n",
       "      <td>0003_01</td>\n",
       "      <td>Europa</td>\n",
       "      <td>False</td>\n",
       "      <td>A/0/S</td>\n",
       "      <td>TRAPPIST-1e</td>\n",
       "      <td>58.0</td>\n",
       "      <td>True</td>\n",
       "      <td>43.0</td>\n",
       "      <td>3576.0</td>\n",
       "      <td>0.0</td>\n",
       "      <td>6715.0</td>\n",
       "      <td>49.0</td>\n",
       "      <td>Altark Susent</td>\n",
       "      <td>False</td>\n",
       "      <td>A</td>\n",
       "      <td>S</td>\n",
       "    </tr>\n",
       "    <tr>\n",
       "      <th>3</th>\n",
       "      <td>0003_02</td>\n",
       "      <td>Europa</td>\n",
       "      <td>False</td>\n",
       "      <td>A/0/S</td>\n",
       "      <td>TRAPPIST-1e</td>\n",
       "      <td>33.0</td>\n",
       "      <td>False</td>\n",
       "      <td>0.0</td>\n",
       "      <td>1283.0</td>\n",
       "      <td>371.0</td>\n",
       "      <td>3329.0</td>\n",
       "      <td>193.0</td>\n",
       "      <td>Solam Susent</td>\n",
       "      <td>False</td>\n",
       "      <td>A</td>\n",
       "      <td>S</td>\n",
       "    </tr>\n",
       "    <tr>\n",
       "      <th>4</th>\n",
       "      <td>0004_01</td>\n",
       "      <td>Earth</td>\n",
       "      <td>False</td>\n",
       "      <td>F/1/S</td>\n",
       "      <td>TRAPPIST-1e</td>\n",
       "      <td>16.0</td>\n",
       "      <td>False</td>\n",
       "      <td>303.0</td>\n",
       "      <td>70.0</td>\n",
       "      <td>151.0</td>\n",
       "      <td>565.0</td>\n",
       "      <td>2.0</td>\n",
       "      <td>Willy Santantines</td>\n",
       "      <td>True</td>\n",
       "      <td>F</td>\n",
       "      <td>S</td>\n",
       "    </tr>\n",
       "    <tr>\n",
       "      <th>...</th>\n",
       "      <td>...</td>\n",
       "      <td>...</td>\n",
       "      <td>...</td>\n",
       "      <td>...</td>\n",
       "      <td>...</td>\n",
       "      <td>...</td>\n",
       "      <td>...</td>\n",
       "      <td>...</td>\n",
       "      <td>...</td>\n",
       "      <td>...</td>\n",
       "      <td>...</td>\n",
       "      <td>...</td>\n",
       "      <td>...</td>\n",
       "      <td>...</td>\n",
       "      <td>...</td>\n",
       "      <td>...</td>\n",
       "    </tr>\n",
       "    <tr>\n",
       "      <th>8688</th>\n",
       "      <td>9276_01</td>\n",
       "      <td>Europa</td>\n",
       "      <td>False</td>\n",
       "      <td>A/98/P</td>\n",
       "      <td>55 Cancri e</td>\n",
       "      <td>41.0</td>\n",
       "      <td>True</td>\n",
       "      <td>0.0</td>\n",
       "      <td>6819.0</td>\n",
       "      <td>0.0</td>\n",
       "      <td>1643.0</td>\n",
       "      <td>74.0</td>\n",
       "      <td>Gravior Noxnuther</td>\n",
       "      <td>False</td>\n",
       "      <td>A</td>\n",
       "      <td>P</td>\n",
       "    </tr>\n",
       "    <tr>\n",
       "      <th>8689</th>\n",
       "      <td>9278_01</td>\n",
       "      <td>Earth</td>\n",
       "      <td>True</td>\n",
       "      <td>G/1499/S</td>\n",
       "      <td>PSO J318.5-22</td>\n",
       "      <td>18.0</td>\n",
       "      <td>False</td>\n",
       "      <td>0.0</td>\n",
       "      <td>0.0</td>\n",
       "      <td>0.0</td>\n",
       "      <td>0.0</td>\n",
       "      <td>0.0</td>\n",
       "      <td>Kurta Mondalley</td>\n",
       "      <td>False</td>\n",
       "      <td>G</td>\n",
       "      <td>S</td>\n",
       "    </tr>\n",
       "    <tr>\n",
       "      <th>8690</th>\n",
       "      <td>9279_01</td>\n",
       "      <td>Earth</td>\n",
       "      <td>False</td>\n",
       "      <td>G/1500/S</td>\n",
       "      <td>TRAPPIST-1e</td>\n",
       "      <td>26.0</td>\n",
       "      <td>False</td>\n",
       "      <td>0.0</td>\n",
       "      <td>0.0</td>\n",
       "      <td>1872.0</td>\n",
       "      <td>1.0</td>\n",
       "      <td>0.0</td>\n",
       "      <td>Fayey Connon</td>\n",
       "      <td>True</td>\n",
       "      <td>G</td>\n",
       "      <td>S</td>\n",
       "    </tr>\n",
       "    <tr>\n",
       "      <th>8691</th>\n",
       "      <td>9280_01</td>\n",
       "      <td>Europa</td>\n",
       "      <td>False</td>\n",
       "      <td>E/608/S</td>\n",
       "      <td>55 Cancri e</td>\n",
       "      <td>32.0</td>\n",
       "      <td>False</td>\n",
       "      <td>0.0</td>\n",
       "      <td>1049.0</td>\n",
       "      <td>0.0</td>\n",
       "      <td>353.0</td>\n",
       "      <td>3235.0</td>\n",
       "      <td>Celeon Hontichre</td>\n",
       "      <td>False</td>\n",
       "      <td>E</td>\n",
       "      <td>S</td>\n",
       "    </tr>\n",
       "    <tr>\n",
       "      <th>8692</th>\n",
       "      <td>9280_02</td>\n",
       "      <td>Europa</td>\n",
       "      <td>False</td>\n",
       "      <td>E/608/S</td>\n",
       "      <td>TRAPPIST-1e</td>\n",
       "      <td>44.0</td>\n",
       "      <td>False</td>\n",
       "      <td>126.0</td>\n",
       "      <td>4688.0</td>\n",
       "      <td>0.0</td>\n",
       "      <td>0.0</td>\n",
       "      <td>12.0</td>\n",
       "      <td>Propsh Hontichre</td>\n",
       "      <td>True</td>\n",
       "      <td>E</td>\n",
       "      <td>S</td>\n",
       "    </tr>\n",
       "  </tbody>\n",
       "</table>\n",
       "<p>8693 rows × 16 columns</p>\n",
       "</div>"
      ],
      "text/plain": [
       "     PassengerId HomePlanet CryoSleep     Cabin    Destination   Age    VIP  \\\n",
       "0        0001_01     Europa     False     B/0/P    TRAPPIST-1e  39.0  False   \n",
       "1        0002_01      Earth     False     F/0/S    TRAPPIST-1e  24.0  False   \n",
       "2        0003_01     Europa     False     A/0/S    TRAPPIST-1e  58.0   True   \n",
       "3        0003_02     Europa     False     A/0/S    TRAPPIST-1e  33.0  False   \n",
       "4        0004_01      Earth     False     F/1/S    TRAPPIST-1e  16.0  False   \n",
       "...          ...        ...       ...       ...            ...   ...    ...   \n",
       "8688     9276_01     Europa     False    A/98/P    55 Cancri e  41.0   True   \n",
       "8689     9278_01      Earth      True  G/1499/S  PSO J318.5-22  18.0  False   \n",
       "8690     9279_01      Earth     False  G/1500/S    TRAPPIST-1e  26.0  False   \n",
       "8691     9280_01     Europa     False   E/608/S    55 Cancri e  32.0  False   \n",
       "8692     9280_02     Europa     False   E/608/S    TRAPPIST-1e  44.0  False   \n",
       "\n",
       "      RoomService  FoodCourt  ShoppingMall     Spa  VRDeck               Name  \\\n",
       "0             0.0        0.0           0.0     0.0     0.0    Maham Ofracculy   \n",
       "1           109.0        9.0          25.0   549.0    44.0       Juanna Vines   \n",
       "2            43.0     3576.0           0.0  6715.0    49.0      Altark Susent   \n",
       "3             0.0     1283.0         371.0  3329.0   193.0       Solam Susent   \n",
       "4           303.0       70.0         151.0   565.0     2.0  Willy Santantines   \n",
       "...           ...        ...           ...     ...     ...                ...   \n",
       "8688          0.0     6819.0           0.0  1643.0    74.0  Gravior Noxnuther   \n",
       "8689          0.0        0.0           0.0     0.0     0.0    Kurta Mondalley   \n",
       "8690          0.0        0.0        1872.0     1.0     0.0       Fayey Connon   \n",
       "8691          0.0     1049.0           0.0   353.0  3235.0   Celeon Hontichre   \n",
       "8692        126.0     4688.0           0.0     0.0    12.0   Propsh Hontichre   \n",
       "\n",
       "      Transported Deck Side  \n",
       "0           False    B    P  \n",
       "1            True    F    S  \n",
       "2           False    A    S  \n",
       "3           False    A    S  \n",
       "4            True    F    S  \n",
       "...           ...  ...  ...  \n",
       "8688        False    A    P  \n",
       "8689        False    G    S  \n",
       "8690         True    G    S  \n",
       "8691        False    E    S  \n",
       "8692         True    E    S  \n",
       "\n",
       "[8693 rows x 16 columns]"
      ]
     },
     "execution_count": 14,
     "metadata": {},
     "output_type": "execute_result"
    }
   ],
   "source": [
    "df"
   ]
  },
  {
   "cell_type": "code",
   "execution_count": 15,
   "id": "2c5231a0",
   "metadata": {
    "execution": {
     "iopub.execute_input": "2024-10-05T15:29:48.696134Z",
     "iopub.status.busy": "2024-10-05T15:29:48.695752Z",
     "iopub.status.idle": "2024-10-05T15:29:49.027664Z",
     "shell.execute_reply": "2024-10-05T15:29:49.026613Z"
    },
    "papermill": {
     "duration": 0.360143,
     "end_time": "2024-10-05T15:29:49.030053",
     "exception": false,
     "start_time": "2024-10-05T15:29:48.669910",
     "status": "completed"
    },
    "tags": []
   },
   "outputs": [
    {
     "data": {
      "image/png": "[encoded data removed]",
      "text/plain": [
       "<Figure size 640x480 with 1 Axes>"
      ]
     },
     "metadata": {},
     "output_type": "display_data"
    }
   ],
   "source": [
    "#PLot Count of Deck \n",
    "sns.countplot(data=df , x='Deck' , hue = 'Transported' ,palette='coolwarm')\n",
    "plt.title('Count of Passenger by Deck and Transported Status')\n",
    "plt.show()"
   ]
  },
  {
   "cell_type": "code",
   "execution_count": 16,
   "id": "fb9fd991",
   "metadata": {
    "execution": {
     "iopub.execute_input": "2024-10-05T15:29:49.088923Z",
     "iopub.status.busy": "2024-10-05T15:29:49.088321Z",
     "iopub.status.idle": "2024-10-05T15:29:49.311023Z",
     "shell.execute_reply": "2024-10-05T15:29:49.309642Z"
    },
    "papermill": {
     "duration": 0.257939,
     "end_time": "2024-10-05T15:29:49.313744",
     "exception": false,
     "start_time": "2024-10-05T15:29:49.055805",
     "status": "completed"
    },
    "tags": []
   },
   "outputs": [
    {
     "data": {
      "image/png": "[encoded data removed]",
      "text/plain": [
       "<Figure size 640x480 with 1 Axes>"
      ]
     },
     "metadata": {},
     "output_type": "display_data"
    }
   ],
   "source": [
    "#PLot Count of Deck \n",
    "sns.countplot(data=df , x='Side' , hue = 'Transported' ,palette='coolwarm')\n",
    "plt.title('Count of Passenger by Deck and Transported Status')\n",
    "plt.show()"
   ]
  },
  {
   "cell_type": "code",
   "execution_count": 17,
   "id": "511fce05",
   "metadata": {
    "execution": {
     "iopub.execute_input": "2024-10-05T15:29:49.375640Z",
     "iopub.status.busy": "2024-10-05T15:29:49.374702Z",
     "iopub.status.idle": "2024-10-05T15:29:49.383969Z",
     "shell.execute_reply": "2024-10-05T15:29:49.382962Z"
    },
    "papermill": {
     "duration": 0.041329,
     "end_time": "2024-10-05T15:29:49.386226",
     "exception": false,
     "start_time": "2024-10-05T15:29:49.344897",
     "status": "completed"
    },
    "tags": []
   },
   "outputs": [],
   "source": [
    "# Creating New Column for Total Spends\n",
    "df['Total_Spends'] = df[['RoomService', 'FoodCourt', 'ShoppingMall', 'Spa', 'VRDeck']].sum(axis = 1)"
   ]
  },
  {
   "cell_type": "code",
   "execution_count": 18,
   "id": "14e0fee6",
   "metadata": {
    "execution": {
     "iopub.execute_input": "2024-10-05T15:29:49.439655Z",
     "iopub.status.busy": "2024-10-05T15:29:49.438883Z",
     "iopub.status.idle": "2024-10-05T15:29:49.447698Z",
     "shell.execute_reply": "2024-10-05T15:29:49.446404Z"
    },
    "papermill": {
     "duration": 0.038039,
     "end_time": "2024-10-05T15:29:49.450032",
     "exception": false,
     "start_time": "2024-10-05T15:29:49.411993",
     "status": "completed"
    },
    "tags": []
   },
   "outputs": [],
   "source": [
    "# Creating New Column for Total Spends\n",
    "test['Total_Spends'] = test[['RoomService', 'FoodCourt', 'ShoppingMall', 'Spa', 'VRDeck']].sum(axis = 1)"
   ]
  },
  {
   "cell_type": "code",
   "execution_count": 19,
   "id": "e896ce15",
   "metadata": {
    "execution": {
     "iopub.execute_input": "2024-10-05T15:29:49.503503Z",
     "iopub.status.busy": "2024-10-05T15:29:49.502630Z",
     "iopub.status.idle": "2024-10-05T15:29:50.189469Z",
     "shell.execute_reply": "2024-10-05T15:29:50.188296Z"
    },
    "papermill": {
     "duration": 0.716248,
     "end_time": "2024-10-05T15:29:50.191972",
     "exception": false,
     "start_time": "2024-10-05T15:29:49.475724",
     "status": "completed"
    },
    "tags": []
   },
   "outputs": [
    {
     "name": "stderr",
     "output_type": "stream",
     "text": [
      "/opt/conda/lib/python3.10/site-packages/seaborn/_oldcore.py:1119: FutureWarning: use_inf_as_na option is deprecated and will be removed in a future version. Convert inf values to NaN before operating instead.\n",
      "  with pd.option_context('mode.use_inf_as_na', True):\n",
      "/opt/conda/lib/python3.10/site-packages/seaborn/_oldcore.py:1075: FutureWarning: When grouping with a length-1 list-like, you will need to pass a length-1 tuple to get_group in a future version of pandas. Pass `(name,)` instead of `name` to silence this warning.\n",
      "  data_subset = grouped_data.get_group(pd_key)\n",
      "/opt/conda/lib/python3.10/site-packages/seaborn/_oldcore.py:1075: FutureWarning: When grouping with a length-1 list-like, you will need to pass a length-1 tuple to get_group in a future version of pandas. Pass `(name,)` instead of `name` to silence this warning.\n",
      "  data_subset = grouped_data.get_group(pd_key)\n",
      "/opt/conda/lib/python3.10/site-packages/seaborn/_oldcore.py:1075: FutureWarning: When grouping with a length-1 list-like, you will need to pass a length-1 tuple to get_group in a future version of pandas. Pass `(name,)` instead of `name` to silence this warning.\n",
      "  data_subset = grouped_data.get_group(pd_key)\n"
     ]
    },
    {
     "data": {
      "image/png": "[encoded data removed]",
      "text/plain": [
       "<Figure size 1000x600 with 1 Axes>"
      ]
     },
     "metadata": {},
     "output_type": "display_data"
    }
   ],
   "source": [
    "# Plot distribution of total service cost by transported status\n",
    "plt.figure(figsize=(10,6))\n",
    "sns.histplot(data=df, x='Total_Spends', hue='Transported', bins=40, kde=True, palette='husl',multiple = \"dodge\")\n",
    "plt.title('Distribution of Total Service Cost by Transported Status')\n",
    "plt.show()"
   ]
  },
  {
   "cell_type": "markdown",
   "id": "0aaa6432",
   "metadata": {
    "papermill": {
     "duration": 0.026549,
     "end_time": "2024-10-05T15:29:50.245083",
     "exception": false,
     "start_time": "2024-10-05T15:29:50.218534",
     "status": "completed"
    },
    "tags": []
   },
   "source": []
  },
  {
   "cell_type": "code",
   "execution_count": 20,
   "id": "af0003a1",
   "metadata": {
    "execution": {
     "iopub.execute_input": "2024-10-05T15:29:50.300223Z",
     "iopub.status.busy": "2024-10-05T15:29:50.299827Z",
     "iopub.status.idle": "2024-10-05T15:29:51.734778Z",
     "shell.execute_reply": "2024-10-05T15:29:51.733690Z"
    },
    "papermill": {
     "duration": 1.465004,
     "end_time": "2024-10-05T15:29:51.737103",
     "exception": false,
     "start_time": "2024-10-05T15:29:50.272099",
     "status": "completed"
    },
    "tags": []
   },
   "outputs": [
    {
     "name": "stderr",
     "output_type": "stream",
     "text": [
      "/opt/conda/lib/python3.10/site-packages/seaborn/_oldcore.py:1119: FutureWarning: use_inf_as_na option is deprecated and will be removed in a future version. Convert inf values to NaN before operating instead.\n",
      "  with pd.option_context('mode.use_inf_as_na', True):\n",
      "/opt/conda/lib/python3.10/site-packages/seaborn/_oldcore.py:1119: FutureWarning: use_inf_as_na option is deprecated and will be removed in a future version. Convert inf values to NaN before operating instead.\n",
      "  with pd.option_context('mode.use_inf_as_na', True):\n",
      "/opt/conda/lib/python3.10/site-packages/seaborn/_oldcore.py:1119: FutureWarning: use_inf_as_na option is deprecated and will be removed in a future version. Convert inf values to NaN before operating instead.\n",
      "  with pd.option_context('mode.use_inf_as_na', True):\n",
      "/opt/conda/lib/python3.10/site-packages/seaborn/_oldcore.py:1119: FutureWarning: use_inf_as_na option is deprecated and will be removed in a future version. Convert inf values to NaN before operating instead.\n",
      "  with pd.option_context('mode.use_inf_as_na', True):\n",
      "/opt/conda/lib/python3.10/site-packages/seaborn/_oldcore.py:1119: FutureWarning: use_inf_as_na option is deprecated and will be removed in a future version. Convert inf values to NaN before operating instead.\n",
      "  with pd.option_context('mode.use_inf_as_na', True):\n",
      "/opt/conda/lib/python3.10/site-packages/seaborn/_oldcore.py:1119: FutureWarning: use_inf_as_na option is deprecated and will be removed in a future version. Convert inf values to NaN before operating instead.\n",
      "  with pd.option_context('mode.use_inf_as_na', True):\n"
     ]
    },
    {
     "data": {
      "image/png": "[encoded data removed]",
      "text/plain": [
       "<Figure size 1533.86x400 with 3 Axes>"
      ]
     },
     "metadata": {},
     "output_type": "display_data"
    }
   ],
   "source": [
    "# Facet grid for HomePlanet, Age, and Transported status\n",
    "g = sns.FacetGrid(df, col=\"HomePlanet\", hue=\"Transported\", height=4, aspect=1.2)\n",
    "g.map(sns.histplot, 'Age', bins=20, kde=False)\n",
    "g.add_legend()\n",
    "plt.show()"
   ]
  },
  {
   "cell_type": "code",
   "execution_count": 21,
   "id": "acf63be6",
   "metadata": {
    "execution": {
     "iopub.execute_input": "2024-10-05T15:29:51.793361Z",
     "iopub.status.busy": "2024-10-05T15:29:51.792904Z",
     "iopub.status.idle": "2024-10-05T15:29:53.183938Z",
     "shell.execute_reply": "2024-10-05T15:29:53.182813Z"
    },
    "papermill": {
     "duration": 1.421648,
     "end_time": "2024-10-05T15:29:53.186168",
     "exception": false,
     "start_time": "2024-10-05T15:29:51.764520",
     "status": "completed"
    },
    "tags": []
   },
   "outputs": [
    {
     "data": {
      "image/png": "[encoded data removed]",
      "text/plain": [
       "<Figure size 1000x600 with 1 Axes>"
      ]
     },
     "metadata": {},
     "output_type": "display_data"
    },
    {
     "data": {
      "image/png": "[encoded data removed]",
      "text/plain": [
       "<Figure size 1000x600 with 1 Axes>"
      ]
     },
     "metadata": {},
     "output_type": "display_data"
    },
    {
     "data": {
      "image/png": "[encoded data removed]",
      "text/plain": [
       "<Figure size 1000x600 with 1 Axes>"
      ]
     },
     "metadata": {},
     "output_type": "display_data"
    },
    {
     "data": {
      "image/png": "[encoded data removed]",
      "text/plain": [
       "<Figure size 1000x600 with 1 Axes>"
      ]
     },
     "metadata": {},
     "output_type": "display_data"
    },
    {
     "data": {
      "image/png": "[encoded data removed]",
      "text/plain": [
       "<Figure size 1000x600 with 1 Axes>"
      ]
     },
     "metadata": {},
     "output_type": "display_data"
    }
   ],
   "source": [
    "# Create a bar plot for categorical features and transported status\n",
    "categorical_features = ['HomePlanet', 'CryoSleep', 'VIP', 'Deck', 'Side']\n",
    "for feature in categorical_features:\n",
    "    plt.figure(figsize=(10, 6))\n",
    "    sns.countplot(data=df, x=feature, hue='Transported', palette='Pastel2')\n",
    "    plt.title(f'{feature} vs Transported Status')\n",
    "    plt.show()"
   ]
  },
  {
   "cell_type": "code",
   "execution_count": 22,
   "id": "5da34a38",
   "metadata": {
    "execution": {
     "iopub.execute_input": "2024-10-05T15:29:53.249008Z",
     "iopub.status.busy": "2024-10-05T15:29:53.248584Z",
     "iopub.status.idle": "2024-10-05T15:29:53.737353Z",
     "shell.execute_reply": "2024-10-05T15:29:53.736235Z"
    },
    "papermill": {
     "duration": 0.52276,
     "end_time": "2024-10-05T15:29:53.739840",
     "exception": false,
     "start_time": "2024-10-05T15:29:53.217080",
     "status": "completed"
    },
    "tags": []
   },
   "outputs": [
    {
     "data": {
      "image/png": "[encoded data removed]",
      "text/plain": [
       "<Figure size 1000x600 with 1 Axes>"
      ]
     },
     "metadata": {},
     "output_type": "display_data"
    }
   ],
   "source": [
    "plt.figure(figsize=(10, 6))\n",
    "sns.barplot(data=df , x='Deck', y='Total_Spends')\n",
    "plt.title(\"Total_Spends average of Each Deck \")\n",
    "plt.xlabel('DECK')\n",
    "plt.ylabel('TOTAL SPENDS')\n",
    "plt.show()"
   ]
  },
  {
   "cell_type": "code",
   "execution_count": null,
   "id": "4cd8f9a7",
   "metadata": {
    "papermill": {
     "duration": 0.030698,
     "end_time": "2024-10-05T15:29:53.800934",
     "exception": false,
     "start_time": "2024-10-05T15:29:53.770236",
     "status": "completed"
    },
    "tags": []
   },
   "outputs": [],
   "source": []
  },
  {
   "cell_type": "code",
   "execution_count": 23,
   "id": "963b836a",
   "metadata": {
    "execution": {
     "iopub.execute_input": "2024-10-05T15:29:53.863632Z",
     "iopub.status.busy": "2024-10-05T15:29:53.863158Z",
     "iopub.status.idle": "2024-10-05T15:29:54.177119Z",
     "shell.execute_reply": "2024-10-05T15:29:54.175996Z"
    },
    "papermill": {
     "duration": 0.347993,
     "end_time": "2024-10-05T15:29:54.179404",
     "exception": false,
     "start_time": "2024-10-05T15:29:53.831411",
     "status": "completed"
    },
    "tags": []
   },
   "outputs": [
    {
     "data": {
      "image/png": "[encoded data removed]",
      "text/plain": [
       "<Figure size 800x400 with 1 Axes>"
      ]
     },
     "metadata": {},
     "output_type": "display_data"
    }
   ],
   "source": [
    "plt.figure(figsize=(8, 4))\n",
    "sns.countplot(data=df , x='Deck' , hue = 'Side')\n",
    "plt.title('Count of Sides on Each Deck' )\n",
    "plt.ylabel('Count')\n",
    "plt.show()"
   ]
  },
  {
   "cell_type": "code",
   "execution_count": 24,
   "id": "3343dbf4",
   "metadata": {
    "execution": {
     "iopub.execute_input": "2024-10-05T15:29:54.242724Z",
     "iopub.status.busy": "2024-10-05T15:29:54.242333Z",
     "iopub.status.idle": "2024-10-05T15:29:54.586835Z",
     "shell.execute_reply": "2024-10-05T15:29:54.585777Z"
    },
    "papermill": {
     "duration": 0.378624,
     "end_time": "2024-10-05T15:29:54.589090",
     "exception": false,
     "start_time": "2024-10-05T15:29:54.210466",
     "status": "completed"
    },
    "tags": []
   },
   "outputs": [
    {
     "data": {
      "text/plain": [
       "Text(0.5, 1.0, 'Total Spends On Each Sides')"
      ]
     },
     "execution_count": 24,
     "metadata": {},
     "output_type": "execute_result"
    },
    {
     "data": {
      "image/png": "[encoded data removed]",
      "text/plain": [
       "<Figure size 600x500 with 1 Axes>"
      ]
     },
     "metadata": {},
     "output_type": "display_data"
    }
   ],
   "source": [
    "plt.figure(figsize=(6, 5))\n",
    "sns.barplot(data=df , y='Total_Spends' , x = 'Side' )\n",
    "plt.title('Total Spends On Each Sides')"
   ]
  },
  {
   "cell_type": "code",
   "execution_count": 25,
   "id": "4ee45a70",
   "metadata": {
    "execution": {
     "iopub.execute_input": "2024-10-05T15:29:54.654135Z",
     "iopub.status.busy": "2024-10-05T15:29:54.653733Z",
     "iopub.status.idle": "2024-10-05T15:29:54.885699Z",
     "shell.execute_reply": "2024-10-05T15:29:54.884360Z"
    },
    "papermill": {
     "duration": 0.267516,
     "end_time": "2024-10-05T15:29:54.888337",
     "exception": false,
     "start_time": "2024-10-05T15:29:54.620821",
     "status": "completed"
    },
    "tags": []
   },
   "outputs": [
    {
     "data": {
      "image/png": "[encoded data removed]",
      "text/plain": [
       "<Figure size 800x400 with 1 Axes>"
      ]
     },
     "metadata": {},
     "output_type": "display_data"
    }
   ],
   "source": [
    "plt.figure(figsize=(8, 4))\n",
    "sns.countplot(data=df , x='Side' , hue = 'Transported')\n",
    "plt.title('Sides by transportation' )\n",
    "plt.ylabel('Count')\n",
    "plt.show()"
   ]
  },
  {
   "cell_type": "code",
   "execution_count": 26,
   "id": "a13e6a95",
   "metadata": {
    "execution": {
     "iopub.execute_input": "2024-10-05T15:29:54.953510Z",
     "iopub.status.busy": "2024-10-05T15:29:54.953089Z",
     "iopub.status.idle": "2024-10-05T15:29:55.176260Z",
     "shell.execute_reply": "2024-10-05T15:29:55.175147Z"
    },
    "papermill": {
     "duration": 0.25847,
     "end_time": "2024-10-05T15:29:55.178754",
     "exception": false,
     "start_time": "2024-10-05T15:29:54.920284",
     "status": "completed"
    },
    "tags": []
   },
   "outputs": [
    {
     "data": {
      "image/png": "[encoded data removed]",
      "text/plain": [
       "<Figure size 2000x500 with 1 Axes>"
      ]
     },
     "metadata": {},
     "output_type": "display_data"
    }
   ],
   "source": [
    "plt.figure(figsize=(20, 5))\n",
    "sns.countplot(data=df , y='Side')\n",
    "plt.title('Sides by transportation' )\n",
    "plt.ylabel('Count')\n",
    "plt.show()"
   ]
  },
  {
   "cell_type": "code",
   "execution_count": 27,
   "id": "e68ee04b",
   "metadata": {
    "execution": {
     "iopub.execute_input": "2024-10-05T15:29:55.244585Z",
     "iopub.status.busy": "2024-10-05T15:29:55.243819Z",
     "iopub.status.idle": "2024-10-05T15:29:55.250723Z",
     "shell.execute_reply": "2024-10-05T15:29:55.249709Z"
    },
    "papermill": {
     "duration": 0.042125,
     "end_time": "2024-10-05T15:29:55.252952",
     "exception": false,
     "start_time": "2024-10-05T15:29:55.210827",
     "status": "completed"
    },
    "tags": []
   },
   "outputs": [
    {
     "data": {
      "text/plain": [
       "array(['TRAPPIST-1e', 'PSO J318.5-22', '55 Cancri e', nan], dtype=object)"
      ]
     },
     "execution_count": 27,
     "metadata": {},
     "output_type": "execute_result"
    }
   ],
   "source": [
    "data.Destination.unique()"
   ]
  },
  {
   "cell_type": "code",
   "execution_count": 28,
   "id": "ef949c23",
   "metadata": {
    "execution": {
     "iopub.execute_input": "2024-10-05T15:29:55.318397Z",
     "iopub.status.busy": "2024-10-05T15:29:55.317995Z",
     "iopub.status.idle": "2024-10-05T15:29:55.540041Z",
     "shell.execute_reply": "2024-10-05T15:29:55.538859Z"
    },
    "papermill": {
     "duration": 0.257509,
     "end_time": "2024-10-05T15:29:55.542344",
     "exception": false,
     "start_time": "2024-10-05T15:29:55.284835",
     "status": "completed"
    },
    "tags": []
   },
   "outputs": [
    {
     "data": {
      "image/png": "[encoded data removed]",
      "text/plain": [
       "<Figure size 800x500 with 1 Axes>"
      ]
     },
     "metadata": {},
     "output_type": "display_data"
    }
   ],
   "source": [
    "plt.figure(figsize =(8,5))\n",
    "sns.countplot(data=df , x='Destination' , hue='Transported')\n",
    "plt.title('Count of Destinaton by Transported')\n",
    "plt.ylabel('Count')\n",
    "plt.show()"
   ]
  },
  {
   "cell_type": "code",
   "execution_count": 29,
   "id": "13177b89",
   "metadata": {
    "execution": {
     "iopub.execute_input": "2024-10-05T15:29:55.611190Z",
     "iopub.status.busy": "2024-10-05T15:29:55.610189Z",
     "iopub.status.idle": "2024-10-05T15:29:55.615262Z",
     "shell.execute_reply": "2024-10-05T15:29:55.614186Z"
    },
    "papermill": {
     "duration": 0.041757,
     "end_time": "2024-10-05T15:29:55.617413",
     "exception": false,
     "start_time": "2024-10-05T15:29:55.575656",
     "status": "completed"
    },
    "tags": []
   },
   "outputs": [],
   "source": [
    "# most of the people are from Earth ,almost ~70% people from europa survived whereas ~50% people from mars survived and less than 40% survived from planet earth\n",
    "# People with Cryosleep have Mostlikely Survived\n",
    "# Being Vip havent played any crucial role\n",
    "# Most of the people are from Deck F and G  i.e. assuming Deck A are for VIP  where Deck B,C  RIch Class and Deck D,E Middle Class and Deck F,G Lower Class and Deck T Crew Class\n",
    "# Here Survival Rate is baised accoridng to class\n",
    "# Survival Rate on Side S is little higher\n",
    "# People Whose Destination is CAncri have 60% Survial Rate"
   ]
  },
  {
   "cell_type": "markdown",
   "id": "38073e49",
   "metadata": {
    "papermill": {
     "duration": 0.032143,
     "end_time": "2024-10-05T15:29:55.682143",
     "exception": false,
     "start_time": "2024-10-05T15:29:55.650000",
     "status": "completed"
    },
    "tags": []
   },
   "source": [
    "# **1. Data Cleaning**"
   ]
  },
  {
   "cell_type": "code",
   "execution_count": 30,
   "id": "67cad81c",
   "metadata": {
    "execution": {
     "iopub.execute_input": "2024-10-05T15:29:55.749436Z",
     "iopub.status.busy": "2024-10-05T15:29:55.749033Z",
     "iopub.status.idle": "2024-10-05T15:29:55.756168Z",
     "shell.execute_reply": "2024-10-05T15:29:55.755203Z"
    },
    "papermill": {
     "duration": 0.04405,
     "end_time": "2024-10-05T15:29:55.758525",
     "exception": false,
     "start_time": "2024-10-05T15:29:55.714475",
     "status": "completed"
    },
    "tags": []
   },
   "outputs": [],
   "source": [
    "df.drop(['PassengerId','Name'],axis =1,inplace=True)"
   ]
  },
  {
   "cell_type": "code",
   "execution_count": 31,
   "id": "3d88cbbe",
   "metadata": {
    "execution": {
     "iopub.execute_input": "2024-10-05T15:29:55.826006Z",
     "iopub.status.busy": "2024-10-05T15:29:55.825188Z",
     "iopub.status.idle": "2024-10-05T15:29:55.831651Z",
     "shell.execute_reply": "2024-10-05T15:29:55.830623Z"
    },
    "papermill": {
     "duration": 0.042667,
     "end_time": "2024-10-05T15:29:55.834022",
     "exception": false,
     "start_time": "2024-10-05T15:29:55.791355",
     "status": "completed"
    },
    "tags": []
   },
   "outputs": [],
   "source": [
    "test1 = test.drop(['PassengerId','Name'],axis =1)"
   ]
  },
  {
   "cell_type": "code",
   "execution_count": 32,
   "id": "1f7a5b3e",
   "metadata": {
    "execution": {
     "iopub.execute_input": "2024-10-05T15:29:55.900882Z",
     "iopub.status.busy": "2024-10-05T15:29:55.900484Z",
     "iopub.status.idle": "2024-10-05T15:29:55.913607Z",
     "shell.execute_reply": "2024-10-05T15:29:55.912605Z"
    },
    "papermill": {
     "duration": 0.049278,
     "end_time": "2024-10-05T15:29:55.915847",
     "exception": false,
     "start_time": "2024-10-05T15:29:55.866569",
     "status": "completed"
    },
    "tags": []
   },
   "outputs": [
    {
     "data": {
      "text/plain": [
       "HomePlanet      201\n",
       "CryoSleep       217\n",
       "Cabin           199\n",
       "Destination     182\n",
       "Age             179\n",
       "VIP             203\n",
       "RoomService     181\n",
       "FoodCourt       183\n",
       "ShoppingMall    208\n",
       "Spa             183\n",
       "VRDeck          188\n",
       "Transported       0\n",
       "Deck            199\n",
       "Side            199\n",
       "Total_Spends      0\n",
       "dtype: int64"
      ]
     },
     "execution_count": 32,
     "metadata": {},
     "output_type": "execute_result"
    }
   ],
   "source": [
    "df.isnull().sum()"
   ]
  },
  {
   "cell_type": "code",
   "execution_count": 33,
   "id": "774a1170",
   "metadata": {
    "execution": {
     "iopub.execute_input": "2024-10-05T15:29:55.984752Z",
     "iopub.status.busy": "2024-10-05T15:29:55.984348Z",
     "iopub.status.idle": "2024-10-05T15:29:55.991333Z",
     "shell.execute_reply": "2024-10-05T15:29:55.990327Z"
    },
    "papermill": {
     "duration": 0.043606,
     "end_time": "2024-10-05T15:29:55.993530",
     "exception": false,
     "start_time": "2024-10-05T15:29:55.949924",
     "status": "completed"
    },
    "tags": []
   },
   "outputs": [
    {
     "data": {
      "text/plain": [
       "(8693, 15)"
      ]
     },
     "execution_count": 33,
     "metadata": {},
     "output_type": "execute_result"
    }
   ],
   "source": [
    "df.shape"
   ]
  },
  {
   "cell_type": "code",
   "execution_count": 34,
   "id": "729fd860",
   "metadata": {
    "execution": {
     "iopub.execute_input": "2024-10-05T15:29:56.062438Z",
     "iopub.status.busy": "2024-10-05T15:29:56.061667Z",
     "iopub.status.idle": "2024-10-05T15:29:56.092191Z",
     "shell.execute_reply": "2024-10-05T15:29:56.091214Z"
    },
    "papermill": {
     "duration": 0.067071,
     "end_time": "2024-10-05T15:29:56.094584",
     "exception": false,
     "start_time": "2024-10-05T15:29:56.027513",
     "status": "completed"
    },
    "tags": []
   },
   "outputs": [
    {
     "data": {
      "text/html": [
       "<div>\n",
       "<style scoped>\n",
       "    .dataframe tbody tr th:only-of-type {\n",
       "        vertical-align: middle;\n",
       "    }\n",
       "\n",
       "    .dataframe tbody tr th {\n",
       "        vertical-align: top;\n",
       "    }\n",
       "\n",
       "    .dataframe thead th {\n",
       "        text-align: right;\n",
       "    }\n",
       "</style>\n",
       "<table border=\"1\" class=\"dataframe\">\n",
       "  <thead>\n",
       "    <tr style=\"text-align: right;\">\n",
       "      <th></th>\n",
       "      <th>HomePlanet</th>\n",
       "      <th>CryoSleep</th>\n",
       "      <th>Cabin</th>\n",
       "      <th>Destination</th>\n",
       "      <th>Age</th>\n",
       "      <th>VIP</th>\n",
       "      <th>RoomService</th>\n",
       "      <th>FoodCourt</th>\n",
       "      <th>ShoppingMall</th>\n",
       "      <th>Spa</th>\n",
       "      <th>VRDeck</th>\n",
       "      <th>Transported</th>\n",
       "      <th>Deck</th>\n",
       "      <th>Side</th>\n",
       "      <th>Total_Spends</th>\n",
       "    </tr>\n",
       "  </thead>\n",
       "  <tbody>\n",
       "    <tr>\n",
       "      <th>0</th>\n",
       "      <td>Europa</td>\n",
       "      <td>False</td>\n",
       "      <td>B/0/P</td>\n",
       "      <td>TRAPPIST-1e</td>\n",
       "      <td>39.0</td>\n",
       "      <td>False</td>\n",
       "      <td>0.0</td>\n",
       "      <td>0.0</td>\n",
       "      <td>0.0</td>\n",
       "      <td>0.0</td>\n",
       "      <td>0.0</td>\n",
       "      <td>False</td>\n",
       "      <td>B</td>\n",
       "      <td>P</td>\n",
       "      <td>0.0</td>\n",
       "    </tr>\n",
       "    <tr>\n",
       "      <th>1</th>\n",
       "      <td>Earth</td>\n",
       "      <td>False</td>\n",
       "      <td>F/0/S</td>\n",
       "      <td>TRAPPIST-1e</td>\n",
       "      <td>24.0</td>\n",
       "      <td>False</td>\n",
       "      <td>109.0</td>\n",
       "      <td>9.0</td>\n",
       "      <td>25.0</td>\n",
       "      <td>549.0</td>\n",
       "      <td>44.0</td>\n",
       "      <td>True</td>\n",
       "      <td>F</td>\n",
       "      <td>S</td>\n",
       "      <td>736.0</td>\n",
       "    </tr>\n",
       "    <tr>\n",
       "      <th>2</th>\n",
       "      <td>Europa</td>\n",
       "      <td>False</td>\n",
       "      <td>A/0/S</td>\n",
       "      <td>TRAPPIST-1e</td>\n",
       "      <td>58.0</td>\n",
       "      <td>True</td>\n",
       "      <td>43.0</td>\n",
       "      <td>3576.0</td>\n",
       "      <td>0.0</td>\n",
       "      <td>6715.0</td>\n",
       "      <td>49.0</td>\n",
       "      <td>False</td>\n",
       "      <td>A</td>\n",
       "      <td>S</td>\n",
       "      <td>10383.0</td>\n",
       "    </tr>\n",
       "    <tr>\n",
       "      <th>3</th>\n",
       "      <td>Europa</td>\n",
       "      <td>False</td>\n",
       "      <td>A/0/S</td>\n",
       "      <td>TRAPPIST-1e</td>\n",
       "      <td>33.0</td>\n",
       "      <td>False</td>\n",
       "      <td>0.0</td>\n",
       "      <td>1283.0</td>\n",
       "      <td>371.0</td>\n",
       "      <td>3329.0</td>\n",
       "      <td>193.0</td>\n",
       "      <td>False</td>\n",
       "      <td>A</td>\n",
       "      <td>S</td>\n",
       "      <td>5176.0</td>\n",
       "    </tr>\n",
       "    <tr>\n",
       "      <th>4</th>\n",
       "      <td>Earth</td>\n",
       "      <td>False</td>\n",
       "      <td>F/1/S</td>\n",
       "      <td>TRAPPIST-1e</td>\n",
       "      <td>16.0</td>\n",
       "      <td>False</td>\n",
       "      <td>303.0</td>\n",
       "      <td>70.0</td>\n",
       "      <td>151.0</td>\n",
       "      <td>565.0</td>\n",
       "      <td>2.0</td>\n",
       "      <td>True</td>\n",
       "      <td>F</td>\n",
       "      <td>S</td>\n",
       "      <td>1091.0</td>\n",
       "    </tr>\n",
       "    <tr>\n",
       "      <th>...</th>\n",
       "      <td>...</td>\n",
       "      <td>...</td>\n",
       "      <td>...</td>\n",
       "      <td>...</td>\n",
       "      <td>...</td>\n",
       "      <td>...</td>\n",
       "      <td>...</td>\n",
       "      <td>...</td>\n",
       "      <td>...</td>\n",
       "      <td>...</td>\n",
       "      <td>...</td>\n",
       "      <td>...</td>\n",
       "      <td>...</td>\n",
       "      <td>...</td>\n",
       "      <td>...</td>\n",
       "    </tr>\n",
       "    <tr>\n",
       "      <th>8688</th>\n",
       "      <td>Europa</td>\n",
       "      <td>False</td>\n",
       "      <td>A/98/P</td>\n",
       "      <td>55 Cancri e</td>\n",
       "      <td>41.0</td>\n",
       "      <td>True</td>\n",
       "      <td>0.0</td>\n",
       "      <td>6819.0</td>\n",
       "      <td>0.0</td>\n",
       "      <td>1643.0</td>\n",
       "      <td>74.0</td>\n",
       "      <td>False</td>\n",
       "      <td>A</td>\n",
       "      <td>P</td>\n",
       "      <td>8536.0</td>\n",
       "    </tr>\n",
       "    <tr>\n",
       "      <th>8689</th>\n",
       "      <td>Earth</td>\n",
       "      <td>True</td>\n",
       "      <td>G/1499/S</td>\n",
       "      <td>PSO J318.5-22</td>\n",
       "      <td>18.0</td>\n",
       "      <td>False</td>\n",
       "      <td>0.0</td>\n",
       "      <td>0.0</td>\n",
       "      <td>0.0</td>\n",
       "      <td>0.0</td>\n",
       "      <td>0.0</td>\n",
       "      <td>False</td>\n",
       "      <td>G</td>\n",
       "      <td>S</td>\n",
       "      <td>0.0</td>\n",
       "    </tr>\n",
       "    <tr>\n",
       "      <th>8690</th>\n",
       "      <td>Earth</td>\n",
       "      <td>False</td>\n",
       "      <td>G/1500/S</td>\n",
       "      <td>TRAPPIST-1e</td>\n",
       "      <td>26.0</td>\n",
       "      <td>False</td>\n",
       "      <td>0.0</td>\n",
       "      <td>0.0</td>\n",
       "      <td>1872.0</td>\n",
       "      <td>1.0</td>\n",
       "      <td>0.0</td>\n",
       "      <td>True</td>\n",
       "      <td>G</td>\n",
       "      <td>S</td>\n",
       "      <td>1873.0</td>\n",
       "    </tr>\n",
       "    <tr>\n",
       "      <th>8691</th>\n",
       "      <td>Europa</td>\n",
       "      <td>False</td>\n",
       "      <td>E/608/S</td>\n",
       "      <td>55 Cancri e</td>\n",
       "      <td>32.0</td>\n",
       "      <td>False</td>\n",
       "      <td>0.0</td>\n",
       "      <td>1049.0</td>\n",
       "      <td>0.0</td>\n",
       "      <td>353.0</td>\n",
       "      <td>3235.0</td>\n",
       "      <td>False</td>\n",
       "      <td>E</td>\n",
       "      <td>S</td>\n",
       "      <td>4637.0</td>\n",
       "    </tr>\n",
       "    <tr>\n",
       "      <th>8692</th>\n",
       "      <td>Europa</td>\n",
       "      <td>False</td>\n",
       "      <td>E/608/S</td>\n",
       "      <td>TRAPPIST-1e</td>\n",
       "      <td>44.0</td>\n",
       "      <td>False</td>\n",
       "      <td>126.0</td>\n",
       "      <td>4688.0</td>\n",
       "      <td>0.0</td>\n",
       "      <td>0.0</td>\n",
       "      <td>12.0</td>\n",
       "      <td>True</td>\n",
       "      <td>E</td>\n",
       "      <td>S</td>\n",
       "      <td>4826.0</td>\n",
       "    </tr>\n",
       "  </tbody>\n",
       "</table>\n",
       "<p>6764 rows × 15 columns</p>\n",
       "</div>"
      ],
      "text/plain": [
       "     HomePlanet CryoSleep     Cabin    Destination   Age    VIP  RoomService  \\\n",
       "0        Europa     False     B/0/P    TRAPPIST-1e  39.0  False          0.0   \n",
       "1         Earth     False     F/0/S    TRAPPIST-1e  24.0  False        109.0   \n",
       "2        Europa     False     A/0/S    TRAPPIST-1e  58.0   True         43.0   \n",
       "3        Europa     False     A/0/S    TRAPPIST-1e  33.0  False          0.0   \n",
       "4         Earth     False     F/1/S    TRAPPIST-1e  16.0  False        303.0   \n",
       "...         ...       ...       ...            ...   ...    ...          ...   \n",
       "8688     Europa     False    A/98/P    55 Cancri e  41.0   True          0.0   \n",
       "8689      Earth      True  G/1499/S  PSO J318.5-22  18.0  False          0.0   \n",
       "8690      Earth     False  G/1500/S    TRAPPIST-1e  26.0  False          0.0   \n",
       "8691     Europa     False   E/608/S    55 Cancri e  32.0  False          0.0   \n",
       "8692     Europa     False   E/608/S    TRAPPIST-1e  44.0  False        126.0   \n",
       "\n",
       "      FoodCourt  ShoppingMall     Spa  VRDeck  Transported Deck Side  \\\n",
       "0           0.0           0.0     0.0     0.0        False    B    P   \n",
       "1           9.0          25.0   549.0    44.0         True    F    S   \n",
       "2        3576.0           0.0  6715.0    49.0        False    A    S   \n",
       "3        1283.0         371.0  3329.0   193.0        False    A    S   \n",
       "4          70.0         151.0   565.0     2.0         True    F    S   \n",
       "...         ...           ...     ...     ...          ...  ...  ...   \n",
       "8688     6819.0           0.0  1643.0    74.0        False    A    P   \n",
       "8689        0.0           0.0     0.0     0.0        False    G    S   \n",
       "8690        0.0        1872.0     1.0     0.0         True    G    S   \n",
       "8691     1049.0           0.0   353.0  3235.0        False    E    S   \n",
       "8692     4688.0           0.0     0.0    12.0         True    E    S   \n",
       "\n",
       "      Total_Spends  \n",
       "0              0.0  \n",
       "1            736.0  \n",
       "2          10383.0  \n",
       "3           5176.0  \n",
       "4           1091.0  \n",
       "...            ...  \n",
       "8688        8536.0  \n",
       "8689           0.0  \n",
       "8690        1873.0  \n",
       "8691        4637.0  \n",
       "8692        4826.0  \n",
       "\n",
       "[6764 rows x 15 columns]"
      ]
     },
     "execution_count": 34,
     "metadata": {},
     "output_type": "execute_result"
    }
   ],
   "source": [
    "df.dropna(inplace=True)\n",
    "df"
   ]
  },
  {
   "cell_type": "code",
   "execution_count": 35,
   "id": "964e2a37",
   "metadata": {
    "execution": {
     "iopub.execute_input": "2024-10-05T15:29:56.163341Z",
     "iopub.status.busy": "2024-10-05T15:29:56.162920Z",
     "iopub.status.idle": "2024-10-05T15:29:56.169738Z",
     "shell.execute_reply": "2024-10-05T15:29:56.168636Z"
    },
    "papermill": {
     "duration": 0.043667,
     "end_time": "2024-10-05T15:29:56.171768",
     "exception": false,
     "start_time": "2024-10-05T15:29:56.128101",
     "status": "completed"
    },
    "tags": []
   },
   "outputs": [
    {
     "data": {
      "text/plain": [
       "(6764, 15)"
      ]
     },
     "execution_count": 35,
     "metadata": {},
     "output_type": "execute_result"
    }
   ],
   "source": [
    "df.shape"
   ]
  },
  {
   "cell_type": "code",
   "execution_count": 36,
   "id": "e19fc3f6",
   "metadata": {
    "execution": {
     "iopub.execute_input": "2024-10-05T15:29:56.240729Z",
     "iopub.status.busy": "2024-10-05T15:29:56.239779Z",
     "iopub.status.idle": "2024-10-05T15:29:56.244867Z",
     "shell.execute_reply": "2024-10-05T15:29:56.243753Z"
    },
    "papermill": {
     "duration": 0.042084,
     "end_time": "2024-10-05T15:29:56.246961",
     "exception": false,
     "start_time": "2024-10-05T15:29:56.204877",
     "status": "completed"
    },
    "tags": []
   },
   "outputs": [],
   "source": [
    "df.reset_index(inplace = True,drop= True)"
   ]
  },
  {
   "cell_type": "markdown",
   "id": "eb5ee1f9",
   "metadata": {
    "papermill": {
     "duration": 0.033217,
     "end_time": "2024-10-05T15:29:56.313502",
     "exception": false,
     "start_time": "2024-10-05T15:29:56.280285",
     "status": "completed"
    },
    "tags": []
   },
   "source": [
    "> # In order to remove the outlier we will seprate numerical data form original data >>>"
   ]
  },
  {
   "cell_type": "code",
   "execution_count": 37,
   "id": "f750fc16",
   "metadata": {
    "execution": {
     "iopub.execute_input": "2024-10-05T15:29:56.382898Z",
     "iopub.status.busy": "2024-10-05T15:29:56.381885Z",
     "iopub.status.idle": "2024-10-05T15:29:56.390444Z",
     "shell.execute_reply": "2024-10-05T15:29:56.389362Z"
    },
    "papermill": {
     "duration": 0.04547,
     "end_time": "2024-10-05T15:29:56.392567",
     "exception": false,
     "start_time": "2024-10-05T15:29:56.347097",
     "status": "completed"
    },
    "tags": []
   },
   "outputs": [
    {
     "data": {
      "text/plain": [
       "['RoomService', 'FoodCourt', 'ShoppingMall', 'Spa', 'VRDeck', 'Total_Spends']"
      ]
     },
     "execution_count": 37,
     "metadata": {},
     "output_type": "execute_result"
    }
   ],
   "source": [
    "numerical_data  = [col for col in df.columns if df[col].dtypes == float]\n",
    "numerical_data.remove('Age')\n",
    "numerical_data"
   ]
  },
  {
   "cell_type": "markdown",
   "id": "9a8ac1af",
   "metadata": {
    "papermill": {
     "duration": 0.033015,
     "end_time": "2024-10-05T15:29:56.458967",
     "exception": false,
     "start_time": "2024-10-05T15:29:56.425952",
     "status": "completed"
    },
    "tags": []
   },
   "source": [
    "> #   Now we will remove outliers in 3 steps :\n",
    ">   1. Define function to remove outlier which will return thier index .\n",
    ">   2. Next we use fir loop to iterate through numerical_data and extend our index_list\n",
    ">   3. Finally we will define the function which will drop that index by using df.drop(index,inplace=True)"
   ]
  },
  {
   "cell_type": "code",
   "execution_count": 38,
   "id": "ef1b82d0",
   "metadata": {
    "execution": {
     "iopub.execute_input": "2024-10-05T15:29:56.528323Z",
     "iopub.status.busy": "2024-10-05T15:29:56.527186Z",
     "iopub.status.idle": "2024-10-05T15:29:56.533561Z",
     "shell.execute_reply": "2024-10-05T15:29:56.532328Z"
    },
    "papermill": {
     "duration": 0.043732,
     "end_time": "2024-10-05T15:29:56.535871",
     "exception": false,
     "start_time": "2024-10-05T15:29:56.492139",
     "status": "completed"
    },
    "tags": []
   },
   "outputs": [],
   "source": [
    "def outlier(df,ft) :\n",
    "    upper_limit = df[ft].mean() + 3*df[ft].std()\n",
    "    lower_limit = df[ft].mean() - 3*df[ft].std()\n",
    "    ls =  df.index[(df[ft] < lower_limit) | (df[ft] > upper_limit)]\n",
    "    return ls"
   ]
  },
  {
   "cell_type": "code",
   "execution_count": 39,
   "id": "62447369",
   "metadata": {
    "execution": {
     "iopub.execute_input": "2024-10-05T15:29:56.605100Z",
     "iopub.status.busy": "2024-10-05T15:29:56.604714Z",
     "iopub.status.idle": "2024-10-05T15:29:56.615808Z",
     "shell.execute_reply": "2024-10-05T15:29:56.614876Z"
    },
    "papermill": {
     "duration": 0.04847,
     "end_time": "2024-10-05T15:29:56.618174",
     "exception": false,
     "start_time": "2024-10-05T15:29:56.569704",
     "status": "completed"
    },
    "tags": []
   },
   "outputs": [],
   "source": [
    "index = []\n",
    "for col in numerical_data :\n",
    "    index.extend(outlier(df,col))\n",
    "index = sorted(set(index))"
   ]
  },
  {
   "cell_type": "code",
   "execution_count": 40,
   "id": "12a8c1bf",
   "metadata": {
    "execution": {
     "iopub.execute_input": "2024-10-05T15:29:56.686445Z",
     "iopub.status.busy": "2024-10-05T15:29:56.686012Z",
     "iopub.status.idle": "2024-10-05T15:29:56.691332Z",
     "shell.execute_reply": "2024-10-05T15:29:56.690153Z"
    },
    "papermill": {
     "duration": 0.042489,
     "end_time": "2024-10-05T15:29:56.693937",
     "exception": false,
     "start_time": "2024-10-05T15:29:56.651448",
     "status": "completed"
    },
    "tags": []
   },
   "outputs": [],
   "source": [
    "def remove_outlier(df,ls) :\n",
    "    df = df.drop(ls,inplace = True)\n",
    "    return df "
   ]
  },
  {
   "cell_type": "code",
   "execution_count": 41,
   "id": "bae10c20",
   "metadata": {
    "execution": {
     "iopub.execute_input": "2024-10-05T15:29:56.762272Z",
     "iopub.status.busy": "2024-10-05T15:29:56.761864Z",
     "iopub.status.idle": "2024-10-05T15:29:56.788745Z",
     "shell.execute_reply": "2024-10-05T15:29:56.787688Z"
    },
    "papermill": {
     "duration": 0.063531,
     "end_time": "2024-10-05T15:29:56.791134",
     "exception": false,
     "start_time": "2024-10-05T15:29:56.727603",
     "status": "completed"
    },
    "tags": []
   },
   "outputs": [
    {
     "data": {
      "text/html": [
       "<div>\n",
       "<style scoped>\n",
       "    .dataframe tbody tr th:only-of-type {\n",
       "        vertical-align: middle;\n",
       "    }\n",
       "\n",
       "    .dataframe tbody tr th {\n",
       "        vertical-align: top;\n",
       "    }\n",
       "\n",
       "    .dataframe thead th {\n",
       "        text-align: right;\n",
       "    }\n",
       "</style>\n",
       "<table border=\"1\" class=\"dataframe\">\n",
       "  <thead>\n",
       "    <tr style=\"text-align: right;\">\n",
       "      <th></th>\n",
       "      <th>HomePlanet</th>\n",
       "      <th>CryoSleep</th>\n",
       "      <th>Cabin</th>\n",
       "      <th>Destination</th>\n",
       "      <th>Age</th>\n",
       "      <th>VIP</th>\n",
       "      <th>RoomService</th>\n",
       "      <th>FoodCourt</th>\n",
       "      <th>ShoppingMall</th>\n",
       "      <th>Spa</th>\n",
       "      <th>VRDeck</th>\n",
       "      <th>Transported</th>\n",
       "      <th>Deck</th>\n",
       "      <th>Side</th>\n",
       "      <th>Total_Spends</th>\n",
       "    </tr>\n",
       "  </thead>\n",
       "  <tbody>\n",
       "    <tr>\n",
       "      <th>0</th>\n",
       "      <td>Europa</td>\n",
       "      <td>False</td>\n",
       "      <td>B/0/P</td>\n",
       "      <td>TRAPPIST-1e</td>\n",
       "      <td>39.0</td>\n",
       "      <td>False</td>\n",
       "      <td>0.0</td>\n",
       "      <td>0.0</td>\n",
       "      <td>0.0</td>\n",
       "      <td>0.0</td>\n",
       "      <td>0.0</td>\n",
       "      <td>False</td>\n",
       "      <td>B</td>\n",
       "      <td>P</td>\n",
       "      <td>0.0</td>\n",
       "    </tr>\n",
       "    <tr>\n",
       "      <th>1</th>\n",
       "      <td>Earth</td>\n",
       "      <td>False</td>\n",
       "      <td>F/0/S</td>\n",
       "      <td>TRAPPIST-1e</td>\n",
       "      <td>24.0</td>\n",
       "      <td>False</td>\n",
       "      <td>109.0</td>\n",
       "      <td>9.0</td>\n",
       "      <td>25.0</td>\n",
       "      <td>549.0</td>\n",
       "      <td>44.0</td>\n",
       "      <td>True</td>\n",
       "      <td>F</td>\n",
       "      <td>S</td>\n",
       "      <td>736.0</td>\n",
       "    </tr>\n",
       "    <tr>\n",
       "      <th>3</th>\n",
       "      <td>Europa</td>\n",
       "      <td>False</td>\n",
       "      <td>A/0/S</td>\n",
       "      <td>TRAPPIST-1e</td>\n",
       "      <td>33.0</td>\n",
       "      <td>False</td>\n",
       "      <td>0.0</td>\n",
       "      <td>1283.0</td>\n",
       "      <td>371.0</td>\n",
       "      <td>3329.0</td>\n",
       "      <td>193.0</td>\n",
       "      <td>False</td>\n",
       "      <td>A</td>\n",
       "      <td>S</td>\n",
       "      <td>5176.0</td>\n",
       "    </tr>\n",
       "    <tr>\n",
       "      <th>4</th>\n",
       "      <td>Earth</td>\n",
       "      <td>False</td>\n",
       "      <td>F/1/S</td>\n",
       "      <td>TRAPPIST-1e</td>\n",
       "      <td>16.0</td>\n",
       "      <td>False</td>\n",
       "      <td>303.0</td>\n",
       "      <td>70.0</td>\n",
       "      <td>151.0</td>\n",
       "      <td>565.0</td>\n",
       "      <td>2.0</td>\n",
       "      <td>True</td>\n",
       "      <td>F</td>\n",
       "      <td>S</td>\n",
       "      <td>1091.0</td>\n",
       "    </tr>\n",
       "    <tr>\n",
       "      <th>5</th>\n",
       "      <td>Earth</td>\n",
       "      <td>False</td>\n",
       "      <td>F/0/P</td>\n",
       "      <td>PSO J318.5-22</td>\n",
       "      <td>44.0</td>\n",
       "      <td>False</td>\n",
       "      <td>0.0</td>\n",
       "      <td>483.0</td>\n",
       "      <td>0.0</td>\n",
       "      <td>291.0</td>\n",
       "      <td>0.0</td>\n",
       "      <td>True</td>\n",
       "      <td>F</td>\n",
       "      <td>P</td>\n",
       "      <td>774.0</td>\n",
       "    </tr>\n",
       "    <tr>\n",
       "      <th>...</th>\n",
       "      <td>...</td>\n",
       "      <td>...</td>\n",
       "      <td>...</td>\n",
       "      <td>...</td>\n",
       "      <td>...</td>\n",
       "      <td>...</td>\n",
       "      <td>...</td>\n",
       "      <td>...</td>\n",
       "      <td>...</td>\n",
       "      <td>...</td>\n",
       "      <td>...</td>\n",
       "      <td>...</td>\n",
       "      <td>...</td>\n",
       "      <td>...</td>\n",
       "      <td>...</td>\n",
       "    </tr>\n",
       "    <tr>\n",
       "      <th>6758</th>\n",
       "      <td>Europa</td>\n",
       "      <td>False</td>\n",
       "      <td>A/97/P</td>\n",
       "      <td>TRAPPIST-1e</td>\n",
       "      <td>32.0</td>\n",
       "      <td>False</td>\n",
       "      <td>1.0</td>\n",
       "      <td>1146.0</td>\n",
       "      <td>0.0</td>\n",
       "      <td>50.0</td>\n",
       "      <td>34.0</td>\n",
       "      <td>False</td>\n",
       "      <td>A</td>\n",
       "      <td>P</td>\n",
       "      <td>1231.0</td>\n",
       "    </tr>\n",
       "    <tr>\n",
       "      <th>6760</th>\n",
       "      <td>Earth</td>\n",
       "      <td>True</td>\n",
       "      <td>G/1499/S</td>\n",
       "      <td>PSO J318.5-22</td>\n",
       "      <td>18.0</td>\n",
       "      <td>False</td>\n",
       "      <td>0.0</td>\n",
       "      <td>0.0</td>\n",
       "      <td>0.0</td>\n",
       "      <td>0.0</td>\n",
       "      <td>0.0</td>\n",
       "      <td>False</td>\n",
       "      <td>G</td>\n",
       "      <td>S</td>\n",
       "      <td>0.0</td>\n",
       "    </tr>\n",
       "    <tr>\n",
       "      <th>6761</th>\n",
       "      <td>Earth</td>\n",
       "      <td>False</td>\n",
       "      <td>G/1500/S</td>\n",
       "      <td>TRAPPIST-1e</td>\n",
       "      <td>26.0</td>\n",
       "      <td>False</td>\n",
       "      <td>0.0</td>\n",
       "      <td>0.0</td>\n",
       "      <td>1872.0</td>\n",
       "      <td>1.0</td>\n",
       "      <td>0.0</td>\n",
       "      <td>True</td>\n",
       "      <td>G</td>\n",
       "      <td>S</td>\n",
       "      <td>1873.0</td>\n",
       "    </tr>\n",
       "    <tr>\n",
       "      <th>6762</th>\n",
       "      <td>Europa</td>\n",
       "      <td>False</td>\n",
       "      <td>E/608/S</td>\n",
       "      <td>55 Cancri e</td>\n",
       "      <td>32.0</td>\n",
       "      <td>False</td>\n",
       "      <td>0.0</td>\n",
       "      <td>1049.0</td>\n",
       "      <td>0.0</td>\n",
       "      <td>353.0</td>\n",
       "      <td>3235.0</td>\n",
       "      <td>False</td>\n",
       "      <td>E</td>\n",
       "      <td>S</td>\n",
       "      <td>4637.0</td>\n",
       "    </tr>\n",
       "    <tr>\n",
       "      <th>6763</th>\n",
       "      <td>Europa</td>\n",
       "      <td>False</td>\n",
       "      <td>E/608/S</td>\n",
       "      <td>TRAPPIST-1e</td>\n",
       "      <td>44.0</td>\n",
       "      <td>False</td>\n",
       "      <td>126.0</td>\n",
       "      <td>4688.0</td>\n",
       "      <td>0.0</td>\n",
       "      <td>0.0</td>\n",
       "      <td>12.0</td>\n",
       "      <td>True</td>\n",
       "      <td>E</td>\n",
       "      <td>S</td>\n",
       "      <td>4826.0</td>\n",
       "    </tr>\n",
       "  </tbody>\n",
       "</table>\n",
       "<p>6191 rows × 15 columns</p>\n",
       "</div>"
      ],
      "text/plain": [
       "     HomePlanet CryoSleep     Cabin    Destination   Age    VIP  RoomService  \\\n",
       "0        Europa     False     B/0/P    TRAPPIST-1e  39.0  False          0.0   \n",
       "1         Earth     False     F/0/S    TRAPPIST-1e  24.0  False        109.0   \n",
       "3        Europa     False     A/0/S    TRAPPIST-1e  33.0  False          0.0   \n",
       "4         Earth     False     F/1/S    TRAPPIST-1e  16.0  False        303.0   \n",
       "5         Earth     False     F/0/P  PSO J318.5-22  44.0  False          0.0   \n",
       "...         ...       ...       ...            ...   ...    ...          ...   \n",
       "6758     Europa     False    A/97/P    TRAPPIST-1e  32.0  False          1.0   \n",
       "6760      Earth      True  G/1499/S  PSO J318.5-22  18.0  False          0.0   \n",
       "6761      Earth     False  G/1500/S    TRAPPIST-1e  26.0  False          0.0   \n",
       "6762     Europa     False   E/608/S    55 Cancri e  32.0  False          0.0   \n",
       "6763     Europa     False   E/608/S    TRAPPIST-1e  44.0  False        126.0   \n",
       "\n",
       "      FoodCourt  ShoppingMall     Spa  VRDeck  Transported Deck Side  \\\n",
       "0           0.0           0.0     0.0     0.0        False    B    P   \n",
       "1           9.0          25.0   549.0    44.0         True    F    S   \n",
       "3        1283.0         371.0  3329.0   193.0        False    A    S   \n",
       "4          70.0         151.0   565.0     2.0         True    F    S   \n",
       "5         483.0           0.0   291.0     0.0         True    F    P   \n",
       "...         ...           ...     ...     ...          ...  ...  ...   \n",
       "6758     1146.0           0.0    50.0    34.0        False    A    P   \n",
       "6760        0.0           0.0     0.0     0.0        False    G    S   \n",
       "6761        0.0        1872.0     1.0     0.0         True    G    S   \n",
       "6762     1049.0           0.0   353.0  3235.0        False    E    S   \n",
       "6763     4688.0           0.0     0.0    12.0         True    E    S   \n",
       "\n",
       "      Total_Spends  \n",
       "0              0.0  \n",
       "1            736.0  \n",
       "3           5176.0  \n",
       "4           1091.0  \n",
       "5            774.0  \n",
       "...            ...  \n",
       "6758        1231.0  \n",
       "6760           0.0  \n",
       "6761        1873.0  \n",
       "6762        4637.0  \n",
       "6763        4826.0  \n",
       "\n",
       "[6191 rows x 15 columns]"
      ]
     },
     "execution_count": 41,
     "metadata": {},
     "output_type": "execute_result"
    }
   ],
   "source": [
    "remove_outlier(df,index)\n",
    "df"
   ]
  },
  {
   "cell_type": "markdown",
   "id": "7bf9621c",
   "metadata": {
    "papermill": {
     "duration": 0.033424,
     "end_time": "2024-10-05T15:29:56.858417",
     "exception": false,
     "start_time": "2024-10-05T15:29:56.824993",
     "status": "completed"
    },
    "tags": []
   },
   "source": [
    "> # Now We Head on to categorical data >>>>>"
   ]
  },
  {
   "cell_type": "code",
   "execution_count": 42,
   "id": "fc4040bf",
   "metadata": {
    "execution": {
     "iopub.execute_input": "2024-10-05T15:29:56.928516Z",
     "iopub.status.busy": "2024-10-05T15:29:56.927754Z",
     "iopub.status.idle": "2024-10-05T15:29:56.935324Z",
     "shell.execute_reply": "2024-10-05T15:29:56.934313Z"
    },
    "papermill": {
     "duration": 0.044838,
     "end_time": "2024-10-05T15:29:56.937458",
     "exception": false,
     "start_time": "2024-10-05T15:29:56.892620",
     "status": "completed"
    },
    "tags": []
   },
   "outputs": [
    {
     "data": {
      "text/plain": [
       "['HomePlanet', 'CryoSleep', 'Cabin', 'Destination', 'VIP', 'Deck', 'Side']"
      ]
     },
     "execution_count": 42,
     "metadata": {},
     "output_type": "execute_result"
    }
   ],
   "source": [
    "categorical_data =[col for col in df.columns if df[col].dtypes == object]\n",
    "categorical_data"
   ]
  },
  {
   "cell_type": "code",
   "execution_count": 43,
   "id": "70675ee4",
   "metadata": {
    "execution": {
     "iopub.execute_input": "2024-10-05T15:29:57.008462Z",
     "iopub.status.busy": "2024-10-05T15:29:57.007599Z",
     "iopub.status.idle": "2024-10-05T15:29:57.015032Z",
     "shell.execute_reply": "2024-10-05T15:29:57.014079Z"
    },
    "papermill": {
     "duration": 0.045217,
     "end_time": "2024-10-05T15:29:57.017205",
     "exception": false,
     "start_time": "2024-10-05T15:29:56.971988",
     "status": "completed"
    },
    "tags": []
   },
   "outputs": [
    {
     "data": {
      "text/plain": [
       "array(['TRAPPIST-1e', 'PSO J318.5-22', '55 Cancri e'], dtype=object)"
      ]
     },
     "execution_count": 43,
     "metadata": {},
     "output_type": "execute_result"
    }
   ],
   "source": [
    "df['Destination'].unique()"
   ]
  },
  {
   "cell_type": "code",
   "execution_count": 44,
   "id": "ce954a68",
   "metadata": {
    "execution": {
     "iopub.execute_input": "2024-10-05T15:29:57.088862Z",
     "iopub.status.busy": "2024-10-05T15:29:57.088420Z",
     "iopub.status.idle": "2024-10-05T15:29:57.096490Z",
     "shell.execute_reply": "2024-10-05T15:29:57.095475Z"
    },
    "papermill": {
     "duration": 0.045784,
     "end_time": "2024-10-05T15:29:57.098698",
     "exception": false,
     "start_time": "2024-10-05T15:29:57.052914",
     "status": "completed"
    },
    "tags": []
   },
   "outputs": [
    {
     "data": {
      "text/plain": [
       "array(['B/0/P', 'F/0/S', 'A/0/S', ..., 'G/1499/S', 'G/1500/S', 'E/608/S'],\n",
       "      dtype=object)"
      ]
     },
     "execution_count": 44,
     "metadata": {},
     "output_type": "execute_result"
    }
   ],
   "source": [
    "df['Cabin'].unique()"
   ]
  },
  {
   "cell_type": "code",
   "execution_count": 45,
   "id": "bd074336",
   "metadata": {
    "execution": {
     "iopub.execute_input": "2024-10-05T15:29:57.169593Z",
     "iopub.status.busy": "2024-10-05T15:29:57.169152Z",
     "iopub.status.idle": "2024-10-05T15:29:57.176629Z",
     "shell.execute_reply": "2024-10-05T15:29:57.175590Z"
    },
    "papermill": {
     "duration": 0.046163,
     "end_time": "2024-10-05T15:29:57.178979",
     "exception": false,
     "start_time": "2024-10-05T15:29:57.132816",
     "status": "completed"
    },
    "tags": []
   },
   "outputs": [],
   "source": [
    "df.drop('Cabin',axis = 1,inplace = True)"
   ]
  },
  {
   "cell_type": "code",
   "execution_count": 46,
   "id": "2dee9f1e",
   "metadata": {
    "execution": {
     "iopub.execute_input": "2024-10-05T15:29:57.250552Z",
     "iopub.status.busy": "2024-10-05T15:29:57.249882Z",
     "iopub.status.idle": "2024-10-05T15:29:57.256858Z",
     "shell.execute_reply": "2024-10-05T15:29:57.255794Z"
    },
    "papermill": {
     "duration": 0.045138,
     "end_time": "2024-10-05T15:29:57.259108",
     "exception": false,
     "start_time": "2024-10-05T15:29:57.213970",
     "status": "completed"
    },
    "tags": []
   },
   "outputs": [],
   "source": [
    "test1.drop('Cabin' , axis= 1 , inplace = True) #dropping cabin from test"
   ]
  },
  {
   "cell_type": "code",
   "execution_count": 47,
   "id": "8d41e0c5",
   "metadata": {
    "execution": {
     "iopub.execute_input": "2024-10-05T15:29:57.328995Z",
     "iopub.status.busy": "2024-10-05T15:29:57.328592Z",
     "iopub.status.idle": "2024-10-05T15:29:57.337075Z",
     "shell.execute_reply": "2024-10-05T15:29:57.336097Z"
    },
    "papermill": {
     "duration": 0.045886,
     "end_time": "2024-10-05T15:29:57.339206",
     "exception": false,
     "start_time": "2024-10-05T15:29:57.293320",
     "status": "completed"
    },
    "tags": []
   },
   "outputs": [
    {
     "data": {
      "text/plain": [
       "['HomePlanet', 'CryoSleep', 'Destination', 'VIP', 'Deck', 'Side']"
      ]
     },
     "execution_count": 47,
     "metadata": {},
     "output_type": "execute_result"
    }
   ],
   "source": [
    "categorical_data =[col for col in df.columns if df[col].dtypes == object]\n",
    "categorical_data"
   ]
  },
  {
   "cell_type": "code",
   "execution_count": 48,
   "id": "1647a06d",
   "metadata": {
    "execution": {
     "iopub.execute_input": "2024-10-05T15:29:57.409150Z",
     "iopub.status.busy": "2024-10-05T15:29:57.408386Z",
     "iopub.status.idle": "2024-10-05T15:29:57.415917Z",
     "shell.execute_reply": "2024-10-05T15:29:57.414842Z"
    },
    "papermill": {
     "duration": 0.044598,
     "end_time": "2024-10-05T15:29:57.417930",
     "exception": false,
     "start_time": "2024-10-05T15:29:57.373332",
     "status": "completed"
    },
    "tags": []
   },
   "outputs": [
    {
     "data": {
      "text/plain": [
       "['HomePlanet', 'CryoSleep', 'Destination', 'VIP', 'Deck', 'Side']"
      ]
     },
     "execution_count": 48,
     "metadata": {},
     "output_type": "execute_result"
    }
   ],
   "source": [
    "categorical_data_test =[col for col in df.columns if df[col].dtypes == object]\n",
    "categorical_data_test"
   ]
  },
  {
   "cell_type": "markdown",
   "id": "f15c9416",
   "metadata": {
    "papermill": {
     "duration": 0.034181,
     "end_time": "2024-10-05T15:29:57.486664",
     "exception": false,
     "start_time": "2024-10-05T15:29:57.452483",
     "status": "completed"
    },
    "tags": []
   },
   "source": [
    "> # Now We will use OneHotEncoder to convert the categorical data into numerical data >>>"
   ]
  },
  {
   "cell_type": "code",
   "execution_count": 49,
   "id": "84301e0a",
   "metadata": {
    "execution": {
     "iopub.execute_input": "2024-10-05T15:29:57.558154Z",
     "iopub.status.busy": "2024-10-05T15:29:57.557202Z",
     "iopub.status.idle": "2024-10-05T15:29:57.612068Z",
     "shell.execute_reply": "2024-10-05T15:29:57.610997Z"
    },
    "papermill": {
     "duration": 0.093401,
     "end_time": "2024-10-05T15:29:57.614672",
     "exception": false,
     "start_time": "2024-10-05T15:29:57.521271",
     "status": "completed"
    },
    "tags": []
   },
   "outputs": [
    {
     "data": {
      "text/html": [
       "<div>\n",
       "<style scoped>\n",
       "    .dataframe tbody tr th:only-of-type {\n",
       "        vertical-align: middle;\n",
       "    }\n",
       "\n",
       "    .dataframe tbody tr th {\n",
       "        vertical-align: top;\n",
       "    }\n",
       "\n",
       "    .dataframe thead th {\n",
       "        text-align: right;\n",
       "    }\n",
       "</style>\n",
       "<table border=\"1\" class=\"dataframe\">\n",
       "  <thead>\n",
       "    <tr style=\"text-align: right;\">\n",
       "      <th></th>\n",
       "      <th>HomePlanet_Earth</th>\n",
       "      <th>HomePlanet_Europa</th>\n",
       "      <th>HomePlanet_Mars</th>\n",
       "      <th>CryoSleep_False</th>\n",
       "      <th>CryoSleep_True</th>\n",
       "      <th>Destination_55 Cancri e</th>\n",
       "      <th>Destination_PSO J318.5-22</th>\n",
       "      <th>Destination_TRAPPIST-1e</th>\n",
       "      <th>VIP_False</th>\n",
       "      <th>VIP_True</th>\n",
       "      <th>Deck_A</th>\n",
       "      <th>Deck_B</th>\n",
       "      <th>Deck_C</th>\n",
       "      <th>Deck_D</th>\n",
       "      <th>Deck_E</th>\n",
       "      <th>Deck_F</th>\n",
       "      <th>Deck_G</th>\n",
       "      <th>Deck_T</th>\n",
       "      <th>Side_P</th>\n",
       "      <th>Side_S</th>\n",
       "    </tr>\n",
       "  </thead>\n",
       "  <tbody>\n",
       "    <tr>\n",
       "      <th>0</th>\n",
       "      <td>0.0</td>\n",
       "      <td>1.0</td>\n",
       "      <td>0.0</td>\n",
       "      <td>1.0</td>\n",
       "      <td>0.0</td>\n",
       "      <td>0.0</td>\n",
       "      <td>0.0</td>\n",
       "      <td>1.0</td>\n",
       "      <td>1.0</td>\n",
       "      <td>0.0</td>\n",
       "      <td>0.0</td>\n",
       "      <td>1.0</td>\n",
       "      <td>0.0</td>\n",
       "      <td>0.0</td>\n",
       "      <td>0.0</td>\n",
       "      <td>0.0</td>\n",
       "      <td>0.0</td>\n",
       "      <td>0.0</td>\n",
       "      <td>1.0</td>\n",
       "      <td>0.0</td>\n",
       "    </tr>\n",
       "    <tr>\n",
       "      <th>1</th>\n",
       "      <td>1.0</td>\n",
       "      <td>0.0</td>\n",
       "      <td>0.0</td>\n",
       "      <td>1.0</td>\n",
       "      <td>0.0</td>\n",
       "      <td>0.0</td>\n",
       "      <td>0.0</td>\n",
       "      <td>1.0</td>\n",
       "      <td>1.0</td>\n",
       "      <td>0.0</td>\n",
       "      <td>0.0</td>\n",
       "      <td>0.0</td>\n",
       "      <td>0.0</td>\n",
       "      <td>0.0</td>\n",
       "      <td>0.0</td>\n",
       "      <td>1.0</td>\n",
       "      <td>0.0</td>\n",
       "      <td>0.0</td>\n",
       "      <td>0.0</td>\n",
       "      <td>1.0</td>\n",
       "    </tr>\n",
       "    <tr>\n",
       "      <th>2</th>\n",
       "      <td>0.0</td>\n",
       "      <td>1.0</td>\n",
       "      <td>0.0</td>\n",
       "      <td>1.0</td>\n",
       "      <td>0.0</td>\n",
       "      <td>0.0</td>\n",
       "      <td>0.0</td>\n",
       "      <td>1.0</td>\n",
       "      <td>1.0</td>\n",
       "      <td>0.0</td>\n",
       "      <td>1.0</td>\n",
       "      <td>0.0</td>\n",
       "      <td>0.0</td>\n",
       "      <td>0.0</td>\n",
       "      <td>0.0</td>\n",
       "      <td>0.0</td>\n",
       "      <td>0.0</td>\n",
       "      <td>0.0</td>\n",
       "      <td>0.0</td>\n",
       "      <td>1.0</td>\n",
       "    </tr>\n",
       "    <tr>\n",
       "      <th>3</th>\n",
       "      <td>1.0</td>\n",
       "      <td>0.0</td>\n",
       "      <td>0.0</td>\n",
       "      <td>1.0</td>\n",
       "      <td>0.0</td>\n",
       "      <td>0.0</td>\n",
       "      <td>0.0</td>\n",
       "      <td>1.0</td>\n",
       "      <td>1.0</td>\n",
       "      <td>0.0</td>\n",
       "      <td>0.0</td>\n",
       "      <td>0.0</td>\n",
       "      <td>0.0</td>\n",
       "      <td>0.0</td>\n",
       "      <td>0.0</td>\n",
       "      <td>1.0</td>\n",
       "      <td>0.0</td>\n",
       "      <td>0.0</td>\n",
       "      <td>0.0</td>\n",
       "      <td>1.0</td>\n",
       "    </tr>\n",
       "    <tr>\n",
       "      <th>4</th>\n",
       "      <td>1.0</td>\n",
       "      <td>0.0</td>\n",
       "      <td>0.0</td>\n",
       "      <td>1.0</td>\n",
       "      <td>0.0</td>\n",
       "      <td>0.0</td>\n",
       "      <td>1.0</td>\n",
       "      <td>0.0</td>\n",
       "      <td>1.0</td>\n",
       "      <td>0.0</td>\n",
       "      <td>0.0</td>\n",
       "      <td>0.0</td>\n",
       "      <td>0.0</td>\n",
       "      <td>0.0</td>\n",
       "      <td>0.0</td>\n",
       "      <td>1.0</td>\n",
       "      <td>0.0</td>\n",
       "      <td>0.0</td>\n",
       "      <td>1.0</td>\n",
       "      <td>0.0</td>\n",
       "    </tr>\n",
       "    <tr>\n",
       "      <th>...</th>\n",
       "      <td>...</td>\n",
       "      <td>...</td>\n",
       "      <td>...</td>\n",
       "      <td>...</td>\n",
       "      <td>...</td>\n",
       "      <td>...</td>\n",
       "      <td>...</td>\n",
       "      <td>...</td>\n",
       "      <td>...</td>\n",
       "      <td>...</td>\n",
       "      <td>...</td>\n",
       "      <td>...</td>\n",
       "      <td>...</td>\n",
       "      <td>...</td>\n",
       "      <td>...</td>\n",
       "      <td>...</td>\n",
       "      <td>...</td>\n",
       "      <td>...</td>\n",
       "      <td>...</td>\n",
       "      <td>...</td>\n",
       "    </tr>\n",
       "    <tr>\n",
       "      <th>6186</th>\n",
       "      <td>0.0</td>\n",
       "      <td>1.0</td>\n",
       "      <td>0.0</td>\n",
       "      <td>1.0</td>\n",
       "      <td>0.0</td>\n",
       "      <td>0.0</td>\n",
       "      <td>0.0</td>\n",
       "      <td>1.0</td>\n",
       "      <td>1.0</td>\n",
       "      <td>0.0</td>\n",
       "      <td>1.0</td>\n",
       "      <td>0.0</td>\n",
       "      <td>0.0</td>\n",
       "      <td>0.0</td>\n",
       "      <td>0.0</td>\n",
       "      <td>0.0</td>\n",
       "      <td>0.0</td>\n",
       "      <td>0.0</td>\n",
       "      <td>1.0</td>\n",
       "      <td>0.0</td>\n",
       "    </tr>\n",
       "    <tr>\n",
       "      <th>6187</th>\n",
       "      <td>1.0</td>\n",
       "      <td>0.0</td>\n",
       "      <td>0.0</td>\n",
       "      <td>0.0</td>\n",
       "      <td>1.0</td>\n",
       "      <td>0.0</td>\n",
       "      <td>1.0</td>\n",
       "      <td>0.0</td>\n",
       "      <td>1.0</td>\n",
       "      <td>0.0</td>\n",
       "      <td>0.0</td>\n",
       "      <td>0.0</td>\n",
       "      <td>0.0</td>\n",
       "      <td>0.0</td>\n",
       "      <td>0.0</td>\n",
       "      <td>0.0</td>\n",
       "      <td>1.0</td>\n",
       "      <td>0.0</td>\n",
       "      <td>0.0</td>\n",
       "      <td>1.0</td>\n",
       "    </tr>\n",
       "    <tr>\n",
       "      <th>6188</th>\n",
       "      <td>1.0</td>\n",
       "      <td>0.0</td>\n",
       "      <td>0.0</td>\n",
       "      <td>1.0</td>\n",
       "      <td>0.0</td>\n",
       "      <td>0.0</td>\n",
       "      <td>0.0</td>\n",
       "      <td>1.0</td>\n",
       "      <td>1.0</td>\n",
       "      <td>0.0</td>\n",
       "      <td>0.0</td>\n",
       "      <td>0.0</td>\n",
       "      <td>0.0</td>\n",
       "      <td>0.0</td>\n",
       "      <td>0.0</td>\n",
       "      <td>0.0</td>\n",
       "      <td>1.0</td>\n",
       "      <td>0.0</td>\n",
       "      <td>0.0</td>\n",
       "      <td>1.0</td>\n",
       "    </tr>\n",
       "    <tr>\n",
       "      <th>6189</th>\n",
       "      <td>0.0</td>\n",
       "      <td>1.0</td>\n",
       "      <td>0.0</td>\n",
       "      <td>1.0</td>\n",
       "      <td>0.0</td>\n",
       "      <td>1.0</td>\n",
       "      <td>0.0</td>\n",
       "      <td>0.0</td>\n",
       "      <td>1.0</td>\n",
       "      <td>0.0</td>\n",
       "      <td>0.0</td>\n",
       "      <td>0.0</td>\n",
       "      <td>0.0</td>\n",
       "      <td>0.0</td>\n",
       "      <td>1.0</td>\n",
       "      <td>0.0</td>\n",
       "      <td>0.0</td>\n",
       "      <td>0.0</td>\n",
       "      <td>0.0</td>\n",
       "      <td>1.0</td>\n",
       "    </tr>\n",
       "    <tr>\n",
       "      <th>6190</th>\n",
       "      <td>0.0</td>\n",
       "      <td>1.0</td>\n",
       "      <td>0.0</td>\n",
       "      <td>1.0</td>\n",
       "      <td>0.0</td>\n",
       "      <td>0.0</td>\n",
       "      <td>0.0</td>\n",
       "      <td>1.0</td>\n",
       "      <td>1.0</td>\n",
       "      <td>0.0</td>\n",
       "      <td>0.0</td>\n",
       "      <td>0.0</td>\n",
       "      <td>0.0</td>\n",
       "      <td>0.0</td>\n",
       "      <td>1.0</td>\n",
       "      <td>0.0</td>\n",
       "      <td>0.0</td>\n",
       "      <td>0.0</td>\n",
       "      <td>0.0</td>\n",
       "      <td>1.0</td>\n",
       "    </tr>\n",
       "  </tbody>\n",
       "</table>\n",
       "<p>6191 rows × 20 columns</p>\n",
       "</div>"
      ],
      "text/plain": [
       "      HomePlanet_Earth  HomePlanet_Europa  HomePlanet_Mars  CryoSleep_False  \\\n",
       "0                  0.0                1.0              0.0              1.0   \n",
       "1                  1.0                0.0              0.0              1.0   \n",
       "2                  0.0                1.0              0.0              1.0   \n",
       "3                  1.0                0.0              0.0              1.0   \n",
       "4                  1.0                0.0              0.0              1.0   \n",
       "...                ...                ...              ...              ...   \n",
       "6186               0.0                1.0              0.0              1.0   \n",
       "6187               1.0                0.0              0.0              0.0   \n",
       "6188               1.0                0.0              0.0              1.0   \n",
       "6189               0.0                1.0              0.0              1.0   \n",
       "6190               0.0                1.0              0.0              1.0   \n",
       "\n",
       "      CryoSleep_True  Destination_55 Cancri e  Destination_PSO J318.5-22  \\\n",
       "0                0.0                      0.0                        0.0   \n",
       "1                0.0                      0.0                        0.0   \n",
       "2                0.0                      0.0                        0.0   \n",
       "3                0.0                      0.0                        0.0   \n",
       "4                0.0                      0.0                        1.0   \n",
       "...              ...                      ...                        ...   \n",
       "6186             0.0                      0.0                        0.0   \n",
       "6187             1.0                      0.0                        1.0   \n",
       "6188             0.0                      0.0                        0.0   \n",
       "6189             0.0                      1.0                        0.0   \n",
       "6190             0.0                      0.0                        0.0   \n",
       "\n",
       "      Destination_TRAPPIST-1e  VIP_False  VIP_True  Deck_A  Deck_B  Deck_C  \\\n",
       "0                         1.0        1.0       0.0     0.0     1.0     0.0   \n",
       "1                         1.0        1.0       0.0     0.0     0.0     0.0   \n",
       "2                         1.0        1.0       0.0     1.0     0.0     0.0   \n",
       "3                         1.0        1.0       0.0     0.0     0.0     0.0   \n",
       "4                         0.0        1.0       0.0     0.0     0.0     0.0   \n",
       "...                       ...        ...       ...     ...     ...     ...   \n",
       "6186                      1.0        1.0       0.0     1.0     0.0     0.0   \n",
       "6187                      0.0        1.0       0.0     0.0     0.0     0.0   \n",
       "6188                      1.0        1.0       0.0     0.0     0.0     0.0   \n",
       "6189                      0.0        1.0       0.0     0.0     0.0     0.0   \n",
       "6190                      1.0        1.0       0.0     0.0     0.0     0.0   \n",
       "\n",
       "      Deck_D  Deck_E  Deck_F  Deck_G  Deck_T  Side_P  Side_S  \n",
       "0        0.0     0.0     0.0     0.0     0.0     1.0     0.0  \n",
       "1        0.0     0.0     1.0     0.0     0.0     0.0     1.0  \n",
       "2        0.0     0.0     0.0     0.0     0.0     0.0     1.0  \n",
       "3        0.0     0.0     1.0     0.0     0.0     0.0     1.0  \n",
       "4        0.0     0.0     1.0     0.0     0.0     1.0     0.0  \n",
       "...      ...     ...     ...     ...     ...     ...     ...  \n",
       "6186     0.0     0.0     0.0     0.0     0.0     1.0     0.0  \n",
       "6187     0.0     0.0     0.0     1.0     0.0     0.0     1.0  \n",
       "6188     0.0     0.0     0.0     1.0     0.0     0.0     1.0  \n",
       "6189     0.0     1.0     0.0     0.0     0.0     0.0     1.0  \n",
       "6190     0.0     1.0     0.0     0.0     0.0     0.0     1.0  \n",
       "\n",
       "[6191 rows x 20 columns]"
      ]
     },
     "execution_count": 49,
     "metadata": {},
     "output_type": "execute_result"
    }
   ],
   "source": [
    "from sklearn.preprocessing import OneHotEncoder\n",
    "data = df[categorical_data]\n",
    "\n",
    "ohe = OneHotEncoder(categories='auto')\n",
    "\n",
    "feature_arr = ohe.fit_transform(data).toarray()\n",
    "\n",
    "ohe_labels = ohe.get_feature_names_out(categorical_data)\n",
    "\n",
    "features = pd.DataFrame(\n",
    "               feature_arr,\n",
    "               columns=ohe_labels)\n",
    "features"
   ]
  },
  {
   "cell_type": "markdown",
   "id": "8f7dff8c",
   "metadata": {
    "papermill": {
     "duration": 0.034319,
     "end_time": "2024-10-05T15:29:57.684929",
     "exception": false,
     "start_time": "2024-10-05T15:29:57.650610",
     "status": "completed"
    },
    "tags": []
   },
   "source": [
    "> # And Finally we will create a final_data using df_num and categorical_data >>>"
   ]
  },
  {
   "cell_type": "code",
   "execution_count": 50,
   "id": "83aace21",
   "metadata": {
    "execution": {
     "iopub.execute_input": "2024-10-05T15:29:57.755819Z",
     "iopub.status.busy": "2024-10-05T15:29:57.755403Z",
     "iopub.status.idle": "2024-10-05T15:29:57.760438Z",
     "shell.execute_reply": "2024-10-05T15:29:57.759376Z"
    },
    "papermill": {
     "duration": 0.043266,
     "end_time": "2024-10-05T15:29:57.762728",
     "exception": false,
     "start_time": "2024-10-05T15:29:57.719462",
     "status": "completed"
    },
    "tags": []
   },
   "outputs": [],
   "source": [
    "from sklearn.preprocessing import MinMaxScaler\n",
    "scaler = MinMaxScaler()"
   ]
  },
  {
   "cell_type": "code",
   "execution_count": 51,
   "id": "6dbb33cf",
   "metadata": {
    "execution": {
     "iopub.execute_input": "2024-10-05T15:29:57.834039Z",
     "iopub.status.busy": "2024-10-05T15:29:57.833077Z",
     "iopub.status.idle": "2024-10-05T15:29:57.874828Z",
     "shell.execute_reply": "2024-10-05T15:29:57.873804Z"
    },
    "papermill": {
     "duration": 0.07971,
     "end_time": "2024-10-05T15:29:57.877040",
     "exception": false,
     "start_time": "2024-10-05T15:29:57.797330",
     "status": "completed"
    },
    "tags": []
   },
   "outputs": [
    {
     "data": {
      "text/html": [
       "<div>\n",
       "<style scoped>\n",
       "    .dataframe tbody tr th:only-of-type {\n",
       "        vertical-align: middle;\n",
       "    }\n",
       "\n",
       "    .dataframe tbody tr th {\n",
       "        vertical-align: top;\n",
       "    }\n",
       "\n",
       "    .dataframe thead th {\n",
       "        text-align: right;\n",
       "    }\n",
       "</style>\n",
       "<table border=\"1\" class=\"dataframe\">\n",
       "  <thead>\n",
       "    <tr style=\"text-align: right;\">\n",
       "      <th></th>\n",
       "      <th>Age</th>\n",
       "      <th>RoomService</th>\n",
       "      <th>FoodCourt</th>\n",
       "      <th>ShoppingMall</th>\n",
       "      <th>Spa</th>\n",
       "      <th>VRDeck</th>\n",
       "      <th>Total_Spends</th>\n",
       "      <th>HomePlanet_Earth</th>\n",
       "      <th>HomePlanet_Europa</th>\n",
       "      <th>HomePlanet_Mars</th>\n",
       "      <th>...</th>\n",
       "      <th>Deck_A</th>\n",
       "      <th>Deck_B</th>\n",
       "      <th>Deck_C</th>\n",
       "      <th>Deck_D</th>\n",
       "      <th>Deck_E</th>\n",
       "      <th>Deck_F</th>\n",
       "      <th>Deck_G</th>\n",
       "      <th>Deck_T</th>\n",
       "      <th>Side_P</th>\n",
       "      <th>Side_S</th>\n",
       "    </tr>\n",
       "  </thead>\n",
       "  <tbody>\n",
       "    <tr>\n",
       "      <th>0</th>\n",
       "      <td>39.0</td>\n",
       "      <td>0.0</td>\n",
       "      <td>0.0</td>\n",
       "      <td>0.0</td>\n",
       "      <td>0.0</td>\n",
       "      <td>0.0</td>\n",
       "      <td>0.0</td>\n",
       "      <td>0.0</td>\n",
       "      <td>1.0</td>\n",
       "      <td>0.0</td>\n",
       "      <td>...</td>\n",
       "      <td>0.0</td>\n",
       "      <td>1.0</td>\n",
       "      <td>0.0</td>\n",
       "      <td>0.0</td>\n",
       "      <td>0.0</td>\n",
       "      <td>0.0</td>\n",
       "      <td>0.0</td>\n",
       "      <td>0.0</td>\n",
       "      <td>1.0</td>\n",
       "      <td>0.0</td>\n",
       "    </tr>\n",
       "    <tr>\n",
       "      <th>1</th>\n",
       "      <td>24.0</td>\n",
       "      <td>109.0</td>\n",
       "      <td>9.0</td>\n",
       "      <td>25.0</td>\n",
       "      <td>549.0</td>\n",
       "      <td>44.0</td>\n",
       "      <td>736.0</td>\n",
       "      <td>1.0</td>\n",
       "      <td>0.0</td>\n",
       "      <td>0.0</td>\n",
       "      <td>...</td>\n",
       "      <td>0.0</td>\n",
       "      <td>0.0</td>\n",
       "      <td>0.0</td>\n",
       "      <td>0.0</td>\n",
       "      <td>0.0</td>\n",
       "      <td>1.0</td>\n",
       "      <td>0.0</td>\n",
       "      <td>0.0</td>\n",
       "      <td>0.0</td>\n",
       "      <td>1.0</td>\n",
       "    </tr>\n",
       "    <tr>\n",
       "      <th>2</th>\n",
       "      <td>33.0</td>\n",
       "      <td>0.0</td>\n",
       "      <td>1283.0</td>\n",
       "      <td>371.0</td>\n",
       "      <td>3329.0</td>\n",
       "      <td>193.0</td>\n",
       "      <td>5176.0</td>\n",
       "      <td>0.0</td>\n",
       "      <td>1.0</td>\n",
       "      <td>0.0</td>\n",
       "      <td>...</td>\n",
       "      <td>1.0</td>\n",
       "      <td>0.0</td>\n",
       "      <td>0.0</td>\n",
       "      <td>0.0</td>\n",
       "      <td>0.0</td>\n",
       "      <td>0.0</td>\n",
       "      <td>0.0</td>\n",
       "      <td>0.0</td>\n",
       "      <td>0.0</td>\n",
       "      <td>1.0</td>\n",
       "    </tr>\n",
       "    <tr>\n",
       "      <th>3</th>\n",
       "      <td>16.0</td>\n",
       "      <td>303.0</td>\n",
       "      <td>70.0</td>\n",
       "      <td>151.0</td>\n",
       "      <td>565.0</td>\n",
       "      <td>2.0</td>\n",
       "      <td>1091.0</td>\n",
       "      <td>1.0</td>\n",
       "      <td>0.0</td>\n",
       "      <td>0.0</td>\n",
       "      <td>...</td>\n",
       "      <td>0.0</td>\n",
       "      <td>0.0</td>\n",
       "      <td>0.0</td>\n",
       "      <td>0.0</td>\n",
       "      <td>0.0</td>\n",
       "      <td>1.0</td>\n",
       "      <td>0.0</td>\n",
       "      <td>0.0</td>\n",
       "      <td>0.0</td>\n",
       "      <td>1.0</td>\n",
       "    </tr>\n",
       "    <tr>\n",
       "      <th>4</th>\n",
       "      <td>44.0</td>\n",
       "      <td>0.0</td>\n",
       "      <td>483.0</td>\n",
       "      <td>0.0</td>\n",
       "      <td>291.0</td>\n",
       "      <td>0.0</td>\n",
       "      <td>774.0</td>\n",
       "      <td>1.0</td>\n",
       "      <td>0.0</td>\n",
       "      <td>0.0</td>\n",
       "      <td>...</td>\n",
       "      <td>0.0</td>\n",
       "      <td>0.0</td>\n",
       "      <td>0.0</td>\n",
       "      <td>0.0</td>\n",
       "      <td>0.0</td>\n",
       "      <td>1.0</td>\n",
       "      <td>0.0</td>\n",
       "      <td>0.0</td>\n",
       "      <td>1.0</td>\n",
       "      <td>0.0</td>\n",
       "    </tr>\n",
       "    <tr>\n",
       "      <th>...</th>\n",
       "      <td>...</td>\n",
       "      <td>...</td>\n",
       "      <td>...</td>\n",
       "      <td>...</td>\n",
       "      <td>...</td>\n",
       "      <td>...</td>\n",
       "      <td>...</td>\n",
       "      <td>...</td>\n",
       "      <td>...</td>\n",
       "      <td>...</td>\n",
       "      <td>...</td>\n",
       "      <td>...</td>\n",
       "      <td>...</td>\n",
       "      <td>...</td>\n",
       "      <td>...</td>\n",
       "      <td>...</td>\n",
       "      <td>...</td>\n",
       "      <td>...</td>\n",
       "      <td>...</td>\n",
       "      <td>...</td>\n",
       "      <td>...</td>\n",
       "    </tr>\n",
       "    <tr>\n",
       "      <th>6186</th>\n",
       "      <td>32.0</td>\n",
       "      <td>1.0</td>\n",
       "      <td>1146.0</td>\n",
       "      <td>0.0</td>\n",
       "      <td>50.0</td>\n",
       "      <td>34.0</td>\n",
       "      <td>1231.0</td>\n",
       "      <td>0.0</td>\n",
       "      <td>1.0</td>\n",
       "      <td>0.0</td>\n",
       "      <td>...</td>\n",
       "      <td>1.0</td>\n",
       "      <td>0.0</td>\n",
       "      <td>0.0</td>\n",
       "      <td>0.0</td>\n",
       "      <td>0.0</td>\n",
       "      <td>0.0</td>\n",
       "      <td>0.0</td>\n",
       "      <td>0.0</td>\n",
       "      <td>1.0</td>\n",
       "      <td>0.0</td>\n",
       "    </tr>\n",
       "    <tr>\n",
       "      <th>6187</th>\n",
       "      <td>18.0</td>\n",
       "      <td>0.0</td>\n",
       "      <td>0.0</td>\n",
       "      <td>0.0</td>\n",
       "      <td>0.0</td>\n",
       "      <td>0.0</td>\n",
       "      <td>0.0</td>\n",
       "      <td>1.0</td>\n",
       "      <td>0.0</td>\n",
       "      <td>0.0</td>\n",
       "      <td>...</td>\n",
       "      <td>0.0</td>\n",
       "      <td>0.0</td>\n",
       "      <td>0.0</td>\n",
       "      <td>0.0</td>\n",
       "      <td>0.0</td>\n",
       "      <td>0.0</td>\n",
       "      <td>1.0</td>\n",
       "      <td>0.0</td>\n",
       "      <td>0.0</td>\n",
       "      <td>1.0</td>\n",
       "    </tr>\n",
       "    <tr>\n",
       "      <th>6188</th>\n",
       "      <td>26.0</td>\n",
       "      <td>0.0</td>\n",
       "      <td>0.0</td>\n",
       "      <td>1872.0</td>\n",
       "      <td>1.0</td>\n",
       "      <td>0.0</td>\n",
       "      <td>1873.0</td>\n",
       "      <td>1.0</td>\n",
       "      <td>0.0</td>\n",
       "      <td>0.0</td>\n",
       "      <td>...</td>\n",
       "      <td>0.0</td>\n",
       "      <td>0.0</td>\n",
       "      <td>0.0</td>\n",
       "      <td>0.0</td>\n",
       "      <td>0.0</td>\n",
       "      <td>0.0</td>\n",
       "      <td>1.0</td>\n",
       "      <td>0.0</td>\n",
       "      <td>0.0</td>\n",
       "      <td>1.0</td>\n",
       "    </tr>\n",
       "    <tr>\n",
       "      <th>6189</th>\n",
       "      <td>32.0</td>\n",
       "      <td>0.0</td>\n",
       "      <td>1049.0</td>\n",
       "      <td>0.0</td>\n",
       "      <td>353.0</td>\n",
       "      <td>3235.0</td>\n",
       "      <td>4637.0</td>\n",
       "      <td>0.0</td>\n",
       "      <td>1.0</td>\n",
       "      <td>0.0</td>\n",
       "      <td>...</td>\n",
       "      <td>0.0</td>\n",
       "      <td>0.0</td>\n",
       "      <td>0.0</td>\n",
       "      <td>0.0</td>\n",
       "      <td>1.0</td>\n",
       "      <td>0.0</td>\n",
       "      <td>0.0</td>\n",
       "      <td>0.0</td>\n",
       "      <td>0.0</td>\n",
       "      <td>1.0</td>\n",
       "    </tr>\n",
       "    <tr>\n",
       "      <th>6190</th>\n",
       "      <td>44.0</td>\n",
       "      <td>126.0</td>\n",
       "      <td>4688.0</td>\n",
       "      <td>0.0</td>\n",
       "      <td>0.0</td>\n",
       "      <td>12.0</td>\n",
       "      <td>4826.0</td>\n",
       "      <td>0.0</td>\n",
       "      <td>1.0</td>\n",
       "      <td>0.0</td>\n",
       "      <td>...</td>\n",
       "      <td>0.0</td>\n",
       "      <td>0.0</td>\n",
       "      <td>0.0</td>\n",
       "      <td>0.0</td>\n",
       "      <td>1.0</td>\n",
       "      <td>0.0</td>\n",
       "      <td>0.0</td>\n",
       "      <td>0.0</td>\n",
       "      <td>0.0</td>\n",
       "      <td>1.0</td>\n",
       "    </tr>\n",
       "  </tbody>\n",
       "</table>\n",
       "<p>6191 rows × 27 columns</p>\n",
       "</div>"
      ],
      "text/plain": [
       "       Age  RoomService  FoodCourt  ShoppingMall     Spa  VRDeck  \\\n",
       "0     39.0          0.0        0.0           0.0     0.0     0.0   \n",
       "1     24.0        109.0        9.0          25.0   549.0    44.0   \n",
       "2     33.0          0.0     1283.0         371.0  3329.0   193.0   \n",
       "3     16.0        303.0       70.0         151.0   565.0     2.0   \n",
       "4     44.0          0.0      483.0           0.0   291.0     0.0   \n",
       "...    ...          ...        ...           ...     ...     ...   \n",
       "6186  32.0          1.0     1146.0           0.0    50.0    34.0   \n",
       "6187  18.0          0.0        0.0           0.0     0.0     0.0   \n",
       "6188  26.0          0.0        0.0        1872.0     1.0     0.0   \n",
       "6189  32.0          0.0     1049.0           0.0   353.0  3235.0   \n",
       "6190  44.0        126.0     4688.0           0.0     0.0    12.0   \n",
       "\n",
       "      Total_Spends  HomePlanet_Earth  HomePlanet_Europa  HomePlanet_Mars  ...  \\\n",
       "0              0.0               0.0                1.0              0.0  ...   \n",
       "1            736.0               1.0                0.0              0.0  ...   \n",
       "2           5176.0               0.0                1.0              0.0  ...   \n",
       "3           1091.0               1.0                0.0              0.0  ...   \n",
       "4            774.0               1.0                0.0              0.0  ...   \n",
       "...            ...               ...                ...              ...  ...   \n",
       "6186        1231.0               0.0                1.0              0.0  ...   \n",
       "6187           0.0               1.0                0.0              0.0  ...   \n",
       "6188        1873.0               1.0                0.0              0.0  ...   \n",
       "6189        4637.0               0.0                1.0              0.0  ...   \n",
       "6190        4826.0               0.0                1.0              0.0  ...   \n",
       "\n",
       "      Deck_A  Deck_B  Deck_C  Deck_D  Deck_E  Deck_F  Deck_G  Deck_T  Side_P  \\\n",
       "0        0.0     1.0     0.0     0.0     0.0     0.0     0.0     0.0     1.0   \n",
       "1        0.0     0.0     0.0     0.0     0.0     1.0     0.0     0.0     0.0   \n",
       "2        1.0     0.0     0.0     0.0     0.0     0.0     0.0     0.0     0.0   \n",
       "3        0.0     0.0     0.0     0.0     0.0     1.0     0.0     0.0     0.0   \n",
       "4        0.0     0.0     0.0     0.0     0.0     1.0     0.0     0.0     1.0   \n",
       "...      ...     ...     ...     ...     ...     ...     ...     ...     ...   \n",
       "6186     1.0     0.0     0.0     0.0     0.0     0.0     0.0     0.0     1.0   \n",
       "6187     0.0     0.0     0.0     0.0     0.0     0.0     1.0     0.0     0.0   \n",
       "6188     0.0     0.0     0.0     0.0     0.0     0.0     1.0     0.0     0.0   \n",
       "6189     0.0     0.0     0.0     0.0     1.0     0.0     0.0     0.0     0.0   \n",
       "6190     0.0     0.0     0.0     0.0     1.0     0.0     0.0     0.0     0.0   \n",
       "\n",
       "      Side_S  \n",
       "0        0.0  \n",
       "1        1.0  \n",
       "2        1.0  \n",
       "3        1.0  \n",
       "4        0.0  \n",
       "...      ...  \n",
       "6186     0.0  \n",
       "6187     1.0  \n",
       "6188     1.0  \n",
       "6189     1.0  \n",
       "6190     1.0  \n",
       "\n",
       "[6191 rows x 27 columns]"
      ]
     },
     "execution_count": 51,
     "metadata": {},
     "output_type": "execute_result"
    }
   ],
   "source": [
    "df_num = df.select_dtypes(float)\n",
    "df_num.reset_index(inplace=True , drop = True)\n",
    "final_data = pd.concat([df_num,features],axis= 1)\n",
    "final_data"
   ]
  },
  {
   "cell_type": "markdown",
   "id": "ce4aeb5a",
   "metadata": {
    "papermill": {
     "duration": 0.034634,
     "end_time": "2024-10-05T15:29:57.947056",
     "exception": false,
     "start_time": "2024-10-05T15:29:57.912422",
     "status": "completed"
    },
    "tags": []
   },
   "source": [
    "# **2. Feature Engineering**"
   ]
  },
  {
   "cell_type": "markdown",
   "id": "50c2f041",
   "metadata": {
    "papermill": {
     "duration": 0.038041,
     "end_time": "2024-10-05T15:29:58.020086",
     "exception": false,
     "start_time": "2024-10-05T15:29:57.982045",
     "status": "completed"
    },
    "tags": []
   },
   "source": [
    "> # Now let's move to test data here as you know we cant drop the data soo here on numerical_data we will use mean() data to fillna and for categorical data we will use most frequent value to fillna . Let's see how we do it"
   ]
  },
  {
   "cell_type": "code",
   "execution_count": 52,
   "id": "b27785a1",
   "metadata": {
    "execution": {
     "iopub.execute_input": "2024-10-05T15:29:58.093824Z",
     "iopub.status.busy": "2024-10-05T15:29:58.093432Z",
     "iopub.status.idle": "2024-10-05T15:29:58.103624Z",
     "shell.execute_reply": "2024-10-05T15:29:58.102482Z"
    },
    "papermill": {
     "duration": 0.048747,
     "end_time": "2024-10-05T15:29:58.105780",
     "exception": false,
     "start_time": "2024-10-05T15:29:58.057033",
     "status": "completed"
    },
    "tags": []
   },
   "outputs": [
    {
     "data": {
      "text/plain": [
       "HomePlanet       87\n",
       "CryoSleep        93\n",
       "Destination      92\n",
       "Age              91\n",
       "VIP              93\n",
       "RoomService      82\n",
       "FoodCourt       106\n",
       "ShoppingMall     98\n",
       "Spa             101\n",
       "VRDeck           80\n",
       "Deck            100\n",
       "Side            100\n",
       "Total_Spends      0\n",
       "dtype: int64"
      ]
     },
     "execution_count": 52,
     "metadata": {},
     "output_type": "execute_result"
    }
   ],
   "source": [
    "test1.isnull().sum()"
   ]
  },
  {
   "cell_type": "code",
   "execution_count": 53,
   "id": "4bfdb6fc",
   "metadata": {
    "execution": {
     "iopub.execute_input": "2024-10-05T15:29:58.177747Z",
     "iopub.status.busy": "2024-10-05T15:29:58.177340Z",
     "iopub.status.idle": "2024-10-05T15:29:58.188810Z",
     "shell.execute_reply": "2024-10-05T15:29:58.187723Z"
    },
    "papermill": {
     "duration": 0.049964,
     "end_time": "2024-10-05T15:29:58.191041",
     "exception": false,
     "start_time": "2024-10-05T15:29:58.141077",
     "status": "completed"
    },
    "tags": []
   },
   "outputs": [
    {
     "name": "stderr",
     "output_type": "stream",
     "text": [
      "/tmp/ipykernel_17/2023110260.py:1: FutureWarning: A value is trying to be set on a copy of a DataFrame or Series through chained assignment using an inplace method.\n",
      "The behavior will change in pandas 3.0. This inplace method will never work because the intermediate object on which we are setting values always behaves as a copy.\n",
      "\n",
      "For example, when doing 'df[col].method(value, inplace=True)', try using 'df.method({col: value}, inplace=True)' or df[col] = df[col].method(value) instead, to perform the operation inplace on the original object.\n",
      "\n",
      "\n",
      "  test1['Age'].fillna(test1['Age'].mean(),inplace= True)\n",
      "/tmp/ipykernel_17/2023110260.py:2: FutureWarning: A value is trying to be set on a copy of a DataFrame or Series through chained assignment using an inplace method.\n",
      "The behavior will change in pandas 3.0. This inplace method will never work because the intermediate object on which we are setting values always behaves as a copy.\n",
      "\n",
      "For example, when doing 'df[col].method(value, inplace=True)', try using 'df.method({col: value}, inplace=True)' or df[col] = df[col].method(value) instead, to perform the operation inplace on the original object.\n",
      "\n",
      "\n",
      "  test1['Spa'].fillna(test1['Spa'].mean(),inplace= True)\n",
      "/tmp/ipykernel_17/2023110260.py:3: FutureWarning: A value is trying to be set on a copy of a DataFrame or Series through chained assignment using an inplace method.\n",
      "The behavior will change in pandas 3.0. This inplace method will never work because the intermediate object on which we are setting values always behaves as a copy.\n",
      "\n",
      "For example, when doing 'df[col].method(value, inplace=True)', try using 'df.method({col: value}, inplace=True)' or df[col] = df[col].method(value) instead, to perform the operation inplace on the original object.\n",
      "\n",
      "\n",
      "  test1['VRDeck'].fillna(test1['VRDeck'].mean(),inplace= True)\n",
      "/tmp/ipykernel_17/2023110260.py:4: FutureWarning: A value is trying to be set on a copy of a DataFrame or Series through chained assignment using an inplace method.\n",
      "The behavior will change in pandas 3.0. This inplace method will never work because the intermediate object on which we are setting values always behaves as a copy.\n",
      "\n",
      "For example, when doing 'df[col].method(value, inplace=True)', try using 'df.method({col: value}, inplace=True)' or df[col] = df[col].method(value) instead, to perform the operation inplace on the original object.\n",
      "\n",
      "\n",
      "  test1['FoodCourt'].fillna(test1['FoodCourt'].mean(),inplace= True)\n",
      "/tmp/ipykernel_17/2023110260.py:5: FutureWarning: A value is trying to be set on a copy of a DataFrame or Series through chained assignment using an inplace method.\n",
      "The behavior will change in pandas 3.0. This inplace method will never work because the intermediate object on which we are setting values always behaves as a copy.\n",
      "\n",
      "For example, when doing 'df[col].method(value, inplace=True)', try using 'df.method({col: value}, inplace=True)' or df[col] = df[col].method(value) instead, to perform the operation inplace on the original object.\n",
      "\n",
      "\n",
      "  test1['ShoppingMall'].fillna(test1['ShoppingMall'].mean(),inplace= True)\n",
      "/tmp/ipykernel_17/2023110260.py:6: FutureWarning: A value is trying to be set on a copy of a DataFrame or Series through chained assignment using an inplace method.\n",
      "The behavior will change in pandas 3.0. This inplace method will never work because the intermediate object on which we are setting values always behaves as a copy.\n",
      "\n",
      "For example, when doing 'df[col].method(value, inplace=True)', try using 'df.method({col: value}, inplace=True)' or df[col] = df[col].method(value) instead, to perform the operation inplace on the original object.\n",
      "\n",
      "\n",
      "  test1['RoomService'].fillna(test1['RoomService'].mean(),inplace= True)\n"
     ]
    }
   ],
   "source": [
    "test1['Age'].fillna(test1['Age'].mean(),inplace= True)\n",
    "test1['Spa'].fillna(test1['Spa'].mean(),inplace= True)\n",
    "test1['VRDeck'].fillna(test1['VRDeck'].mean(),inplace= True)\n",
    "test1['FoodCourt'].fillna(test1['FoodCourt'].mean(),inplace= True)\n",
    "test1['ShoppingMall'].fillna(test1['ShoppingMall'].mean(),inplace= True)\n",
    "test1['RoomService'].fillna(test1['RoomService'].mean(),inplace= True)"
   ]
  },
  {
   "cell_type": "code",
   "execution_count": 54,
   "id": "22ba842b",
   "metadata": {
    "execution": {
     "iopub.execute_input": "2024-10-05T15:29:58.265065Z",
     "iopub.status.busy": "2024-10-05T15:29:58.264665Z",
     "iopub.status.idle": "2024-10-05T15:29:58.280218Z",
     "shell.execute_reply": "2024-10-05T15:29:58.279253Z"
    },
    "papermill": {
     "duration": 0.055381,
     "end_time": "2024-10-05T15:29:58.282595",
     "exception": false,
     "start_time": "2024-10-05T15:29:58.227214",
     "status": "completed"
    },
    "tags": []
   },
   "outputs": [],
   "source": [
    "# Fillna in Deck\n",
    "test1.loc[(test1.Total_Spends >= 0) & (test1.Total_Spends <= 500), 'Deck'] = test1['Deck'].fillna('G')\n",
    "test1.loc[(test1.Total_Spends >= 500) & (test1.Total_Spends <= 1000), 'Deck'] = test1['Deck'].fillna('F')\n",
    "test1.loc[(test1.Total_Spends >= 1000) & (test1.Total_Spends <= 1500), 'Deck'] = test1['Deck'].fillna('C')\n",
    "test1.loc[test1.Total_Spends >= 1500, 'Deck'] = test1['Deck'].fillna('A')"
   ]
  },
  {
   "cell_type": "code",
   "execution_count": 55,
   "id": "fc9faa31",
   "metadata": {
    "execution": {
     "iopub.execute_input": "2024-10-05T15:29:58.362759Z",
     "iopub.status.busy": "2024-10-05T15:29:58.361637Z",
     "iopub.status.idle": "2024-10-05T15:29:58.368281Z",
     "shell.execute_reply": "2024-10-05T15:29:58.367207Z"
    },
    "papermill": {
     "duration": 0.050271,
     "end_time": "2024-10-05T15:29:58.371061",
     "exception": false,
     "start_time": "2024-10-05T15:29:58.320790",
     "status": "completed"
    },
    "tags": []
   },
   "outputs": [
    {
     "name": "stderr",
     "output_type": "stream",
     "text": [
      "/tmp/ipykernel_17/980145262.py:1: FutureWarning: A value is trying to be set on a copy of a DataFrame or Series through chained assignment using an inplace method.\n",
      "The behavior will change in pandas 3.0. This inplace method will never work because the intermediate object on which we are setting values always behaves as a copy.\n",
      "\n",
      "For example, when doing 'df[col].method(value, inplace=True)', try using 'df.method({col: value}, inplace=True)' or df[col] = df[col].method(value) instead, to perform the operation inplace on the original object.\n",
      "\n",
      "\n",
      "  test1['Side'].fillna('S',inplace=True)\n"
     ]
    }
   ],
   "source": [
    "test1['Side'].fillna('S',inplace=True)"
   ]
  },
  {
   "cell_type": "code",
   "execution_count": 56,
   "id": "7cf4bba0",
   "metadata": {
    "execution": {
     "iopub.execute_input": "2024-10-05T15:29:58.444588Z",
     "iopub.status.busy": "2024-10-05T15:29:58.444139Z",
     "iopub.status.idle": "2024-10-05T15:29:58.454490Z",
     "shell.execute_reply": "2024-10-05T15:29:58.453472Z"
    },
    "papermill": {
     "duration": 0.049362,
     "end_time": "2024-10-05T15:29:58.456747",
     "exception": false,
     "start_time": "2024-10-05T15:29:58.407385",
     "status": "completed"
    },
    "tags": []
   },
   "outputs": [
    {
     "data": {
      "text/plain": [
       "HomePlanet      87\n",
       "CryoSleep       93\n",
       "Destination     92\n",
       "Age              0\n",
       "VIP             93\n",
       "RoomService      0\n",
       "FoodCourt        0\n",
       "ShoppingMall     0\n",
       "Spa              0\n",
       "VRDeck           0\n",
       "Deck             0\n",
       "Side             0\n",
       "Total_Spends     0\n",
       "dtype: int64"
      ]
     },
     "execution_count": 56,
     "metadata": {},
     "output_type": "execute_result"
    }
   ],
   "source": [
    "test1.isnull().sum()"
   ]
  },
  {
   "cell_type": "code",
   "execution_count": 57,
   "id": "0003f2bc",
   "metadata": {
    "execution": {
     "iopub.execute_input": "2024-10-05T15:29:58.531279Z",
     "iopub.status.busy": "2024-10-05T15:29:58.530749Z",
     "iopub.status.idle": "2024-10-05T15:29:58.541984Z",
     "shell.execute_reply": "2024-10-05T15:29:58.540878Z"
    },
    "papermill": {
     "duration": 0.051035,
     "end_time": "2024-10-05T15:29:58.544385",
     "exception": false,
     "start_time": "2024-10-05T15:29:58.493350",
     "status": "completed"
    },
    "tags": []
   },
   "outputs": [
    {
     "name": "stdout",
     "output_type": "stream",
     "text": [
      "<class 'pandas.core.series.Series'>\n",
      "RangeIndex: 4277 entries, 0 to 4276\n",
      "Series name: HomePlanet\n",
      "Non-Null Count  Dtype \n",
      "--------------  ----- \n",
      "4190 non-null   object\n",
      "dtypes: object(1)\n",
      "memory usage: 33.5+ KB\n"
     ]
    }
   ],
   "source": [
    "test1['HomePlanet'].info()"
   ]
  },
  {
   "cell_type": "code",
   "execution_count": 58,
   "id": "68acdcd9",
   "metadata": {
    "execution": {
     "iopub.execute_input": "2024-10-05T15:29:58.620190Z",
     "iopub.status.busy": "2024-10-05T15:29:58.619350Z",
     "iopub.status.idle": "2024-10-05T15:29:58.629609Z",
     "shell.execute_reply": "2024-10-05T15:29:58.628469Z"
    },
    "papermill": {
     "duration": 0.050877,
     "end_time": "2024-10-05T15:29:58.632482",
     "exception": false,
     "start_time": "2024-10-05T15:29:58.581605",
     "status": "completed"
    },
    "tags": []
   },
   "outputs": [
    {
     "name": "stderr",
     "output_type": "stream",
     "text": [
      "/tmp/ipykernel_17/2729069503.py:1: FutureWarning: A value is trying to be set on a copy of a DataFrame or Series through chained assignment using an inplace method.\n",
      "The behavior will change in pandas 3.0. This inplace method will never work because the intermediate object on which we are setting values always behaves as a copy.\n",
      "\n",
      "For example, when doing 'df[col].method(value, inplace=True)', try using 'df.method({col: value}, inplace=True)' or df[col] = df[col].method(value) instead, to perform the operation inplace on the original object.\n",
      "\n",
      "\n",
      "  test1['HomePlanet'].fillna('Earth',inplace=True)\n",
      "/tmp/ipykernel_17/2729069503.py:2: FutureWarning: A value is trying to be set on a copy of a DataFrame or Series through chained assignment using an inplace method.\n",
      "The behavior will change in pandas 3.0. This inplace method will never work because the intermediate object on which we are setting values always behaves as a copy.\n",
      "\n",
      "For example, when doing 'df[col].method(value, inplace=True)', try using 'df.method({col: value}, inplace=True)' or df[col] = df[col].method(value) instead, to perform the operation inplace on the original object.\n",
      "\n",
      "\n",
      "  test1['CryoSleep'].fillna( False ,inplace = True)\n",
      "/tmp/ipykernel_17/2729069503.py:2: FutureWarning: Downcasting object dtype arrays on .fillna, .ffill, .bfill is deprecated and will change in a future version. Call result.infer_objects(copy=False) instead. To opt-in to the future behavior, set `pd.set_option('future.no_silent_downcasting', True)`\n",
      "  test1['CryoSleep'].fillna( False ,inplace = True)\n",
      "/tmp/ipykernel_17/2729069503.py:3: FutureWarning: A value is trying to be set on a copy of a DataFrame or Series through chained assignment using an inplace method.\n",
      "The behavior will change in pandas 3.0. This inplace method will never work because the intermediate object on which we are setting values always behaves as a copy.\n",
      "\n",
      "For example, when doing 'df[col].method(value, inplace=True)', try using 'df.method({col: value}, inplace=True)' or df[col] = df[col].method(value) instead, to perform the operation inplace on the original object.\n",
      "\n",
      "\n",
      "  test1['VIP'].fillna(False,inplace = True)\n",
      "/tmp/ipykernel_17/2729069503.py:3: FutureWarning: Downcasting object dtype arrays on .fillna, .ffill, .bfill is deprecated and will change in a future version. Call result.infer_objects(copy=False) instead. To opt-in to the future behavior, set `pd.set_option('future.no_silent_downcasting', True)`\n",
      "  test1['VIP'].fillna(False,inplace = True)\n",
      "/tmp/ipykernel_17/2729069503.py:4: FutureWarning: A value is trying to be set on a copy of a DataFrame or Series through chained assignment using an inplace method.\n",
      "The behavior will change in pandas 3.0. This inplace method will never work because the intermediate object on which we are setting values always behaves as a copy.\n",
      "\n",
      "For example, when doing 'df[col].method(value, inplace=True)', try using 'df.method({col: value}, inplace=True)' or df[col] = df[col].method(value) instead, to perform the operation inplace on the original object.\n",
      "\n",
      "\n",
      "  test1['Destination'].fillna('TRAPPIST-1e',inplace = True)\n"
     ]
    }
   ],
   "source": [
    "test1['HomePlanet'].fillna('Earth',inplace=True)\n",
    "test1['CryoSleep'].fillna( False ,inplace = True)\n",
    "test1['VIP'].fillna(False,inplace = True)\n",
    "test1['Destination'].fillna('TRAPPIST-1e',inplace = True)"
   ]
  },
  {
   "cell_type": "code",
   "execution_count": 59,
   "id": "f6c87b99",
   "metadata": {
    "execution": {
     "iopub.execute_input": "2024-10-05T15:29:58.706041Z",
     "iopub.status.busy": "2024-10-05T15:29:58.705658Z",
     "iopub.status.idle": "2024-10-05T15:29:58.718548Z",
     "shell.execute_reply": "2024-10-05T15:29:58.717489Z"
    },
    "papermill": {
     "duration": 0.052488,
     "end_time": "2024-10-05T15:29:58.720899",
     "exception": false,
     "start_time": "2024-10-05T15:29:58.668411",
     "status": "completed"
    },
    "tags": []
   },
   "outputs": [
    {
     "name": "stdout",
     "output_type": "stream",
     "text": [
      "<class 'pandas.core.frame.DataFrame'>\n",
      "RangeIndex: 4277 entries, 0 to 4276\n",
      "Data columns (total 13 columns):\n",
      " #   Column        Non-Null Count  Dtype  \n",
      "---  ------        --------------  -----  \n",
      " 0   HomePlanet    4277 non-null   object \n",
      " 1   CryoSleep     4277 non-null   bool   \n",
      " 2   Destination   4277 non-null   object \n",
      " 3   Age           4277 non-null   float64\n",
      " 4   VIP           4277 non-null   bool   \n",
      " 5   RoomService   4277 non-null   float64\n",
      " 6   FoodCourt     4277 non-null   float64\n",
      " 7   ShoppingMall  4277 non-null   float64\n",
      " 8   Spa           4277 non-null   float64\n",
      " 9   VRDeck        4277 non-null   float64\n",
      " 10  Deck          4277 non-null   object \n",
      " 11  Side          4277 non-null   object \n",
      " 12  Total_Spends  4277 non-null   float64\n",
      "dtypes: bool(2), float64(7), object(4)\n",
      "memory usage: 376.0+ KB\n"
     ]
    }
   ],
   "source": [
    "test1.info()"
   ]
  },
  {
   "cell_type": "markdown",
   "id": "74c7d869",
   "metadata": {
    "papermill": {
     "duration": 0.036329,
     "end_time": "2024-10-05T15:29:58.793460",
     "exception": false,
     "start_time": "2024-10-05T15:29:58.757131",
     "status": "completed"
    },
    "tags": []
   },
   "source": [
    "> # Here we will convert categorical test data into numerical data >>>"
   ]
  },
  {
   "cell_type": "code",
   "execution_count": 60,
   "id": "d4a3ada3",
   "metadata": {
    "execution": {
     "iopub.execute_input": "2024-10-05T15:29:58.867952Z",
     "iopub.status.busy": "2024-10-05T15:29:58.866922Z",
     "iopub.status.idle": "2024-10-05T15:29:58.914404Z",
     "shell.execute_reply": "2024-10-05T15:29:58.913418Z"
    },
    "papermill": {
     "duration": 0.087501,
     "end_time": "2024-10-05T15:29:58.916724",
     "exception": false,
     "start_time": "2024-10-05T15:29:58.829223",
     "status": "completed"
    },
    "tags": []
   },
   "outputs": [
    {
     "data": {
      "text/html": [
       "<div>\n",
       "<style scoped>\n",
       "    .dataframe tbody tr th:only-of-type {\n",
       "        vertical-align: middle;\n",
       "    }\n",
       "\n",
       "    .dataframe tbody tr th {\n",
       "        vertical-align: top;\n",
       "    }\n",
       "\n",
       "    .dataframe thead th {\n",
       "        text-align: right;\n",
       "    }\n",
       "</style>\n",
       "<table border=\"1\" class=\"dataframe\">\n",
       "  <thead>\n",
       "    <tr style=\"text-align: right;\">\n",
       "      <th></th>\n",
       "      <th>HomePlanet_Earth</th>\n",
       "      <th>HomePlanet_Europa</th>\n",
       "      <th>HomePlanet_Mars</th>\n",
       "      <th>CryoSleep_False</th>\n",
       "      <th>CryoSleep_True</th>\n",
       "      <th>Destination_55 Cancri e</th>\n",
       "      <th>Destination_PSO J318.5-22</th>\n",
       "      <th>Destination_TRAPPIST-1e</th>\n",
       "      <th>VIP_False</th>\n",
       "      <th>VIP_True</th>\n",
       "      <th>Deck_A</th>\n",
       "      <th>Deck_B</th>\n",
       "      <th>Deck_C</th>\n",
       "      <th>Deck_D</th>\n",
       "      <th>Deck_E</th>\n",
       "      <th>Deck_F</th>\n",
       "      <th>Deck_G</th>\n",
       "      <th>Deck_T</th>\n",
       "      <th>Side_P</th>\n",
       "      <th>Side_S</th>\n",
       "    </tr>\n",
       "  </thead>\n",
       "  <tbody>\n",
       "    <tr>\n",
       "      <th>0</th>\n",
       "      <td>1.0</td>\n",
       "      <td>0.0</td>\n",
       "      <td>0.0</td>\n",
       "      <td>0.0</td>\n",
       "      <td>1.0</td>\n",
       "      <td>0.0</td>\n",
       "      <td>0.0</td>\n",
       "      <td>1.0</td>\n",
       "      <td>1.0</td>\n",
       "      <td>0.0</td>\n",
       "      <td>0.0</td>\n",
       "      <td>0.0</td>\n",
       "      <td>0.0</td>\n",
       "      <td>0.0</td>\n",
       "      <td>0.0</td>\n",
       "      <td>0.0</td>\n",
       "      <td>1.0</td>\n",
       "      <td>0.0</td>\n",
       "      <td>0.0</td>\n",
       "      <td>1.0</td>\n",
       "    </tr>\n",
       "    <tr>\n",
       "      <th>1</th>\n",
       "      <td>1.0</td>\n",
       "      <td>0.0</td>\n",
       "      <td>0.0</td>\n",
       "      <td>1.0</td>\n",
       "      <td>0.0</td>\n",
       "      <td>0.0</td>\n",
       "      <td>0.0</td>\n",
       "      <td>1.0</td>\n",
       "      <td>1.0</td>\n",
       "      <td>0.0</td>\n",
       "      <td>0.0</td>\n",
       "      <td>0.0</td>\n",
       "      <td>0.0</td>\n",
       "      <td>0.0</td>\n",
       "      <td>0.0</td>\n",
       "      <td>1.0</td>\n",
       "      <td>0.0</td>\n",
       "      <td>0.0</td>\n",
       "      <td>0.0</td>\n",
       "      <td>1.0</td>\n",
       "    </tr>\n",
       "    <tr>\n",
       "      <th>2</th>\n",
       "      <td>0.0</td>\n",
       "      <td>1.0</td>\n",
       "      <td>0.0</td>\n",
       "      <td>0.0</td>\n",
       "      <td>1.0</td>\n",
       "      <td>1.0</td>\n",
       "      <td>0.0</td>\n",
       "      <td>0.0</td>\n",
       "      <td>1.0</td>\n",
       "      <td>0.0</td>\n",
       "      <td>0.0</td>\n",
       "      <td>0.0</td>\n",
       "      <td>1.0</td>\n",
       "      <td>0.0</td>\n",
       "      <td>0.0</td>\n",
       "      <td>0.0</td>\n",
       "      <td>0.0</td>\n",
       "      <td>0.0</td>\n",
       "      <td>0.0</td>\n",
       "      <td>1.0</td>\n",
       "    </tr>\n",
       "    <tr>\n",
       "      <th>3</th>\n",
       "      <td>0.0</td>\n",
       "      <td>1.0</td>\n",
       "      <td>0.0</td>\n",
       "      <td>1.0</td>\n",
       "      <td>0.0</td>\n",
       "      <td>0.0</td>\n",
       "      <td>0.0</td>\n",
       "      <td>1.0</td>\n",
       "      <td>1.0</td>\n",
       "      <td>0.0</td>\n",
       "      <td>0.0</td>\n",
       "      <td>0.0</td>\n",
       "      <td>1.0</td>\n",
       "      <td>0.0</td>\n",
       "      <td>0.0</td>\n",
       "      <td>0.0</td>\n",
       "      <td>0.0</td>\n",
       "      <td>0.0</td>\n",
       "      <td>0.0</td>\n",
       "      <td>1.0</td>\n",
       "    </tr>\n",
       "    <tr>\n",
       "      <th>4</th>\n",
       "      <td>1.0</td>\n",
       "      <td>0.0</td>\n",
       "      <td>0.0</td>\n",
       "      <td>1.0</td>\n",
       "      <td>0.0</td>\n",
       "      <td>0.0</td>\n",
       "      <td>0.0</td>\n",
       "      <td>1.0</td>\n",
       "      <td>1.0</td>\n",
       "      <td>0.0</td>\n",
       "      <td>0.0</td>\n",
       "      <td>0.0</td>\n",
       "      <td>0.0</td>\n",
       "      <td>0.0</td>\n",
       "      <td>0.0</td>\n",
       "      <td>1.0</td>\n",
       "      <td>0.0</td>\n",
       "      <td>0.0</td>\n",
       "      <td>0.0</td>\n",
       "      <td>1.0</td>\n",
       "    </tr>\n",
       "    <tr>\n",
       "      <th>...</th>\n",
       "      <td>...</td>\n",
       "      <td>...</td>\n",
       "      <td>...</td>\n",
       "      <td>...</td>\n",
       "      <td>...</td>\n",
       "      <td>...</td>\n",
       "      <td>...</td>\n",
       "      <td>...</td>\n",
       "      <td>...</td>\n",
       "      <td>...</td>\n",
       "      <td>...</td>\n",
       "      <td>...</td>\n",
       "      <td>...</td>\n",
       "      <td>...</td>\n",
       "      <td>...</td>\n",
       "      <td>...</td>\n",
       "      <td>...</td>\n",
       "      <td>...</td>\n",
       "      <td>...</td>\n",
       "      <td>...</td>\n",
       "    </tr>\n",
       "    <tr>\n",
       "      <th>4272</th>\n",
       "      <td>1.0</td>\n",
       "      <td>0.0</td>\n",
       "      <td>0.0</td>\n",
       "      <td>0.0</td>\n",
       "      <td>1.0</td>\n",
       "      <td>0.0</td>\n",
       "      <td>0.0</td>\n",
       "      <td>1.0</td>\n",
       "      <td>1.0</td>\n",
       "      <td>0.0</td>\n",
       "      <td>0.0</td>\n",
       "      <td>0.0</td>\n",
       "      <td>0.0</td>\n",
       "      <td>0.0</td>\n",
       "      <td>0.0</td>\n",
       "      <td>0.0</td>\n",
       "      <td>1.0</td>\n",
       "      <td>0.0</td>\n",
       "      <td>0.0</td>\n",
       "      <td>1.0</td>\n",
       "    </tr>\n",
       "    <tr>\n",
       "      <th>4273</th>\n",
       "      <td>1.0</td>\n",
       "      <td>0.0</td>\n",
       "      <td>0.0</td>\n",
       "      <td>1.0</td>\n",
       "      <td>0.0</td>\n",
       "      <td>0.0</td>\n",
       "      <td>0.0</td>\n",
       "      <td>1.0</td>\n",
       "      <td>1.0</td>\n",
       "      <td>0.0</td>\n",
       "      <td>0.0</td>\n",
       "      <td>0.0</td>\n",
       "      <td>1.0</td>\n",
       "      <td>0.0</td>\n",
       "      <td>0.0</td>\n",
       "      <td>0.0</td>\n",
       "      <td>0.0</td>\n",
       "      <td>0.0</td>\n",
       "      <td>0.0</td>\n",
       "      <td>1.0</td>\n",
       "    </tr>\n",
       "    <tr>\n",
       "      <th>4274</th>\n",
       "      <td>0.0</td>\n",
       "      <td>0.0</td>\n",
       "      <td>1.0</td>\n",
       "      <td>0.0</td>\n",
       "      <td>1.0</td>\n",
       "      <td>1.0</td>\n",
       "      <td>0.0</td>\n",
       "      <td>0.0</td>\n",
       "      <td>1.0</td>\n",
       "      <td>0.0</td>\n",
       "      <td>0.0</td>\n",
       "      <td>0.0</td>\n",
       "      <td>0.0</td>\n",
       "      <td>1.0</td>\n",
       "      <td>0.0</td>\n",
       "      <td>0.0</td>\n",
       "      <td>0.0</td>\n",
       "      <td>0.0</td>\n",
       "      <td>1.0</td>\n",
       "      <td>0.0</td>\n",
       "    </tr>\n",
       "    <tr>\n",
       "      <th>4275</th>\n",
       "      <td>0.0</td>\n",
       "      <td>1.0</td>\n",
       "      <td>0.0</td>\n",
       "      <td>1.0</td>\n",
       "      <td>0.0</td>\n",
       "      <td>0.0</td>\n",
       "      <td>0.0</td>\n",
       "      <td>1.0</td>\n",
       "      <td>1.0</td>\n",
       "      <td>0.0</td>\n",
       "      <td>0.0</td>\n",
       "      <td>0.0</td>\n",
       "      <td>0.0</td>\n",
       "      <td>1.0</td>\n",
       "      <td>0.0</td>\n",
       "      <td>0.0</td>\n",
       "      <td>0.0</td>\n",
       "      <td>0.0</td>\n",
       "      <td>1.0</td>\n",
       "      <td>0.0</td>\n",
       "    </tr>\n",
       "    <tr>\n",
       "      <th>4276</th>\n",
       "      <td>1.0</td>\n",
       "      <td>0.0</td>\n",
       "      <td>0.0</td>\n",
       "      <td>0.0</td>\n",
       "      <td>1.0</td>\n",
       "      <td>0.0</td>\n",
       "      <td>1.0</td>\n",
       "      <td>0.0</td>\n",
       "      <td>1.0</td>\n",
       "      <td>0.0</td>\n",
       "      <td>0.0</td>\n",
       "      <td>0.0</td>\n",
       "      <td>0.0</td>\n",
       "      <td>0.0</td>\n",
       "      <td>0.0</td>\n",
       "      <td>0.0</td>\n",
       "      <td>1.0</td>\n",
       "      <td>0.0</td>\n",
       "      <td>0.0</td>\n",
       "      <td>1.0</td>\n",
       "    </tr>\n",
       "  </tbody>\n",
       "</table>\n",
       "<p>4277 rows × 20 columns</p>\n",
       "</div>"
      ],
      "text/plain": [
       "      HomePlanet_Earth  HomePlanet_Europa  HomePlanet_Mars  CryoSleep_False  \\\n",
       "0                  1.0                0.0              0.0              0.0   \n",
       "1                  1.0                0.0              0.0              1.0   \n",
       "2                  0.0                1.0              0.0              0.0   \n",
       "3                  0.0                1.0              0.0              1.0   \n",
       "4                  1.0                0.0              0.0              1.0   \n",
       "...                ...                ...              ...              ...   \n",
       "4272               1.0                0.0              0.0              0.0   \n",
       "4273               1.0                0.0              0.0              1.0   \n",
       "4274               0.0                0.0              1.0              0.0   \n",
       "4275               0.0                1.0              0.0              1.0   \n",
       "4276               1.0                0.0              0.0              0.0   \n",
       "\n",
       "      CryoSleep_True  Destination_55 Cancri e  Destination_PSO J318.5-22  \\\n",
       "0                1.0                      0.0                        0.0   \n",
       "1                0.0                      0.0                        0.0   \n",
       "2                1.0                      1.0                        0.0   \n",
       "3                0.0                      0.0                        0.0   \n",
       "4                0.0                      0.0                        0.0   \n",
       "...              ...                      ...                        ...   \n",
       "4272             1.0                      0.0                        0.0   \n",
       "4273             0.0                      0.0                        0.0   \n",
       "4274             1.0                      1.0                        0.0   \n",
       "4275             0.0                      0.0                        0.0   \n",
       "4276             1.0                      0.0                        1.0   \n",
       "\n",
       "      Destination_TRAPPIST-1e  VIP_False  VIP_True  Deck_A  Deck_B  Deck_C  \\\n",
       "0                         1.0        1.0       0.0     0.0     0.0     0.0   \n",
       "1                         1.0        1.0       0.0     0.0     0.0     0.0   \n",
       "2                         0.0        1.0       0.0     0.0     0.0     1.0   \n",
       "3                         1.0        1.0       0.0     0.0     0.0     1.0   \n",
       "4                         1.0        1.0       0.0     0.0     0.0     0.0   \n",
       "...                       ...        ...       ...     ...     ...     ...   \n",
       "4272                      1.0        1.0       0.0     0.0     0.0     0.0   \n",
       "4273                      1.0        1.0       0.0     0.0     0.0     1.0   \n",
       "4274                      0.0        1.0       0.0     0.0     0.0     0.0   \n",
       "4275                      1.0        1.0       0.0     0.0     0.0     0.0   \n",
       "4276                      0.0        1.0       0.0     0.0     0.0     0.0   \n",
       "\n",
       "      Deck_D  Deck_E  Deck_F  Deck_G  Deck_T  Side_P  Side_S  \n",
       "0        0.0     0.0     0.0     1.0     0.0     0.0     1.0  \n",
       "1        0.0     0.0     1.0     0.0     0.0     0.0     1.0  \n",
       "2        0.0     0.0     0.0     0.0     0.0     0.0     1.0  \n",
       "3        0.0     0.0     0.0     0.0     0.0     0.0     1.0  \n",
       "4        0.0     0.0     1.0     0.0     0.0     0.0     1.0  \n",
       "...      ...     ...     ...     ...     ...     ...     ...  \n",
       "4272     0.0     0.0     0.0     1.0     0.0     0.0     1.0  \n",
       "4273     0.0     0.0     0.0     0.0     0.0     0.0     1.0  \n",
       "4274     1.0     0.0     0.0     0.0     0.0     1.0     0.0  \n",
       "4275     1.0     0.0     0.0     0.0     0.0     1.0     0.0  \n",
       "4276     0.0     0.0     0.0     1.0     0.0     0.0     1.0  \n",
       "\n",
       "[4277 rows x 20 columns]"
      ]
     },
     "execution_count": 60,
     "metadata": {},
     "output_type": "execute_result"
    }
   ],
   "source": [
    "data_test = test1[categorical_data_test]\n",
    "\n",
    "ohe = OneHotEncoder(categories='auto')\n",
    "\n",
    "feature_arr_test = ohe.fit_transform(data_test).toarray()\n",
    "\n",
    "ohe_labels_test = ohe.get_feature_names_out(categorical_data_test)\n",
    "\n",
    "features_test = pd.DataFrame(\n",
    "               feature_arr_test,\n",
    "               columns=ohe_labels_test)\n",
    "features_test"
   ]
  },
  {
   "cell_type": "markdown",
   "id": "51a536c3",
   "metadata": {
    "papermill": {
     "duration": 0.039936,
     "end_time": "2024-10-05T15:29:58.992982",
     "exception": false,
     "start_time": "2024-10-05T15:29:58.953046",
     "status": "completed"
    },
    "tags": []
   },
   "source": [
    "> # And After that concat num_test data and cat_test data into final_test_data"
   ]
  },
  {
   "cell_type": "code",
   "execution_count": 61,
   "id": "9169c9fe",
   "metadata": {
    "execution": {
     "iopub.execute_input": "2024-10-05T15:29:59.071269Z",
     "iopub.status.busy": "2024-10-05T15:29:59.070680Z",
     "iopub.status.idle": "2024-10-05T15:29:59.122708Z",
     "shell.execute_reply": "2024-10-05T15:29:59.121619Z"
    },
    "papermill": {
     "duration": 0.095223,
     "end_time": "2024-10-05T15:29:59.124867",
     "exception": false,
     "start_time": "2024-10-05T15:29:59.029644",
     "status": "completed"
    },
    "tags": []
   },
   "outputs": [
    {
     "data": {
      "text/html": [
       "<div>\n",
       "<style scoped>\n",
       "    .dataframe tbody tr th:only-of-type {\n",
       "        vertical-align: middle;\n",
       "    }\n",
       "\n",
       "    .dataframe tbody tr th {\n",
       "        vertical-align: top;\n",
       "    }\n",
       "\n",
       "    .dataframe thead th {\n",
       "        text-align: right;\n",
       "    }\n",
       "</style>\n",
       "<table border=\"1\" class=\"dataframe\">\n",
       "  <thead>\n",
       "    <tr style=\"text-align: right;\">\n",
       "      <th></th>\n",
       "      <th>Age</th>\n",
       "      <th>RoomService</th>\n",
       "      <th>FoodCourt</th>\n",
       "      <th>ShoppingMall</th>\n",
       "      <th>Spa</th>\n",
       "      <th>VRDeck</th>\n",
       "      <th>Total_Spends</th>\n",
       "      <th>HomePlanet_Earth</th>\n",
       "      <th>HomePlanet_Europa</th>\n",
       "      <th>HomePlanet_Mars</th>\n",
       "      <th>...</th>\n",
       "      <th>Deck_A</th>\n",
       "      <th>Deck_B</th>\n",
       "      <th>Deck_C</th>\n",
       "      <th>Deck_D</th>\n",
       "      <th>Deck_E</th>\n",
       "      <th>Deck_F</th>\n",
       "      <th>Deck_G</th>\n",
       "      <th>Deck_T</th>\n",
       "      <th>Side_P</th>\n",
       "      <th>Side_S</th>\n",
       "    </tr>\n",
       "  </thead>\n",
       "  <tbody>\n",
       "    <tr>\n",
       "      <th>0</th>\n",
       "      <td>27.000000</td>\n",
       "      <td>0.0</td>\n",
       "      <td>0.0</td>\n",
       "      <td>0.0</td>\n",
       "      <td>0.0</td>\n",
       "      <td>0.0</td>\n",
       "      <td>0.0</td>\n",
       "      <td>1.0</td>\n",
       "      <td>0.0</td>\n",
       "      <td>0.0</td>\n",
       "      <td>...</td>\n",
       "      <td>0.0</td>\n",
       "      <td>0.0</td>\n",
       "      <td>0.0</td>\n",
       "      <td>0.0</td>\n",
       "      <td>0.0</td>\n",
       "      <td>0.0</td>\n",
       "      <td>1.0</td>\n",
       "      <td>0.0</td>\n",
       "      <td>0.0</td>\n",
       "      <td>1.0</td>\n",
       "    </tr>\n",
       "    <tr>\n",
       "      <th>1</th>\n",
       "      <td>19.000000</td>\n",
       "      <td>0.0</td>\n",
       "      <td>9.0</td>\n",
       "      <td>0.0</td>\n",
       "      <td>2823.0</td>\n",
       "      <td>0.0</td>\n",
       "      <td>2832.0</td>\n",
       "      <td>1.0</td>\n",
       "      <td>0.0</td>\n",
       "      <td>0.0</td>\n",
       "      <td>...</td>\n",
       "      <td>0.0</td>\n",
       "      <td>0.0</td>\n",
       "      <td>0.0</td>\n",
       "      <td>0.0</td>\n",
       "      <td>0.0</td>\n",
       "      <td>1.0</td>\n",
       "      <td>0.0</td>\n",
       "      <td>0.0</td>\n",
       "      <td>0.0</td>\n",
       "      <td>1.0</td>\n",
       "    </tr>\n",
       "    <tr>\n",
       "      <th>2</th>\n",
       "      <td>31.000000</td>\n",
       "      <td>0.0</td>\n",
       "      <td>0.0</td>\n",
       "      <td>0.0</td>\n",
       "      <td>0.0</td>\n",
       "      <td>0.0</td>\n",
       "      <td>0.0</td>\n",
       "      <td>0.0</td>\n",
       "      <td>1.0</td>\n",
       "      <td>0.0</td>\n",
       "      <td>...</td>\n",
       "      <td>0.0</td>\n",
       "      <td>0.0</td>\n",
       "      <td>1.0</td>\n",
       "      <td>0.0</td>\n",
       "      <td>0.0</td>\n",
       "      <td>0.0</td>\n",
       "      <td>0.0</td>\n",
       "      <td>0.0</td>\n",
       "      <td>0.0</td>\n",
       "      <td>1.0</td>\n",
       "    </tr>\n",
       "    <tr>\n",
       "      <th>3</th>\n",
       "      <td>38.000000</td>\n",
       "      <td>0.0</td>\n",
       "      <td>6652.0</td>\n",
       "      <td>0.0</td>\n",
       "      <td>181.0</td>\n",
       "      <td>585.0</td>\n",
       "      <td>7418.0</td>\n",
       "      <td>0.0</td>\n",
       "      <td>1.0</td>\n",
       "      <td>0.0</td>\n",
       "      <td>...</td>\n",
       "      <td>0.0</td>\n",
       "      <td>0.0</td>\n",
       "      <td>1.0</td>\n",
       "      <td>0.0</td>\n",
       "      <td>0.0</td>\n",
       "      <td>0.0</td>\n",
       "      <td>0.0</td>\n",
       "      <td>0.0</td>\n",
       "      <td>0.0</td>\n",
       "      <td>1.0</td>\n",
       "    </tr>\n",
       "    <tr>\n",
       "      <th>4</th>\n",
       "      <td>20.000000</td>\n",
       "      <td>10.0</td>\n",
       "      <td>0.0</td>\n",
       "      <td>635.0</td>\n",
       "      <td>0.0</td>\n",
       "      <td>0.0</td>\n",
       "      <td>645.0</td>\n",
       "      <td>1.0</td>\n",
       "      <td>0.0</td>\n",
       "      <td>0.0</td>\n",
       "      <td>...</td>\n",
       "      <td>0.0</td>\n",
       "      <td>0.0</td>\n",
       "      <td>0.0</td>\n",
       "      <td>0.0</td>\n",
       "      <td>0.0</td>\n",
       "      <td>1.0</td>\n",
       "      <td>0.0</td>\n",
       "      <td>0.0</td>\n",
       "      <td>0.0</td>\n",
       "      <td>1.0</td>\n",
       "    </tr>\n",
       "    <tr>\n",
       "      <th>...</th>\n",
       "      <td>...</td>\n",
       "      <td>...</td>\n",
       "      <td>...</td>\n",
       "      <td>...</td>\n",
       "      <td>...</td>\n",
       "      <td>...</td>\n",
       "      <td>...</td>\n",
       "      <td>...</td>\n",
       "      <td>...</td>\n",
       "      <td>...</td>\n",
       "      <td>...</td>\n",
       "      <td>...</td>\n",
       "      <td>...</td>\n",
       "      <td>...</td>\n",
       "      <td>...</td>\n",
       "      <td>...</td>\n",
       "      <td>...</td>\n",
       "      <td>...</td>\n",
       "      <td>...</td>\n",
       "      <td>...</td>\n",
       "      <td>...</td>\n",
       "    </tr>\n",
       "    <tr>\n",
       "      <th>4272</th>\n",
       "      <td>34.000000</td>\n",
       "      <td>0.0</td>\n",
       "      <td>0.0</td>\n",
       "      <td>0.0</td>\n",
       "      <td>0.0</td>\n",
       "      <td>0.0</td>\n",
       "      <td>0.0</td>\n",
       "      <td>1.0</td>\n",
       "      <td>0.0</td>\n",
       "      <td>0.0</td>\n",
       "      <td>...</td>\n",
       "      <td>0.0</td>\n",
       "      <td>0.0</td>\n",
       "      <td>0.0</td>\n",
       "      <td>0.0</td>\n",
       "      <td>0.0</td>\n",
       "      <td>0.0</td>\n",
       "      <td>1.0</td>\n",
       "      <td>0.0</td>\n",
       "      <td>0.0</td>\n",
       "      <td>1.0</td>\n",
       "    </tr>\n",
       "    <tr>\n",
       "      <th>4273</th>\n",
       "      <td>42.000000</td>\n",
       "      <td>0.0</td>\n",
       "      <td>847.0</td>\n",
       "      <td>17.0</td>\n",
       "      <td>10.0</td>\n",
       "      <td>144.0</td>\n",
       "      <td>1018.0</td>\n",
       "      <td>1.0</td>\n",
       "      <td>0.0</td>\n",
       "      <td>0.0</td>\n",
       "      <td>...</td>\n",
       "      <td>0.0</td>\n",
       "      <td>0.0</td>\n",
       "      <td>1.0</td>\n",
       "      <td>0.0</td>\n",
       "      <td>0.0</td>\n",
       "      <td>0.0</td>\n",
       "      <td>0.0</td>\n",
       "      <td>0.0</td>\n",
       "      <td>0.0</td>\n",
       "      <td>1.0</td>\n",
       "    </tr>\n",
       "    <tr>\n",
       "      <th>4274</th>\n",
       "      <td>28.658146</td>\n",
       "      <td>0.0</td>\n",
       "      <td>0.0</td>\n",
       "      <td>0.0</td>\n",
       "      <td>0.0</td>\n",
       "      <td>0.0</td>\n",
       "      <td>0.0</td>\n",
       "      <td>0.0</td>\n",
       "      <td>0.0</td>\n",
       "      <td>1.0</td>\n",
       "      <td>...</td>\n",
       "      <td>0.0</td>\n",
       "      <td>0.0</td>\n",
       "      <td>0.0</td>\n",
       "      <td>1.0</td>\n",
       "      <td>0.0</td>\n",
       "      <td>0.0</td>\n",
       "      <td>0.0</td>\n",
       "      <td>0.0</td>\n",
       "      <td>1.0</td>\n",
       "      <td>0.0</td>\n",
       "    </tr>\n",
       "    <tr>\n",
       "      <th>4275</th>\n",
       "      <td>28.658146</td>\n",
       "      <td>0.0</td>\n",
       "      <td>2680.0</td>\n",
       "      <td>0.0</td>\n",
       "      <td>0.0</td>\n",
       "      <td>523.0</td>\n",
       "      <td>3203.0</td>\n",
       "      <td>0.0</td>\n",
       "      <td>1.0</td>\n",
       "      <td>0.0</td>\n",
       "      <td>...</td>\n",
       "      <td>0.0</td>\n",
       "      <td>0.0</td>\n",
       "      <td>0.0</td>\n",
       "      <td>1.0</td>\n",
       "      <td>0.0</td>\n",
       "      <td>0.0</td>\n",
       "      <td>0.0</td>\n",
       "      <td>0.0</td>\n",
       "      <td>1.0</td>\n",
       "      <td>0.0</td>\n",
       "    </tr>\n",
       "    <tr>\n",
       "      <th>4276</th>\n",
       "      <td>43.000000</td>\n",
       "      <td>0.0</td>\n",
       "      <td>0.0</td>\n",
       "      <td>0.0</td>\n",
       "      <td>0.0</td>\n",
       "      <td>0.0</td>\n",
       "      <td>0.0</td>\n",
       "      <td>1.0</td>\n",
       "      <td>0.0</td>\n",
       "      <td>0.0</td>\n",
       "      <td>...</td>\n",
       "      <td>0.0</td>\n",
       "      <td>0.0</td>\n",
       "      <td>0.0</td>\n",
       "      <td>0.0</td>\n",
       "      <td>0.0</td>\n",
       "      <td>0.0</td>\n",
       "      <td>1.0</td>\n",
       "      <td>0.0</td>\n",
       "      <td>0.0</td>\n",
       "      <td>1.0</td>\n",
       "    </tr>\n",
       "  </tbody>\n",
       "</table>\n",
       "<p>4277 rows × 27 columns</p>\n",
       "</div>"
      ],
      "text/plain": [
       "            Age  RoomService  FoodCourt  ShoppingMall     Spa  VRDeck  \\\n",
       "0     27.000000          0.0        0.0           0.0     0.0     0.0   \n",
       "1     19.000000          0.0        9.0           0.0  2823.0     0.0   \n",
       "2     31.000000          0.0        0.0           0.0     0.0     0.0   \n",
       "3     38.000000          0.0     6652.0           0.0   181.0   585.0   \n",
       "4     20.000000         10.0        0.0         635.0     0.0     0.0   \n",
       "...         ...          ...        ...           ...     ...     ...   \n",
       "4272  34.000000          0.0        0.0           0.0     0.0     0.0   \n",
       "4273  42.000000          0.0      847.0          17.0    10.0   144.0   \n",
       "4274  28.658146          0.0        0.0           0.0     0.0     0.0   \n",
       "4275  28.658146          0.0     2680.0           0.0     0.0   523.0   \n",
       "4276  43.000000          0.0        0.0           0.0     0.0     0.0   \n",
       "\n",
       "      Total_Spends  HomePlanet_Earth  HomePlanet_Europa  HomePlanet_Mars  ...  \\\n",
       "0              0.0               1.0                0.0              0.0  ...   \n",
       "1           2832.0               1.0                0.0              0.0  ...   \n",
       "2              0.0               0.0                1.0              0.0  ...   \n",
       "3           7418.0               0.0                1.0              0.0  ...   \n",
       "4            645.0               1.0                0.0              0.0  ...   \n",
       "...            ...               ...                ...              ...  ...   \n",
       "4272           0.0               1.0                0.0              0.0  ...   \n",
       "4273        1018.0               1.0                0.0              0.0  ...   \n",
       "4274           0.0               0.0                0.0              1.0  ...   \n",
       "4275        3203.0               0.0                1.0              0.0  ...   \n",
       "4276           0.0               1.0                0.0              0.0  ...   \n",
       "\n",
       "      Deck_A  Deck_B  Deck_C  Deck_D  Deck_E  Deck_F  Deck_G  Deck_T  Side_P  \\\n",
       "0        0.0     0.0     0.0     0.0     0.0     0.0     1.0     0.0     0.0   \n",
       "1        0.0     0.0     0.0     0.0     0.0     1.0     0.0     0.0     0.0   \n",
       "2        0.0     0.0     1.0     0.0     0.0     0.0     0.0     0.0     0.0   \n",
       "3        0.0     0.0     1.0     0.0     0.0     0.0     0.0     0.0     0.0   \n",
       "4        0.0     0.0     0.0     0.0     0.0     1.0     0.0     0.0     0.0   \n",
       "...      ...     ...     ...     ...     ...     ...     ...     ...     ...   \n",
       "4272     0.0     0.0     0.0     0.0     0.0     0.0     1.0     0.0     0.0   \n",
       "4273     0.0     0.0     1.0     0.0     0.0     0.0     0.0     0.0     0.0   \n",
       "4274     0.0     0.0     0.0     1.0     0.0     0.0     0.0     0.0     1.0   \n",
       "4275     0.0     0.0     0.0     1.0     0.0     0.0     0.0     0.0     1.0   \n",
       "4276     0.0     0.0     0.0     0.0     0.0     0.0     1.0     0.0     0.0   \n",
       "\n",
       "      Side_S  \n",
       "0        1.0  \n",
       "1        1.0  \n",
       "2        1.0  \n",
       "3        1.0  \n",
       "4        1.0  \n",
       "...      ...  \n",
       "4272     1.0  \n",
       "4273     1.0  \n",
       "4274     0.0  \n",
       "4275     0.0  \n",
       "4276     1.0  \n",
       "\n",
       "[4277 rows x 27 columns]"
      ]
     },
     "execution_count": 61,
     "metadata": {},
     "output_type": "execute_result"
    }
   ],
   "source": [
    "test_data = pd.concat([test1.select_dtypes(float),features_test],axis  = 1)\n",
    "test_data"
   ]
  },
  {
   "cell_type": "code",
   "execution_count": 62,
   "id": "449d1a69",
   "metadata": {
    "execution": {
     "iopub.execute_input": "2024-10-05T15:29:59.209305Z",
     "iopub.status.busy": "2024-10-05T15:29:59.208190Z",
     "iopub.status.idle": "2024-10-05T15:29:59.213807Z",
     "shell.execute_reply": "2024-10-05T15:29:59.212617Z"
    },
    "papermill": {
     "duration": 0.04626,
     "end_time": "2024-10-05T15:29:59.216022",
     "exception": false,
     "start_time": "2024-10-05T15:29:59.169762",
     "status": "completed"
    },
    "tags": []
   },
   "outputs": [],
   "source": [
    "X = final_data\n",
    "y = df['Transported'].astype(int)"
   ]
  },
  {
   "cell_type": "code",
   "execution_count": 63,
   "id": "c88f84bc",
   "metadata": {
    "execution": {
     "iopub.execute_input": "2024-10-05T15:29:59.292538Z",
     "iopub.status.busy": "2024-10-05T15:29:59.292113Z",
     "iopub.status.idle": "2024-10-05T15:29:59.299508Z",
     "shell.execute_reply": "2024-10-05T15:29:59.298471Z"
    },
    "papermill": {
     "duration": 0.048266,
     "end_time": "2024-10-05T15:29:59.301785",
     "exception": false,
     "start_time": "2024-10-05T15:29:59.253519",
     "status": "completed"
    },
    "tags": []
   },
   "outputs": [
    {
     "data": {
      "text/plain": [
       "Index(['Age', 'RoomService', 'FoodCourt', 'ShoppingMall', 'Spa', 'VRDeck',\n",
       "       'Total_Spends', 'HomePlanet_Earth', 'HomePlanet_Europa',\n",
       "       'HomePlanet_Mars', 'CryoSleep_False', 'CryoSleep_True',\n",
       "       'Destination_55 Cancri e', 'Destination_PSO J318.5-22',\n",
       "       'Destination_TRAPPIST-1e', 'VIP_False', 'VIP_True', 'Deck_A', 'Deck_B',\n",
       "       'Deck_C', 'Deck_D', 'Deck_E', 'Deck_F', 'Deck_G', 'Deck_T', 'Side_P',\n",
       "       'Side_S'],\n",
       "      dtype='object')"
      ]
     },
     "execution_count": 63,
     "metadata": {},
     "output_type": "execute_result"
    }
   ],
   "source": [
    "X.columns"
   ]
  },
  {
   "cell_type": "code",
   "execution_count": 64,
   "id": "1fcb69b6",
   "metadata": {
    "execution": {
     "iopub.execute_input": "2024-10-05T15:29:59.378922Z",
     "iopub.status.busy": "2024-10-05T15:29:59.377963Z",
     "iopub.status.idle": "2024-10-05T15:29:59.383658Z",
     "shell.execute_reply": "2024-10-05T15:29:59.382576Z"
    },
    "papermill": {
     "duration": 0.046607,
     "end_time": "2024-10-05T15:29:59.385741",
     "exception": false,
     "start_time": "2024-10-05T15:29:59.339134",
     "status": "completed"
    },
    "tags": []
   },
   "outputs": [],
   "source": [
    "numeric_col =['Age', 'RoomService', 'FoodCourt', 'ShoppingMall', 'Spa', 'VRDeck','Total_Spends']\n",
    "dummy_col = ['HomePlanet_Earth', 'HomePlanet_Europa',\n",
    "       'HomePlanet_Mars', 'CryoSleep_False', 'CryoSleep_True',\n",
    "       'Destination_55 Cancri e', 'Destination_PSO J318.5-22',\n",
    "       'Destination_TRAPPIST-1e', 'VIP_False', 'VIP_True', 'Deck_A', 'Deck_B',\n",
    "       'Deck_C', 'Deck_D', 'Deck_E', 'Deck_F', 'Deck_G', 'Deck_T', 'Side_P',\n",
    "       'Side_S']"
   ]
  },
  {
   "cell_type": "code",
   "execution_count": 65,
   "id": "2970bf47",
   "metadata": {
    "execution": {
     "iopub.execute_input": "2024-10-05T15:29:59.463403Z",
     "iopub.status.busy": "2024-10-05T15:29:59.462970Z",
     "iopub.status.idle": "2024-10-05T15:29:59.477804Z",
     "shell.execute_reply": "2024-10-05T15:29:59.476795Z"
    },
    "papermill": {
     "duration": 0.057032,
     "end_time": "2024-10-05T15:29:59.480497",
     "exception": false,
     "start_time": "2024-10-05T15:29:59.423465",
     "status": "completed"
    },
    "tags": []
   },
   "outputs": [],
   "source": [
    "from sklearn.preprocessing import StandardScaler\n",
    "scaler = StandardScaler()\n",
    "# Scale only numerical columns\n",
    "X_scaled_numerical = scaler.fit_transform(X[numeric_col])\n",
    "\n",
    "# Convert scaled numerical data back to a DataFrame\n",
    "X_scaled_numerical_df = pd.DataFrame(X_scaled_numerical, columns=numeric_col)\n",
    "\n",
    "# Concatenate scaled numerical data with dummy variables\n",
    "X_Scaled = pd.concat([X_scaled_numerical_df, X[dummy_col].reset_index(drop=True)], axis=1)"
   ]
  },
  {
   "cell_type": "code",
   "execution_count": 66,
   "id": "80b56f16",
   "metadata": {
    "execution": {
     "iopub.execute_input": "2024-10-05T15:29:59.557030Z",
     "iopub.status.busy": "2024-10-05T15:29:59.556611Z",
     "iopub.status.idle": "2024-10-05T15:29:59.592705Z",
     "shell.execute_reply": "2024-10-05T15:29:59.591578Z"
    },
    "papermill": {
     "duration": 0.077234,
     "end_time": "2024-10-05T15:29:59.595122",
     "exception": false,
     "start_time": "2024-10-05T15:29:59.517888",
     "status": "completed"
    },
    "tags": []
   },
   "outputs": [
    {
     "data": {
      "text/html": [
       "<div>\n",
       "<style scoped>\n",
       "    .dataframe tbody tr th:only-of-type {\n",
       "        vertical-align: middle;\n",
       "    }\n",
       "\n",
       "    .dataframe tbody tr th {\n",
       "        vertical-align: top;\n",
       "    }\n",
       "\n",
       "    .dataframe thead th {\n",
       "        text-align: right;\n",
       "    }\n",
       "</style>\n",
       "<table border=\"1\" class=\"dataframe\">\n",
       "  <thead>\n",
       "    <tr style=\"text-align: right;\">\n",
       "      <th></th>\n",
       "      <th>Age</th>\n",
       "      <th>RoomService</th>\n",
       "      <th>FoodCourt</th>\n",
       "      <th>ShoppingMall</th>\n",
       "      <th>Spa</th>\n",
       "      <th>VRDeck</th>\n",
       "      <th>Total_Spends</th>\n",
       "      <th>HomePlanet_Earth</th>\n",
       "      <th>HomePlanet_Europa</th>\n",
       "      <th>HomePlanet_Mars</th>\n",
       "      <th>...</th>\n",
       "      <th>Deck_A</th>\n",
       "      <th>Deck_B</th>\n",
       "      <th>Deck_C</th>\n",
       "      <th>Deck_D</th>\n",
       "      <th>Deck_E</th>\n",
       "      <th>Deck_F</th>\n",
       "      <th>Deck_G</th>\n",
       "      <th>Deck_T</th>\n",
       "      <th>Side_P</th>\n",
       "      <th>Side_S</th>\n",
       "    </tr>\n",
       "  </thead>\n",
       "  <tbody>\n",
       "    <tr>\n",
       "      <th>0</th>\n",
       "      <td>0.723455</td>\n",
       "      <td>-0.421526</td>\n",
       "      <td>-0.338487</td>\n",
       "      <td>-0.397010</td>\n",
       "      <td>-0.359747</td>\n",
       "      <td>-0.355805</td>\n",
       "      <td>-0.697718</td>\n",
       "      <td>0.0</td>\n",
       "      <td>1.0</td>\n",
       "      <td>0.0</td>\n",
       "      <td>...</td>\n",
       "      <td>0.0</td>\n",
       "      <td>1.0</td>\n",
       "      <td>0.0</td>\n",
       "      <td>0.0</td>\n",
       "      <td>0.0</td>\n",
       "      <td>0.0</td>\n",
       "      <td>0.0</td>\n",
       "      <td>0.0</td>\n",
       "      <td>1.0</td>\n",
       "      <td>0.0</td>\n",
       "    </tr>\n",
       "    <tr>\n",
       "      <th>1</th>\n",
       "      <td>-0.301452</td>\n",
       "      <td>-0.124237</td>\n",
       "      <td>-0.326602</td>\n",
       "      <td>-0.319878</td>\n",
       "      <td>0.782617</td>\n",
       "      <td>-0.257726</td>\n",
       "      <td>-0.108852</td>\n",
       "      <td>1.0</td>\n",
       "      <td>0.0</td>\n",
       "      <td>0.0</td>\n",
       "      <td>...</td>\n",
       "      <td>0.0</td>\n",
       "      <td>0.0</td>\n",
       "      <td>0.0</td>\n",
       "      <td>0.0</td>\n",
       "      <td>0.0</td>\n",
       "      <td>1.0</td>\n",
       "      <td>0.0</td>\n",
       "      <td>0.0</td>\n",
       "      <td>0.0</td>\n",
       "      <td>1.0</td>\n",
       "    </tr>\n",
       "    <tr>\n",
       "      <th>2</th>\n",
       "      <td>0.313493</td>\n",
       "      <td>-0.421526</td>\n",
       "      <td>1.355845</td>\n",
       "      <td>0.747634</td>\n",
       "      <td>6.567265</td>\n",
       "      <td>0.074406</td>\n",
       "      <td>3.443542</td>\n",
       "      <td>0.0</td>\n",
       "      <td>1.0</td>\n",
       "      <td>0.0</td>\n",
       "      <td>...</td>\n",
       "      <td>1.0</td>\n",
       "      <td>0.0</td>\n",
       "      <td>0.0</td>\n",
       "      <td>0.0</td>\n",
       "      <td>0.0</td>\n",
       "      <td>0.0</td>\n",
       "      <td>0.0</td>\n",
       "      <td>0.0</td>\n",
       "      <td>0.0</td>\n",
       "      <td>1.0</td>\n",
       "    </tr>\n",
       "    <tr>\n",
       "      <th>3</th>\n",
       "      <td>-0.848069</td>\n",
       "      <td>0.404883</td>\n",
       "      <td>-0.246045</td>\n",
       "      <td>0.068869</td>\n",
       "      <td>0.815910</td>\n",
       "      <td>-0.351347</td>\n",
       "      <td>0.175179</td>\n",
       "      <td>1.0</td>\n",
       "      <td>0.0</td>\n",
       "      <td>0.0</td>\n",
       "      <td>...</td>\n",
       "      <td>0.0</td>\n",
       "      <td>0.0</td>\n",
       "      <td>0.0</td>\n",
       "      <td>0.0</td>\n",
       "      <td>0.0</td>\n",
       "      <td>1.0</td>\n",
       "      <td>0.0</td>\n",
       "      <td>0.0</td>\n",
       "      <td>0.0</td>\n",
       "      <td>1.0</td>\n",
       "    </tr>\n",
       "    <tr>\n",
       "      <th>4</th>\n",
       "      <td>1.065091</td>\n",
       "      <td>-0.421526</td>\n",
       "      <td>0.299364</td>\n",
       "      <td>-0.397010</td>\n",
       "      <td>0.245768</td>\n",
       "      <td>-0.355805</td>\n",
       "      <td>-0.078449</td>\n",
       "      <td>1.0</td>\n",
       "      <td>0.0</td>\n",
       "      <td>0.0</td>\n",
       "      <td>...</td>\n",
       "      <td>0.0</td>\n",
       "      <td>0.0</td>\n",
       "      <td>0.0</td>\n",
       "      <td>0.0</td>\n",
       "      <td>0.0</td>\n",
       "      <td>1.0</td>\n",
       "      <td>0.0</td>\n",
       "      <td>0.0</td>\n",
       "      <td>1.0</td>\n",
       "      <td>0.0</td>\n",
       "    </tr>\n",
       "    <tr>\n",
       "      <th>...</th>\n",
       "      <td>...</td>\n",
       "      <td>...</td>\n",
       "      <td>...</td>\n",
       "      <td>...</td>\n",
       "      <td>...</td>\n",
       "      <td>...</td>\n",
       "      <td>...</td>\n",
       "      <td>...</td>\n",
       "      <td>...</td>\n",
       "      <td>...</td>\n",
       "      <td>...</td>\n",
       "      <td>...</td>\n",
       "      <td>...</td>\n",
       "      <td>...</td>\n",
       "      <td>...</td>\n",
       "      <td>...</td>\n",
       "      <td>...</td>\n",
       "      <td>...</td>\n",
       "      <td>...</td>\n",
       "      <td>...</td>\n",
       "      <td>...</td>\n",
       "    </tr>\n",
       "    <tr>\n",
       "      <th>6186</th>\n",
       "      <td>0.245165</td>\n",
       "      <td>-0.418798</td>\n",
       "      <td>1.174923</td>\n",
       "      <td>-0.397010</td>\n",
       "      <td>-0.255707</td>\n",
       "      <td>-0.280017</td>\n",
       "      <td>0.287192</td>\n",
       "      <td>0.0</td>\n",
       "      <td>1.0</td>\n",
       "      <td>0.0</td>\n",
       "      <td>...</td>\n",
       "      <td>1.0</td>\n",
       "      <td>0.0</td>\n",
       "      <td>0.0</td>\n",
       "      <td>0.0</td>\n",
       "      <td>0.0</td>\n",
       "      <td>0.0</td>\n",
       "      <td>0.0</td>\n",
       "      <td>0.0</td>\n",
       "      <td>1.0</td>\n",
       "      <td>0.0</td>\n",
       "    </tr>\n",
       "    <tr>\n",
       "      <th>6187</th>\n",
       "      <td>-0.711415</td>\n",
       "      <td>-0.421526</td>\n",
       "      <td>-0.338487</td>\n",
       "      <td>-0.397010</td>\n",
       "      <td>-0.359747</td>\n",
       "      <td>-0.355805</td>\n",
       "      <td>-0.697718</td>\n",
       "      <td>1.0</td>\n",
       "      <td>0.0</td>\n",
       "      <td>0.0</td>\n",
       "      <td>...</td>\n",
       "      <td>0.0</td>\n",
       "      <td>0.0</td>\n",
       "      <td>0.0</td>\n",
       "      <td>0.0</td>\n",
       "      <td>0.0</td>\n",
       "      <td>0.0</td>\n",
       "      <td>1.0</td>\n",
       "      <td>0.0</td>\n",
       "      <td>0.0</td>\n",
       "      <td>1.0</td>\n",
       "    </tr>\n",
       "    <tr>\n",
       "      <th>6188</th>\n",
       "      <td>-0.164797</td>\n",
       "      <td>-0.421526</td>\n",
       "      <td>-0.338487</td>\n",
       "      <td>5.378658</td>\n",
       "      <td>-0.357666</td>\n",
       "      <td>-0.355805</td>\n",
       "      <td>0.800849</td>\n",
       "      <td>1.0</td>\n",
       "      <td>0.0</td>\n",
       "      <td>0.0</td>\n",
       "      <td>...</td>\n",
       "      <td>0.0</td>\n",
       "      <td>0.0</td>\n",
       "      <td>0.0</td>\n",
       "      <td>0.0</td>\n",
       "      <td>0.0</td>\n",
       "      <td>0.0</td>\n",
       "      <td>1.0</td>\n",
       "      <td>0.0</td>\n",
       "      <td>0.0</td>\n",
       "      <td>1.0</td>\n",
       "    </tr>\n",
       "    <tr>\n",
       "      <th>6189</th>\n",
       "      <td>0.245165</td>\n",
       "      <td>-0.421526</td>\n",
       "      <td>1.046824</td>\n",
       "      <td>-0.397010</td>\n",
       "      <td>0.374778</td>\n",
       "      <td>6.855249</td>\n",
       "      <td>3.012294</td>\n",
       "      <td>0.0</td>\n",
       "      <td>1.0</td>\n",
       "      <td>0.0</td>\n",
       "      <td>...</td>\n",
       "      <td>0.0</td>\n",
       "      <td>0.0</td>\n",
       "      <td>0.0</td>\n",
       "      <td>0.0</td>\n",
       "      <td>1.0</td>\n",
       "      <td>0.0</td>\n",
       "      <td>0.0</td>\n",
       "      <td>0.0</td>\n",
       "      <td>0.0</td>\n",
       "      <td>1.0</td>\n",
       "    </tr>\n",
       "    <tr>\n",
       "      <th>6190</th>\n",
       "      <td>1.065091</td>\n",
       "      <td>-0.077870</td>\n",
       "      <td>5.852495</td>\n",
       "      <td>-0.397010</td>\n",
       "      <td>-0.359747</td>\n",
       "      <td>-0.329056</td>\n",
       "      <td>3.163511</td>\n",
       "      <td>0.0</td>\n",
       "      <td>1.0</td>\n",
       "      <td>0.0</td>\n",
       "      <td>...</td>\n",
       "      <td>0.0</td>\n",
       "      <td>0.0</td>\n",
       "      <td>0.0</td>\n",
       "      <td>0.0</td>\n",
       "      <td>1.0</td>\n",
       "      <td>0.0</td>\n",
       "      <td>0.0</td>\n",
       "      <td>0.0</td>\n",
       "      <td>0.0</td>\n",
       "      <td>1.0</td>\n",
       "    </tr>\n",
       "  </tbody>\n",
       "</table>\n",
       "<p>6191 rows × 27 columns</p>\n",
       "</div>"
      ],
      "text/plain": [
       "           Age  RoomService  FoodCourt  ShoppingMall       Spa    VRDeck  \\\n",
       "0     0.723455    -0.421526  -0.338487     -0.397010 -0.359747 -0.355805   \n",
       "1    -0.301452    -0.124237  -0.326602     -0.319878  0.782617 -0.257726   \n",
       "2     0.313493    -0.421526   1.355845      0.747634  6.567265  0.074406   \n",
       "3    -0.848069     0.404883  -0.246045      0.068869  0.815910 -0.351347   \n",
       "4     1.065091    -0.421526   0.299364     -0.397010  0.245768 -0.355805   \n",
       "...        ...          ...        ...           ...       ...       ...   \n",
       "6186  0.245165    -0.418798   1.174923     -0.397010 -0.255707 -0.280017   \n",
       "6187 -0.711415    -0.421526  -0.338487     -0.397010 -0.359747 -0.355805   \n",
       "6188 -0.164797    -0.421526  -0.338487      5.378658 -0.357666 -0.355805   \n",
       "6189  0.245165    -0.421526   1.046824     -0.397010  0.374778  6.855249   \n",
       "6190  1.065091    -0.077870   5.852495     -0.397010 -0.359747 -0.329056   \n",
       "\n",
       "      Total_Spends  HomePlanet_Earth  HomePlanet_Europa  HomePlanet_Mars  ...  \\\n",
       "0        -0.697718               0.0                1.0              0.0  ...   \n",
       "1        -0.108852               1.0                0.0              0.0  ...   \n",
       "2         3.443542               0.0                1.0              0.0  ...   \n",
       "3         0.175179               1.0                0.0              0.0  ...   \n",
       "4        -0.078449               1.0                0.0              0.0  ...   \n",
       "...            ...               ...                ...              ...  ...   \n",
       "6186      0.287192               0.0                1.0              0.0  ...   \n",
       "6187     -0.697718               1.0                0.0              0.0  ...   \n",
       "6188      0.800849               1.0                0.0              0.0  ...   \n",
       "6189      3.012294               0.0                1.0              0.0  ...   \n",
       "6190      3.163511               0.0                1.0              0.0  ...   \n",
       "\n",
       "      Deck_A  Deck_B  Deck_C  Deck_D  Deck_E  Deck_F  Deck_G  Deck_T  Side_P  \\\n",
       "0        0.0     1.0     0.0     0.0     0.0     0.0     0.0     0.0     1.0   \n",
       "1        0.0     0.0     0.0     0.0     0.0     1.0     0.0     0.0     0.0   \n",
       "2        1.0     0.0     0.0     0.0     0.0     0.0     0.0     0.0     0.0   \n",
       "3        0.0     0.0     0.0     0.0     0.0     1.0     0.0     0.0     0.0   \n",
       "4        0.0     0.0     0.0     0.0     0.0     1.0     0.0     0.0     1.0   \n",
       "...      ...     ...     ...     ...     ...     ...     ...     ...     ...   \n",
       "6186     1.0     0.0     0.0     0.0     0.0     0.0     0.0     0.0     1.0   \n",
       "6187     0.0     0.0     0.0     0.0     0.0     0.0     1.0     0.0     0.0   \n",
       "6188     0.0     0.0     0.0     0.0     0.0     0.0     1.0     0.0     0.0   \n",
       "6189     0.0     0.0     0.0     0.0     1.0     0.0     0.0     0.0     0.0   \n",
       "6190     0.0     0.0     0.0     0.0     1.0     0.0     0.0     0.0     0.0   \n",
       "\n",
       "      Side_S  \n",
       "0        0.0  \n",
       "1        1.0  \n",
       "2        1.0  \n",
       "3        1.0  \n",
       "4        0.0  \n",
       "...      ...  \n",
       "6186     0.0  \n",
       "6187     1.0  \n",
       "6188     1.0  \n",
       "6189     1.0  \n",
       "6190     1.0  \n",
       "\n",
       "[6191 rows x 27 columns]"
      ]
     },
     "execution_count": 66,
     "metadata": {},
     "output_type": "execute_result"
    }
   ],
   "source": [
    "X_Scaled"
   ]
  },
  {
   "cell_type": "markdown",
   "id": "f04fd3c4",
   "metadata": {
    "papermill": {
     "duration": 0.037655,
     "end_time": "2024-10-05T15:29:59.671226",
     "exception": false,
     "start_time": "2024-10-05T15:29:59.633571",
     "status": "completed"
    },
    "tags": []
   },
   "source": [
    "# **3.Model Selection**"
   ]
  },
  {
   "cell_type": "markdown",
   "id": "5b732baa",
   "metadata": {
    "papermill": {
     "duration": 0.037971,
     "end_time": "2024-10-05T15:29:59.746730",
     "exception": false,
     "start_time": "2024-10-05T15:29:59.708759",
     "status": "completed"
    },
    "tags": []
   },
   "source": [
    "> # Now we will select our best two models using cross_val_score"
   ]
  },
  {
   "cell_type": "code",
   "execution_count": 67,
   "id": "e5a93ffd",
   "metadata": {
    "execution": {
     "iopub.execute_input": "2024-10-05T15:29:59.823876Z",
     "iopub.status.busy": "2024-10-05T15:29:59.823005Z",
     "iopub.status.idle": "2024-10-05T15:30:00.002320Z",
     "shell.execute_reply": "2024-10-05T15:30:00.001183Z"
    },
    "papermill": {
     "duration": 0.220928,
     "end_time": "2024-10-05T15:30:00.004901",
     "exception": false,
     "start_time": "2024-10-05T15:29:59.783973",
     "status": "completed"
    },
    "tags": []
   },
   "outputs": [],
   "source": [
    "from sklearn.model_selection import cross_val_score\n",
    "from xgboost import XGBClassifier"
   ]
  },
  {
   "cell_type": "code",
   "execution_count": 68,
   "id": "38ee8e86",
   "metadata": {
    "execution": {
     "iopub.execute_input": "2024-10-05T15:30:00.086918Z",
     "iopub.status.busy": "2024-10-05T15:30:00.085863Z",
     "iopub.status.idle": "2024-10-05T15:30:06.124149Z",
     "shell.execute_reply": "2024-10-05T15:30:06.122920Z"
    },
    "papermill": {
     "duration": 6.083935,
     "end_time": "2024-10-05T15:30:06.128054",
     "exception": false,
     "start_time": "2024-10-05T15:30:00.044119",
     "status": "completed"
    },
    "tags": []
   },
   "outputs": [
    {
     "name": "stderr",
     "output_type": "stream",
     "text": [
      "/opt/conda/lib/python3.10/site-packages/sklearn/linear_model/_logistic.py:458: ConvergenceWarning: lbfgs failed to converge (status=1):\n",
      "STOP: TOTAL NO. of ITERATIONS REACHED LIMIT.\n",
      "\n",
      "Increase the number of iterations (max_iter) or scale the data as shown in:\n",
      "    https://scikit-learn.org/stable/modules/preprocessing.html\n",
      "Please also refer to the documentation for alternative solver options:\n",
      "    https://scikit-learn.org/stable/modules/linear_model.html#logistic-regression\n",
      "  n_iter_i = _check_optimize_result(\n",
      "/opt/conda/lib/python3.10/site-packages/sklearn/linear_model/_logistic.py:458: ConvergenceWarning: lbfgs failed to converge (status=1):\n",
      "STOP: TOTAL NO. of ITERATIONS REACHED LIMIT.\n",
      "\n",
      "Increase the number of iterations (max_iter) or scale the data as shown in:\n",
      "    https://scikit-learn.org/stable/modules/preprocessing.html\n",
      "Please also refer to the documentation for alternative solver options:\n",
      "    https://scikit-learn.org/stable/modules/linear_model.html#logistic-regression\n",
      "  n_iter_i = _check_optimize_result(\n",
      "/opt/conda/lib/python3.10/site-packages/sklearn/linear_model/_logistic.py:458: ConvergenceWarning: lbfgs failed to converge (status=1):\n",
      "STOP: TOTAL NO. of ITERATIONS REACHED LIMIT.\n",
      "\n",
      "Increase the number of iterations (max_iter) or scale the data as shown in:\n",
      "    https://scikit-learn.org/stable/modules/preprocessing.html\n",
      "Please also refer to the documentation for alternative solver options:\n",
      "    https://scikit-learn.org/stable/modules/linear_model.html#logistic-regression\n",
      "  n_iter_i = _check_optimize_result(\n",
      "/opt/conda/lib/python3.10/site-packages/sklearn/linear_model/_logistic.py:458: ConvergenceWarning: lbfgs failed to converge (status=1):\n",
      "STOP: TOTAL NO. of ITERATIONS REACHED LIMIT.\n",
      "\n",
      "Increase the number of iterations (max_iter) or scale the data as shown in:\n",
      "    https://scikit-learn.org/stable/modules/preprocessing.html\n",
      "Please also refer to the documentation for alternative solver options:\n",
      "    https://scikit-learn.org/stable/modules/linear_model.html#logistic-regression\n",
      "  n_iter_i = _check_optimize_result(\n",
      "/opt/conda/lib/python3.10/site-packages/sklearn/linear_model/_logistic.py:458: ConvergenceWarning: lbfgs failed to converge (status=1):\n",
      "STOP: TOTAL NO. of ITERATIONS REACHED LIMIT.\n",
      "\n",
      "Increase the number of iterations (max_iter) or scale the data as shown in:\n",
      "    https://scikit-learn.org/stable/modules/preprocessing.html\n",
      "Please also refer to the documentation for alternative solver options:\n",
      "    https://scikit-learn.org/stable/modules/linear_model.html#logistic-regression\n",
      "  n_iter_i = _check_optimize_result(\n",
      "/opt/conda/lib/python3.10/site-packages/sklearn/linear_model/_logistic.py:458: ConvergenceWarning: lbfgs failed to converge (status=1):\n",
      "STOP: TOTAL NO. of ITERATIONS REACHED LIMIT.\n",
      "\n",
      "Increase the number of iterations (max_iter) or scale the data as shown in:\n",
      "    https://scikit-learn.org/stable/modules/preprocessing.html\n",
      "Please also refer to the documentation for alternative solver options:\n",
      "    https://scikit-learn.org/stable/modules/linear_model.html#logistic-regression\n",
      "  n_iter_i = _check_optimize_result(\n",
      "/opt/conda/lib/python3.10/site-packages/sklearn/linear_model/_logistic.py:458: ConvergenceWarning: lbfgs failed to converge (status=1):\n",
      "STOP: TOTAL NO. of ITERATIONS REACHED LIMIT.\n",
      "\n",
      "Increase the number of iterations (max_iter) or scale the data as shown in:\n",
      "    https://scikit-learn.org/stable/modules/preprocessing.html\n",
      "Please also refer to the documentation for alternative solver options:\n",
      "    https://scikit-learn.org/stable/modules/linear_model.html#logistic-regression\n",
      "  n_iter_i = _check_optimize_result(\n",
      "/opt/conda/lib/python3.10/site-packages/sklearn/linear_model/_logistic.py:458: ConvergenceWarning: lbfgs failed to converge (status=1):\n",
      "STOP: TOTAL NO. of ITERATIONS REACHED LIMIT.\n",
      "\n",
      "Increase the number of iterations (max_iter) or scale the data as shown in:\n",
      "    https://scikit-learn.org/stable/modules/preprocessing.html\n",
      "Please also refer to the documentation for alternative solver options:\n",
      "    https://scikit-learn.org/stable/modules/linear_model.html#logistic-regression\n",
      "  n_iter_i = _check_optimize_result(\n"
     ]
    },
    {
     "name": "stdout",
     "output_type": "stream",
     "text": [
      "model_score : 0.7812968367293762\n",
      "model_scaled_data_score : 0.7816196779404867\n"
     ]
    }
   ],
   "source": [
    "print(f'model_score : {np.mean(cross_val_score(LogisticRegression(max_iter=500),X,y,cv=10))}')\n",
    "print(f'model_scaled_data_score : {np.mean(cross_val_score(LogisticRegression(max_iter=500),X_Scaled,y,cv=10))}')"
   ]
  },
  {
   "cell_type": "code",
   "execution_count": 69,
   "id": "1826dce1",
   "metadata": {
    "execution": {
     "iopub.execute_input": "2024-10-05T15:30:06.251977Z",
     "iopub.status.busy": "2024-10-05T15:30:06.251570Z",
     "iopub.status.idle": "2024-10-05T15:30:07.030121Z",
     "shell.execute_reply": "2024-10-05T15:30:07.028883Z"
    },
    "papermill": {
     "duration": 0.838336,
     "end_time": "2024-10-05T15:30:07.032669",
     "exception": false,
     "start_time": "2024-10-05T15:30:06.194333",
     "status": "completed"
    },
    "tags": []
   },
   "outputs": [
    {
     "name": "stdout",
     "output_type": "stream",
     "text": [
      "model_score : 0.7270248579915577\n",
      "model_scaled_data_score : 0.727994163322737\n"
     ]
    }
   ],
   "source": [
    "print(f'model_score : {np.mean(cross_val_score(DecisionTreeClassifier(),X,y,cv=10))}')\n",
    "print(f'model_scaled_data_score : {np.mean(cross_val_score(DecisionTreeClassifier(),X_Scaled,y,cv=10))}')"
   ]
  },
  {
   "cell_type": "code",
   "execution_count": 70,
   "id": "bcb58b45",
   "metadata": {
    "execution": {
     "iopub.execute_input": "2024-10-05T15:30:07.115880Z",
     "iopub.status.busy": "2024-10-05T15:30:07.115455Z",
     "iopub.status.idle": "2024-10-05T15:30:13.909051Z",
     "shell.execute_reply": "2024-10-05T15:30:13.907945Z"
    },
    "papermill": {
     "duration": 6.839406,
     "end_time": "2024-10-05T15:30:13.911488",
     "exception": false,
     "start_time": "2024-10-05T15:30:07.072082",
     "status": "completed"
    },
    "tags": []
   },
   "outputs": [
    {
     "name": "stdout",
     "output_type": "stream",
     "text": [
      "model_score : 0.7858186982125176\n",
      "model_scaled_data_score : 0.7875970608160926\n"
     ]
    }
   ],
   "source": [
    "print(f'model_score : {np.mean(cross_val_score(RandomForestClassifier(n_estimators=40),X,y,cv=10))}')\n",
    "print(f'model_scaled_data_score : {np.mean(cross_val_score(RandomForestClassifier(n_estimators=40),X_Scaled,y,cv=10))}')"
   ]
  },
  {
   "cell_type": "code",
   "execution_count": 71,
   "id": "b7e6b74c",
   "metadata": {
    "execution": {
     "iopub.execute_input": "2024-10-05T15:30:13.990120Z",
     "iopub.status.busy": "2024-10-05T15:30:13.989325Z",
     "iopub.status.idle": "2024-10-05T15:30:39.650284Z",
     "shell.execute_reply": "2024-10-05T15:30:39.649200Z"
    },
    "papermill": {
     "duration": 25.702942,
     "end_time": "2024-10-05T15:30:39.652672",
     "exception": false,
     "start_time": "2024-10-05T15:30:13.949730",
     "status": "completed"
    },
    "tags": []
   },
   "outputs": [
    {
     "name": "stdout",
     "output_type": "stream",
     "text": [
      "model_score : 0.7838808692480067\n",
      "model_scaled_data_score : 0.7945419250612329\n"
     ]
    }
   ],
   "source": [
    "print(f'model_score : {np.mean(cross_val_score(SVC(),X,y,cv=10))}')\n",
    "print(f'model_scaled_data_score : {np.mean(cross_val_score(SVC(),X_Scaled,y,cv=10))}')"
   ]
  },
  {
   "cell_type": "code",
   "execution_count": 72,
   "id": "fbef3d3d",
   "metadata": {
    "execution": {
     "iopub.execute_input": "2024-10-05T15:30:39.732926Z",
     "iopub.status.busy": "2024-10-05T15:30:39.732091Z",
     "iopub.status.idle": "2024-10-05T15:30:39.918424Z",
     "shell.execute_reply": "2024-10-05T15:30:39.917339Z"
    },
    "papermill": {
     "duration": 0.229508,
     "end_time": "2024-10-05T15:30:39.920825",
     "exception": false,
     "start_time": "2024-10-05T15:30:39.691317",
     "status": "completed"
    },
    "tags": []
   },
   "outputs": [
    {
     "name": "stdout",
     "output_type": "stream",
     "text": [
      "model_score : 0.7643381624889259\n",
      "model_scaled_data_score : 0.7636927406326542\n"
     ]
    }
   ],
   "source": [
    "print(f'model_score : {np.mean(cross_val_score(GaussianNB(),X,y,cv=10))}')\n",
    "print(f'model_scaled_data_score : {np.mean(cross_val_score(GaussianNB(),X_Scaled,y,cv=10))}')"
   ]
  },
  {
   "cell_type": "code",
   "execution_count": 73,
   "id": "4fab2062",
   "metadata": {
    "execution": {
     "iopub.execute_input": "2024-10-05T15:30:40.000037Z",
     "iopub.status.busy": "2024-10-05T15:30:39.999615Z",
     "iopub.status.idle": "2024-10-05T15:30:43.820610Z",
     "shell.execute_reply": "2024-10-05T15:30:43.819759Z"
    },
    "papermill": {
     "duration": 3.863279,
     "end_time": "2024-10-05T15:30:43.822853",
     "exception": false,
     "start_time": "2024-10-05T15:30:39.959574",
     "status": "completed"
    },
    "tags": []
   },
   "outputs": [
    {
     "name": "stdout",
     "output_type": "stream",
     "text": [
      "model_score : 0.7942190838501224\n",
      "model_scaled_data_score : 0.7942190838501224\n"
     ]
    }
   ],
   "source": [
    "print(f'model_score : {np.mean(cross_val_score(XGBClassifier(),X,y,cv=10))}')\n",
    "print(f'model_scaled_data_score : {np.mean(cross_val_score(XGBClassifier(),X_Scaled,y,cv=10))}')"
   ]
  },
  {
   "cell_type": "code",
   "execution_count": 74,
   "id": "8e39f60b",
   "metadata": {
    "execution": {
     "iopub.execute_input": "2024-10-05T15:30:43.903558Z",
     "iopub.status.busy": "2024-10-05T15:30:43.902854Z",
     "iopub.status.idle": "2024-10-05T15:30:43.914463Z",
     "shell.execute_reply": "2024-10-05T15:30:43.913401Z"
    },
    "papermill": {
     "duration": 0.054628,
     "end_time": "2024-10-05T15:30:43.916709",
     "exception": false,
     "start_time": "2024-10-05T15:30:43.862081",
     "status": "completed"
    },
    "tags": []
   },
   "outputs": [
    {
     "data": {
      "text/html": [
       "<style>#sk-container-id-1 {color: black;background-color: white;}#sk-container-id-1 pre{padding: 0;}#sk-container-id-1 div.sk-toggleable {background-color: white;}#sk-container-id-1 label.sk-toggleable__label {cursor: pointer;display: block;width: 100%;margin-bottom: 0;padding: 0.3em;box-sizing: border-box;text-align: center;}#sk-container-id-1 label.sk-toggleable__label-arrow:before {content: \"▸\";float: left;margin-right: 0.25em;color: #696969;}#sk-container-id-1 label.sk-toggleable__label-arrow:hover:before {color: black;}#sk-container-id-1 div.sk-estimator:hover label.sk-toggleable__label-arrow:before {color: black;}#sk-container-id-1 div.sk-toggleable__content {max-height: 0;max-width: 0;overflow: hidden;text-align: left;background-color: #f0f8ff;}#sk-container-id-1 div.sk-toggleable__content pre {margin: 0.2em;color: black;border-radius: 0.25em;background-color: #f0f8ff;}#sk-container-id-1 input.sk-toggleable__control:checked~div.sk-toggleable__content {max-height: 200px;max-width: 100%;overflow: auto;}#sk-container-id-1 input.sk-toggleable__control:checked~label.sk-toggleable__label-arrow:before {content: \"▾\";}#sk-container-id-1 div.sk-estimator input.sk-toggleable__control:checked~label.sk-toggleable__label {background-color: #d4ebff;}#sk-container-id-1 div.sk-label input.sk-toggleable__control:checked~label.sk-toggleable__label {background-color: #d4ebff;}#sk-container-id-1 input.sk-hidden--visually {border: 0;clip: rect(1px 1px 1px 1px);clip: rect(1px, 1px, 1px, 1px);height: 1px;margin: -1px;overflow: hidden;padding: 0;position: absolute;width: 1px;}#sk-container-id-1 div.sk-estimator {font-family: monospace;background-color: #f0f8ff;border: 1px dotted black;border-radius: 0.25em;box-sizing: border-box;margin-bottom: 0.5em;}#sk-container-id-1 div.sk-estimator:hover {background-color: #d4ebff;}#sk-container-id-1 div.sk-parallel-item::after {content: \"\";width: 100%;border-bottom: 1px solid gray;flex-grow: 1;}#sk-container-id-1 div.sk-label:hover label.sk-toggleable__label {background-color: #d4ebff;}#sk-container-id-1 div.sk-serial::before {content: \"\";position: absolute;border-left: 1px solid gray;box-sizing: border-box;top: 0;bottom: 0;left: 50%;z-index: 0;}#sk-container-id-1 div.sk-serial {display: flex;flex-direction: column;align-items: center;background-color: white;padding-right: 0.2em;padding-left: 0.2em;position: relative;}#sk-container-id-1 div.sk-item {position: relative;z-index: 1;}#sk-container-id-1 div.sk-parallel {display: flex;align-items: stretch;justify-content: center;background-color: white;position: relative;}#sk-container-id-1 div.sk-item::before, #sk-container-id-1 div.sk-parallel-item::before {content: \"\";position: absolute;border-left: 1px solid gray;box-sizing: border-box;top: 0;bottom: 0;left: 50%;z-index: -1;}#sk-container-id-1 div.sk-parallel-item {display: flex;flex-direction: column;z-index: 1;position: relative;background-color: white;}#sk-container-id-1 div.sk-parallel-item:first-child::after {align-self: flex-end;width: 50%;}#sk-container-id-1 div.sk-parallel-item:last-child::after {align-self: flex-start;width: 50%;}#sk-container-id-1 div.sk-parallel-item:only-child::after {width: 0;}#sk-container-id-1 div.sk-dashed-wrapped {border: 1px dashed gray;margin: 0 0.4em 0.5em 0.4em;box-sizing: border-box;padding-bottom: 0.4em;background-color: white;}#sk-container-id-1 div.sk-label label {font-family: monospace;font-weight: bold;display: inline-block;line-height: 1.2em;}#sk-container-id-1 div.sk-label-container {text-align: center;}#sk-container-id-1 div.sk-container {/* jupyter's `normalize.less` sets `[hidden] { display: none; }` but bootstrap.min.css set `[hidden] { display: none !important; }` so we also need the `!important` here to be able to override the default hidden behavior on the sphinx rendered scikit-learn.org. See: https://github.com/scikit-learn/scikit-learn/issues/21755 */display: inline-block !important;position: relative;}#sk-container-id-1 div.sk-text-repr-fallback {display: none;}</style><div id=\"sk-container-id-1\" class=\"sk-top-container\"><div class=\"sk-text-repr-fallback\"><pre>XGBClassifier(base_score=None, booster=None, callbacks=None,\n",
       "              colsample_bylevel=None, colsample_bynode=None,\n",
       "              colsample_bytree=None, device=None, early_stopping_rounds=None,\n",
       "              enable_categorical=False, eval_metric=None, feature_types=None,\n",
       "              gamma=None, grow_policy=None, importance_type=None,\n",
       "              interaction_constraints=None, learning_rate=None, max_bin=None,\n",
       "              max_cat_threshold=None, max_cat_to_onehot=None,\n",
       "              max_delta_step=None, max_depth=None, max_leaves=None,\n",
       "              min_child_weight=None, missing=nan, monotone_constraints=None,\n",
       "              multi_strategy=None, n_estimators=None, n_jobs=None,\n",
       "              num_parallel_tree=None, random_state=None, ...)</pre><b>In a Jupyter environment, please rerun this cell to show the HTML representation or trust the notebook. <br />On GitHub, the HTML representation is unable to render, please try loading this page with nbviewer.org.</b></div><div class=\"sk-container\" hidden><div class=\"sk-item\"><div class=\"sk-estimator sk-toggleable\"><input class=\"sk-toggleable__control sk-hidden--visually\" id=\"sk-estimator-id-1\" type=\"checkbox\" checked><label for=\"sk-estimator-id-1\" class=\"sk-toggleable__label sk-toggleable__label-arrow\">XGBClassifier</label><div class=\"sk-toggleable__content\"><pre>XGBClassifier(base_score=None, booster=None, callbacks=None,\n",
       "              colsample_bylevel=None, colsample_bynode=None,\n",
       "              colsample_bytree=None, device=None, early_stopping_rounds=None,\n",
       "              enable_categorical=False, eval_metric=None, feature_types=None,\n",
       "              gamma=None, grow_policy=None, importance_type=None,\n",
       "              interaction_constraints=None, learning_rate=None, max_bin=None,\n",
       "              max_cat_threshold=None, max_cat_to_onehot=None,\n",
       "              max_delta_step=None, max_depth=None, max_leaves=None,\n",
       "              min_child_weight=None, missing=nan, monotone_constraints=None,\n",
       "              multi_strategy=None, n_estimators=None, n_jobs=None,\n",
       "              num_parallel_tree=None, random_state=None, ...)</pre></div></div></div></div></div>"
      ],
      "text/plain": [
       "XGBClassifier(base_score=None, booster=None, callbacks=None,\n",
       "              colsample_bylevel=None, colsample_bynode=None,\n",
       "              colsample_bytree=None, device=None, early_stopping_rounds=None,\n",
       "              enable_categorical=False, eval_metric=None, feature_types=None,\n",
       "              gamma=None, grow_policy=None, importance_type=None,\n",
       "              interaction_constraints=None, learning_rate=None, max_bin=None,\n",
       "              max_cat_threshold=None, max_cat_to_onehot=None,\n",
       "              max_delta_step=None, max_depth=None, max_leaves=None,\n",
       "              min_child_weight=None, missing=nan, monotone_constraints=None,\n",
       "              multi_strategy=None, n_estimators=None, n_jobs=None,\n",
       "              num_parallel_tree=None, random_state=None, ...)"
      ]
     },
     "execution_count": 74,
     "metadata": {},
     "output_type": "execute_result"
    }
   ],
   "source": [
    "XGBClassifier()"
   ]
  },
  {
   "cell_type": "markdown",
   "id": "e165335e",
   "metadata": {
    "papermill": {
     "duration": 0.039319,
     "end_time": "2024-10-05T15:30:43.996515",
     "exception": false,
     "start_time": "2024-10-05T15:30:43.957196",
     "status": "completed"
    },
    "tags": []
   },
   "source": [
    "# **4. HyperParamter Optimization**"
   ]
  },
  {
   "cell_type": "markdown",
   "id": "33bc219d",
   "metadata": {
    "papermill": {
     "duration": 0.039289,
     "end_time": "2024-10-05T15:30:44.076078",
     "exception": false,
     "start_time": "2024-10-05T15:30:44.036789",
     "status": "completed"
    },
    "tags": []
   },
   "source": [
    "> # Here LogisticRegression and Random Forest are performing best soo using this we implement HyperParamter Optimization on this two models >>"
   ]
  },
  {
   "cell_type": "code",
   "execution_count": 75,
   "id": "34782c86",
   "metadata": {
    "execution": {
     "iopub.execute_input": "2024-10-05T15:30:44.158134Z",
     "iopub.status.busy": "2024-10-05T15:30:44.157703Z",
     "iopub.status.idle": "2024-10-05T15:30:44.164720Z",
     "shell.execute_reply": "2024-10-05T15:30:44.163711Z"
    },
    "papermill": {
     "duration": 0.05149,
     "end_time": "2024-10-05T15:30:44.166925",
     "exception": false,
     "start_time": "2024-10-05T15:30:44.115435",
     "status": "completed"
    },
    "tags": []
   },
   "outputs": [],
   "source": [
    "model_params = {\n",
    "    'XGBClassifier': {\n",
    "        'model': XGBClassifier(solver='liblinear'), \n",
    "        'params': {\n",
    "            'max_depth': [1,5, 10 , 30],\n",
    "            'learning_rate': [0.01, 0.001, 0.1],\n",
    "            'n_estimators': [200,300 ,500],\n",
    "            'min_child_weight': [0,1,5,10],\n",
    "            'gamma': [0.001, 0.1],\n",
    "            'subsample': [ 1.0,1.5,2.0],\n",
    "            'colsample_bytree': [0.7, 0.8,0.9]\n",
    "        }\n",
    "    },\n",
    "    'SVC': {\n",
    "        'model': SVC(),\n",
    "        'params': {\n",
    "            'C': [1, 5, 10],  # Regularization parameter\n",
    "            'kernel': ['linear', 'rbf'],  # Specify the kernel type\n",
    "            'gamma': ['scale', 'auto']  # Kernel coefficient\n",
    "        }\n",
    "    }\n",
    "}"
   ]
  },
  {
   "cell_type": "code",
   "execution_count": 76,
   "id": "3f69e6e3",
   "metadata": {
    "execution": {
     "iopub.execute_input": "2024-10-05T15:30:44.248860Z",
     "iopub.status.busy": "2024-10-05T15:30:44.248433Z",
     "iopub.status.idle": "2024-10-05T15:30:44.255499Z",
     "shell.execute_reply": "2024-10-05T15:30:44.254510Z"
    },
    "papermill": {
     "duration": 0.051595,
     "end_time": "2024-10-05T15:30:44.257726",
     "exception": false,
     "start_time": "2024-10-05T15:30:44.206131",
     "status": "completed"
    },
    "tags": []
   },
   "outputs": [
    {
     "data": {
      "text/plain": [
       "\"# Example for XGBClassifier\\nfrom sklearn.model_selection import GridSearchCV\\ngrid_xgb = GridSearchCV(estimator=model_params['XGBClassifier']['model'],\\n                         param_grid=model_params['XGBClassifier']['params'],\\n                         scoring='accuracy', \\n                         cv=3)\\n\\nimport warnings\\nwarnings.filterwarnings('ignore', category=UserWarning)\\n\\ngrid_xgb.fit(X,y)\\n\""
      ]
     },
     "execution_count": 76,
     "metadata": {},
     "output_type": "execute_result"
    }
   ],
   "source": [
    "'''# Example for XGBClassifier\n",
    "from sklearn.model_selection import GridSearchCV\n",
    "grid_xgb = GridSearchCV(estimator=model_params['XGBClassifier']['model'],\n",
    "                         param_grid=model_params['XGBClassifier']['params'],\n",
    "                         scoring='accuracy', \n",
    "                         cv=3)\n",
    "\n",
    "import warnings\n",
    "warnings.filterwarnings('ignore', category=UserWarning)\n",
    "\n",
    "grid_xgb.fit(X,y)\n",
    "'''"
   ]
  },
  {
   "cell_type": "code",
   "execution_count": 77,
   "id": "578bc3e4",
   "metadata": {
    "execution": {
     "iopub.execute_input": "2024-10-05T15:30:44.339322Z",
     "iopub.status.busy": "2024-10-05T15:30:44.338884Z",
     "iopub.status.idle": "2024-10-05T15:30:44.345396Z",
     "shell.execute_reply": "2024-10-05T15:30:44.344392Z"
    },
    "papermill": {
     "duration": 0.050181,
     "end_time": "2024-10-05T15:30:44.347622",
     "exception": false,
     "start_time": "2024-10-05T15:30:44.297441",
     "status": "completed"
    },
    "tags": []
   },
   "outputs": [
    {
     "data": {
      "text/plain": [
       "\"print(f'Best Params using xgb : {grid_xgb.best_params_}')\\nprint(f'Best Score using xgb : {grid_xgb.best_score_}')\""
      ]
     },
     "execution_count": 77,
     "metadata": {},
     "output_type": "execute_result"
    }
   ],
   "source": [
    "'''print(f'Best Params using xgb : {grid_xgb.best_params_}')\n",
    "print(f'Best Score using xgb : {grid_xgb.best_score_}')'''"
   ]
  },
  {
   "cell_type": "code",
   "execution_count": 78,
   "id": "af9d7bc9",
   "metadata": {
    "execution": {
     "iopub.execute_input": "2024-10-05T15:30:44.429154Z",
     "iopub.status.busy": "2024-10-05T15:30:44.428461Z",
     "iopub.status.idle": "2024-10-05T15:30:44.435235Z",
     "shell.execute_reply": "2024-10-05T15:30:44.434151Z"
    },
    "papermill": {
     "duration": 0.050464,
     "end_time": "2024-10-05T15:30:44.437677",
     "exception": false,
     "start_time": "2024-10-05T15:30:44.387213",
     "status": "completed"
    },
    "tags": []
   },
   "outputs": [
    {
     "data": {
      "text/plain": [
       "\"grid_svc = GridSearchCV(estimator=model_params['SVC']['model'],\\n                         param_grid=model_params['SVC']['params'],\\n                         scoring='accuracy', \\n                         cv=3)\\ngrid_svc.fit(X_Scaled,y)\""
      ]
     },
     "execution_count": 78,
     "metadata": {},
     "output_type": "execute_result"
    }
   ],
   "source": [
    "'''grid_svc = GridSearchCV(estimator=model_params['SVC']['model'],\n",
    "                         param_grid=model_params['SVC']['params'],\n",
    "                         scoring='accuracy', \n",
    "                         cv=3)\n",
    "grid_svc.fit(X_Scaled,y)'''"
   ]
  },
  {
   "cell_type": "code",
   "execution_count": 79,
   "id": "87eff465",
   "metadata": {
    "execution": {
     "iopub.execute_input": "2024-10-05T15:30:44.518915Z",
     "iopub.status.busy": "2024-10-05T15:30:44.518541Z",
     "iopub.status.idle": "2024-10-05T15:30:44.526060Z",
     "shell.execute_reply": "2024-10-05T15:30:44.525032Z"
    },
    "papermill": {
     "duration": 0.05061,
     "end_time": "2024-10-05T15:30:44.528196",
     "exception": false,
     "start_time": "2024-10-05T15:30:44.477586",
     "status": "completed"
    },
    "tags": []
   },
   "outputs": [
    {
     "data": {
      "text/plain": [
       "\"print(f'Best Params using svc : {grid_svc.best_params_}')\\nprint(f'Best Score using svc : {grid_svc.best_score_}')\\n\""
      ]
     },
     "execution_count": 79,
     "metadata": {},
     "output_type": "execute_result"
    }
   ],
   "source": [
    "'''print(f'Best Params using svc : {grid_svc.best_params_}')\n",
    "print(f'Best Score using svc : {grid_svc.best_score_}')\n",
    "'''"
   ]
  },
  {
   "cell_type": "code",
   "execution_count": 80,
   "id": "3d1ba0cb",
   "metadata": {
    "execution": {
     "iopub.execute_input": "2024-10-05T15:30:44.610526Z",
     "iopub.status.busy": "2024-10-05T15:30:44.610062Z",
     "iopub.status.idle": "2024-10-05T15:30:44.617521Z",
     "shell.execute_reply": "2024-10-05T15:30:44.616283Z"
    },
    "papermill": {
     "duration": 0.051288,
     "end_time": "2024-10-05T15:30:44.619814",
     "exception": false,
     "start_time": "2024-10-05T15:30:44.568526",
     "status": "completed"
    },
    "tags": []
   },
   "outputs": [
    {
     "data": {
      "text/plain": [
       "\"from sklearn.model_selection import GridSearchCV\\nscore = []\\nfor model_name , mp in model_params.items() :\\n    clf = GridSearchCV(mp['model'],mp['params'],cv =5,return_train_score=False)\\n    clf.fit(X,y)\\n    score.append({\\n        'model' : model_name,\\n        'best_score' : clf.best_score_,\\n        'best_params' : clf.best_params_\\n    })\\nscore\""
      ]
     },
     "execution_count": 80,
     "metadata": {},
     "output_type": "execute_result"
    }
   ],
   "source": [
    "'''from sklearn.model_selection import GridSearchCV\n",
    "score = []\n",
    "for model_name , mp in model_params.items() :\n",
    "    clf = GridSearchCV(mp['model'],mp['params'],cv =5,return_train_score=False)\n",
    "    clf.fit(X,y)\n",
    "    score.append({\n",
    "        'model' : model_name,\n",
    "        'best_score' : clf.best_score_,\n",
    "        'best_params' : clf.best_params_\n",
    "    })\n",
    "score'''"
   ]
  },
  {
   "cell_type": "markdown",
   "id": "f0a77747",
   "metadata": {
    "papermill": {
     "duration": 0.04078,
     "end_time": "2024-10-05T15:30:44.700908",
     "exception": false,
     "start_time": "2024-10-05T15:30:44.660128",
     "status": "completed"
    },
    "tags": []
   },
   "source": [
    "# **5. Final model Training**"
   ]
  },
  {
   "cell_type": "markdown",
   "id": "c21fe903",
   "metadata": {
    "papermill": {
     "duration": 0.040815,
     "end_time": "2024-10-05T15:30:44.783099",
     "exception": false,
     "start_time": "2024-10-05T15:30:44.742284",
     "status": "completed"
    },
    "tags": []
   },
   "source": [
    "> # After Implementing Parameter tunnning we can see logistic Regresssion is giving best results so let's call and fit the model >>>"
   ]
  },
  {
   "cell_type": "code",
   "execution_count": 81,
   "id": "4ab039f6",
   "metadata": {
    "execution": {
     "iopub.execute_input": "2024-10-05T15:30:44.865791Z",
     "iopub.status.busy": "2024-10-05T15:30:44.864796Z",
     "iopub.status.idle": "2024-10-05T15:30:45.161868Z",
     "shell.execute_reply": "2024-10-05T15:30:45.160781Z"
    },
    "papermill": {
     "duration": 0.341091,
     "end_time": "2024-10-05T15:30:45.164033",
     "exception": false,
     "start_time": "2024-10-05T15:30:44.822942",
     "status": "completed"
    },
    "tags": []
   },
   "outputs": [
    {
     "data": {
      "text/html": [
       "<style>#sk-container-id-2 {color: black;background-color: white;}#sk-container-id-2 pre{padding: 0;}#sk-container-id-2 div.sk-toggleable {background-color: white;}#sk-container-id-2 label.sk-toggleable__label {cursor: pointer;display: block;width: 100%;margin-bottom: 0;padding: 0.3em;box-sizing: border-box;text-align: center;}#sk-container-id-2 label.sk-toggleable__label-arrow:before {content: \"▸\";float: left;margin-right: 0.25em;color: #696969;}#sk-container-id-2 label.sk-toggleable__label-arrow:hover:before {color: black;}#sk-container-id-2 div.sk-estimator:hover label.sk-toggleable__label-arrow:before {color: black;}#sk-container-id-2 div.sk-toggleable__content {max-height: 0;max-width: 0;overflow: hidden;text-align: left;background-color: #f0f8ff;}#sk-container-id-2 div.sk-toggleable__content pre {margin: 0.2em;color: black;border-radius: 0.25em;background-color: #f0f8ff;}#sk-container-id-2 input.sk-toggleable__control:checked~div.sk-toggleable__content {max-height: 200px;max-width: 100%;overflow: auto;}#sk-container-id-2 input.sk-toggleable__control:checked~label.sk-toggleable__label-arrow:before {content: \"▾\";}#sk-container-id-2 div.sk-estimator input.sk-toggleable__control:checked~label.sk-toggleable__label {background-color: #d4ebff;}#sk-container-id-2 div.sk-label input.sk-toggleable__control:checked~label.sk-toggleable__label {background-color: #d4ebff;}#sk-container-id-2 input.sk-hidden--visually {border: 0;clip: rect(1px 1px 1px 1px);clip: rect(1px, 1px, 1px, 1px);height: 1px;margin: -1px;overflow: hidden;padding: 0;position: absolute;width: 1px;}#sk-container-id-2 div.sk-estimator {font-family: monospace;background-color: #f0f8ff;border: 1px dotted black;border-radius: 0.25em;box-sizing: border-box;margin-bottom: 0.5em;}#sk-container-id-2 div.sk-estimator:hover {background-color: #d4ebff;}#sk-container-id-2 div.sk-parallel-item::after {content: \"\";width: 100%;border-bottom: 1px solid gray;flex-grow: 1;}#sk-container-id-2 div.sk-label:hover label.sk-toggleable__label {background-color: #d4ebff;}#sk-container-id-2 div.sk-serial::before {content: \"\";position: absolute;border-left: 1px solid gray;box-sizing: border-box;top: 0;bottom: 0;left: 50%;z-index: 0;}#sk-container-id-2 div.sk-serial {display: flex;flex-direction: column;align-items: center;background-color: white;padding-right: 0.2em;padding-left: 0.2em;position: relative;}#sk-container-id-2 div.sk-item {position: relative;z-index: 1;}#sk-container-id-2 div.sk-parallel {display: flex;align-items: stretch;justify-content: center;background-color: white;position: relative;}#sk-container-id-2 div.sk-item::before, #sk-container-id-2 div.sk-parallel-item::before {content: \"\";position: absolute;border-left: 1px solid gray;box-sizing: border-box;top: 0;bottom: 0;left: 50%;z-index: -1;}#sk-container-id-2 div.sk-parallel-item {display: flex;flex-direction: column;z-index: 1;position: relative;background-color: white;}#sk-container-id-2 div.sk-parallel-item:first-child::after {align-self: flex-end;width: 50%;}#sk-container-id-2 div.sk-parallel-item:last-child::after {align-self: flex-start;width: 50%;}#sk-container-id-2 div.sk-parallel-item:only-child::after {width: 0;}#sk-container-id-2 div.sk-dashed-wrapped {border: 1px dashed gray;margin: 0 0.4em 0.5em 0.4em;box-sizing: border-box;padding-bottom: 0.4em;background-color: white;}#sk-container-id-2 div.sk-label label {font-family: monospace;font-weight: bold;display: inline-block;line-height: 1.2em;}#sk-container-id-2 div.sk-label-container {text-align: center;}#sk-container-id-2 div.sk-container {/* jupyter's `normalize.less` sets `[hidden] { display: none; }` but bootstrap.min.css set `[hidden] { display: none !important; }` so we also need the `!important` here to be able to override the default hidden behavior on the sphinx rendered scikit-learn.org. See: https://github.com/scikit-learn/scikit-learn/issues/21755 */display: inline-block !important;position: relative;}#sk-container-id-2 div.sk-text-repr-fallback {display: none;}</style><div id=\"sk-container-id-2\" class=\"sk-top-container\"><div class=\"sk-text-repr-fallback\"><pre>XGBClassifier(base_score=None, booster=None, callbacks=None,\n",
       "              colsample_bylevel=None, colsample_bynode=None,\n",
       "              colsample_bytree=0.8, device=None, early_stopping_rounds=None,\n",
       "              enable_categorical=False, eval_metric=None, feature_types=None,\n",
       "              gamma=0.1, grow_policy=None, importance_type=None,\n",
       "              interaction_constraints=None, learning_rate=0.1, max_bin=None,\n",
       "              max_cat_threshold=None, max_cat_to_onehot=None,\n",
       "              max_delta_step=None, max_depth=5, max_leaves=None,\n",
       "              min_child_weight=1, missing=nan, monotone_constraints=None,\n",
       "              multi_strategy=None, n_estimators=200, n_jobs=None,\n",
       "              num_parallel_tree=None, random_state=None, ...)</pre><b>In a Jupyter environment, please rerun this cell to show the HTML representation or trust the notebook. <br />On GitHub, the HTML representation is unable to render, please try loading this page with nbviewer.org.</b></div><div class=\"sk-container\" hidden><div class=\"sk-item\"><div class=\"sk-estimator sk-toggleable\"><input class=\"sk-toggleable__control sk-hidden--visually\" id=\"sk-estimator-id-2\" type=\"checkbox\" checked><label for=\"sk-estimator-id-2\" class=\"sk-toggleable__label sk-toggleable__label-arrow\">XGBClassifier</label><div class=\"sk-toggleable__content\"><pre>XGBClassifier(base_score=None, booster=None, callbacks=None,\n",
       "              colsample_bylevel=None, colsample_bynode=None,\n",
       "              colsample_bytree=0.8, device=None, early_stopping_rounds=None,\n",
       "              enable_categorical=False, eval_metric=None, feature_types=None,\n",
       "              gamma=0.1, grow_policy=None, importance_type=None,\n",
       "              interaction_constraints=None, learning_rate=0.1, max_bin=None,\n",
       "              max_cat_threshold=None, max_cat_to_onehot=None,\n",
       "              max_delta_step=None, max_depth=5, max_leaves=None,\n",
       "              min_child_weight=1, missing=nan, monotone_constraints=None,\n",
       "              multi_strategy=None, n_estimators=200, n_jobs=None,\n",
       "              num_parallel_tree=None, random_state=None, ...)</pre></div></div></div></div></div>"
      ],
      "text/plain": [
       "XGBClassifier(base_score=None, booster=None, callbacks=None,\n",
       "              colsample_bylevel=None, colsample_bynode=None,\n",
       "              colsample_bytree=0.8, device=None, early_stopping_rounds=None,\n",
       "              enable_categorical=False, eval_metric=None, feature_types=None,\n",
       "              gamma=0.1, grow_policy=None, importance_type=None,\n",
       "              interaction_constraints=None, learning_rate=0.1, max_bin=None,\n",
       "              max_cat_threshold=None, max_cat_to_onehot=None,\n",
       "              max_delta_step=None, max_depth=5, max_leaves=None,\n",
       "              min_child_weight=1, missing=nan, monotone_constraints=None,\n",
       "              multi_strategy=None, n_estimators=200, n_jobs=None,\n",
       "              num_parallel_tree=None, random_state=None, ...)"
      ]
     },
     "execution_count": 81,
     "metadata": {},
     "output_type": "execute_result"
    }
   ],
   "source": [
    "model = XGBClassifier(colsample_bytree = 0.8, gamma = 0.1, learning_rate= 0.1, max_depth= 5, min_child_weight =1, n_estimators = 200, subsample = 1.0)\n",
    "model.fit(X,y)"
   ]
  },
  {
   "cell_type": "code",
   "execution_count": 82,
   "id": "48524c28",
   "metadata": {
    "execution": {
     "iopub.execute_input": "2024-10-05T15:30:45.249309Z",
     "iopub.status.busy": "2024-10-05T15:30:45.248223Z",
     "iopub.status.idle": "2024-10-05T15:30:45.289632Z",
     "shell.execute_reply": "2024-10-05T15:30:45.288754Z"
    },
    "papermill": {
     "duration": 0.08685,
     "end_time": "2024-10-05T15:30:45.291954",
     "exception": false,
     "start_time": "2024-10-05T15:30:45.205104",
     "status": "completed"
    },
    "tags": []
   },
   "outputs": [
    {
     "data": {
      "text/plain": [
       "0.8604425779357131"
      ]
     },
     "execution_count": 82,
     "metadata": {},
     "output_type": "execute_result"
    }
   ],
   "source": [
    "prediction = model.predict(test_data)\n",
    "model.score(X,y)"
   ]
  },
  {
   "cell_type": "code",
   "execution_count": 83,
   "id": "e362573c",
   "metadata": {
    "execution": {
     "iopub.execute_input": "2024-10-05T15:30:45.376300Z",
     "iopub.status.busy": "2024-10-05T15:30:45.375608Z",
     "iopub.status.idle": "2024-10-05T15:30:45.381459Z",
     "shell.execute_reply": "2024-10-05T15:30:45.380290Z"
    },
    "papermill": {
     "duration": 0.050604,
     "end_time": "2024-10-05T15:30:45.383770",
     "exception": false,
     "start_time": "2024-10-05T15:30:45.333166",
     "status": "completed"
    },
    "tags": []
   },
   "outputs": [],
   "source": [
    "d = {'PassengerId' : np.array(test.PassengerId) , 'Transported' : np.array(prediction.astype(bool)) }"
   ]
  },
  {
   "cell_type": "code",
   "execution_count": 84,
   "id": "2622bc92",
   "metadata": {
    "execution": {
     "iopub.execute_input": "2024-10-05T15:30:45.467312Z",
     "iopub.status.busy": "2024-10-05T15:30:45.466221Z",
     "iopub.status.idle": "2024-10-05T15:30:45.472074Z",
     "shell.execute_reply": "2024-10-05T15:30:45.471029Z"
    },
    "papermill": {
     "duration": 0.05002,
     "end_time": "2024-10-05T15:30:45.474396",
     "exception": false,
     "start_time": "2024-10-05T15:30:45.424376",
     "status": "completed"
    },
    "tags": []
   },
   "outputs": [],
   "source": [
    "submit= pd.DataFrame(d)"
   ]
  },
  {
   "cell_type": "code",
   "execution_count": 85,
   "id": "ad534ee3",
   "metadata": {
    "execution": {
     "iopub.execute_input": "2024-10-05T15:30:45.556877Z",
     "iopub.status.busy": "2024-10-05T15:30:45.556468Z",
     "iopub.status.idle": "2024-10-05T15:30:45.568221Z",
     "shell.execute_reply": "2024-10-05T15:30:45.567084Z"
    },
    "papermill": {
     "duration": 0.055709,
     "end_time": "2024-10-05T15:30:45.570501",
     "exception": false,
     "start_time": "2024-10-05T15:30:45.514792",
     "status": "completed"
    },
    "tags": []
   },
   "outputs": [
    {
     "data": {
      "text/html": [
       "<div>\n",
       "<style scoped>\n",
       "    .dataframe tbody tr th:only-of-type {\n",
       "        vertical-align: middle;\n",
       "    }\n",
       "\n",
       "    .dataframe tbody tr th {\n",
       "        vertical-align: top;\n",
       "    }\n",
       "\n",
       "    .dataframe thead th {\n",
       "        text-align: right;\n",
       "    }\n",
       "</style>\n",
       "<table border=\"1\" class=\"dataframe\">\n",
       "  <thead>\n",
       "    <tr style=\"text-align: right;\">\n",
       "      <th></th>\n",
       "      <th>PassengerId</th>\n",
       "      <th>Transported</th>\n",
       "    </tr>\n",
       "  </thead>\n",
       "  <tbody>\n",
       "    <tr>\n",
       "      <th>0</th>\n",
       "      <td>0013_01</td>\n",
       "      <td>True</td>\n",
       "    </tr>\n",
       "    <tr>\n",
       "      <th>1</th>\n",
       "      <td>0018_01</td>\n",
       "      <td>False</td>\n",
       "    </tr>\n",
       "    <tr>\n",
       "      <th>2</th>\n",
       "      <td>0019_01</td>\n",
       "      <td>True</td>\n",
       "    </tr>\n",
       "    <tr>\n",
       "      <th>3</th>\n",
       "      <td>0021_01</td>\n",
       "      <td>True</td>\n",
       "    </tr>\n",
       "    <tr>\n",
       "      <th>4</th>\n",
       "      <td>0023_01</td>\n",
       "      <td>True</td>\n",
       "    </tr>\n",
       "    <tr>\n",
       "      <th>...</th>\n",
       "      <td>...</td>\n",
       "      <td>...</td>\n",
       "    </tr>\n",
       "    <tr>\n",
       "      <th>4272</th>\n",
       "      <td>9266_02</td>\n",
       "      <td>True</td>\n",
       "    </tr>\n",
       "    <tr>\n",
       "      <th>4273</th>\n",
       "      <td>9269_01</td>\n",
       "      <td>True</td>\n",
       "    </tr>\n",
       "    <tr>\n",
       "      <th>4274</th>\n",
       "      <td>9271_01</td>\n",
       "      <td>True</td>\n",
       "    </tr>\n",
       "    <tr>\n",
       "      <th>4275</th>\n",
       "      <td>9273_01</td>\n",
       "      <td>True</td>\n",
       "    </tr>\n",
       "    <tr>\n",
       "      <th>4276</th>\n",
       "      <td>9277_01</td>\n",
       "      <td>True</td>\n",
       "    </tr>\n",
       "  </tbody>\n",
       "</table>\n",
       "<p>4277 rows × 2 columns</p>\n",
       "</div>"
      ],
      "text/plain": [
       "     PassengerId  Transported\n",
       "0        0013_01         True\n",
       "1        0018_01        False\n",
       "2        0019_01         True\n",
       "3        0021_01         True\n",
       "4        0023_01         True\n",
       "...          ...          ...\n",
       "4272     9266_02         True\n",
       "4273     9269_01         True\n",
       "4274     9271_01         True\n",
       "4275     9273_01         True\n",
       "4276     9277_01         True\n",
       "\n",
       "[4277 rows x 2 columns]"
      ]
     },
     "execution_count": 85,
     "metadata": {},
     "output_type": "execute_result"
    }
   ],
   "source": [
    "submit"
   ]
  },
  {
   "cell_type": "code",
   "execution_count": 86,
   "id": "3cc0e0b1",
   "metadata": {
    "execution": {
     "iopub.execute_input": "2024-10-05T15:30:45.655453Z",
     "iopub.status.busy": "2024-10-05T15:30:45.654293Z",
     "iopub.status.idle": "2024-10-05T15:30:45.666169Z",
     "shell.execute_reply": "2024-10-05T15:30:45.665174Z"
    },
    "papermill": {
     "duration": 0.056711,
     "end_time": "2024-10-05T15:30:45.668860",
     "exception": false,
     "start_time": "2024-10-05T15:30:45.612149",
     "status": "completed"
    },
    "tags": []
   },
   "outputs": [],
   "source": [
    "submit.to_csv('\\Prediction.csv', index=False)"
   ]
  },
  {
   "cell_type": "code",
   "execution_count": null,
   "id": "8718a6da",
   "metadata": {
    "papermill": {
     "duration": 0.041042,
     "end_time": "2024-10-05T15:30:45.751420",
     "exception": false,
     "start_time": "2024-10-05T15:30:45.710378",
     "status": "completed"
    },
    "tags": []
   },
   "outputs": [],
   "source": []
  },
  {
   "cell_type": "code",
   "execution_count": null,
   "id": "cf3fd8f8",
   "metadata": {
    "papermill": {
     "duration": 0.040945,
     "end_time": "2024-10-05T15:30:45.832713",
     "exception": false,
     "start_time": "2024-10-05T15:30:45.791768",
     "status": "completed"
    },
    "tags": []
   },
   "outputs": [],
   "source": []
  },
  {
   "cell_type": "code",
   "execution_count": null,
   "id": "1dda67b6",
   "metadata": {
    "papermill": {
     "duration": 0.04075,
     "end_time": "2024-10-05T15:30:45.914005",
     "exception": false,
     "start_time": "2024-10-05T15:30:45.873255",
     "status": "completed"
    },
    "tags": []
   },
   "outputs": [],
   "source": []
  },
  {
   "cell_type": "code",
   "execution_count": null,
   "id": "7b0ef817",
   "metadata": {
    "papermill": {
     "duration": 0.040308,
     "end_time": "2024-10-05T15:30:45.994882",
     "exception": false,
     "start_time": "2024-10-05T15:30:45.954574",
     "status": "completed"
    },
    "tags": []
   },
   "outputs": [],
   "source": []
  }
 ],
 "metadata": {
  "kaggle": {
   "accelerator": "none",
   "dataSources": [
    {
     "databundleVersionId": 3220602,
     "sourceId": 34377,
     "sourceType": "competition"
    }
   ],
   "dockerImageVersionId": 30761,
   "isGpuEnabled": false,
   "isInternetEnabled": true,
   "language": "python",
   "sourceType": "notebook"
  },
  "kernelspec": {
   "display_name": "Python 3",
   "language": "python",
   "name": "python3"
  },
  "language_info": {
   "codemirror_mode": {
    "name": "ipython",
    "version": 3
   },
   "file_extension": ".py",
   "mimetype": "text/x-python",
   "name": "python",
   "nbconvert_exporter": "python",
   "pygments_lexer": "ipython3",
   "version": "3.10.14"
  },
  "papermill": {
   "default_parameters": {},
   "duration": 66.200737,
   "end_time": "2024-10-05T15:30:46.759564",
   "environment_variables": {},
   "exception": null,
   "input_path": "__notebook__.ipynb",
   "output_path": "__notebook__.ipynb",
   "parameters": {},
   "start_time": "2024-10-05T15:29:40.558827",
   "version": "2.6.0"
  }
 },
 "nbformat": 4,
 "nbformat_minor": 5
}
